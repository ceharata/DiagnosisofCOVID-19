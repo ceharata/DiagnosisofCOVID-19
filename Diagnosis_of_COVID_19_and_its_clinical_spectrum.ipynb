{
  "nbformat": 4,
  "nbformat_minor": 0,
  "metadata": {
    "colab": {
      "name": "Diagnosis of COVID-19 and its clinical spectrum.ipynb",
      "provenance": [],
      "authorship_tag": "ABX9TyNU2na6DOnpmZDZE5KFzeQP",
      "include_colab_link": true
    },
    "kernelspec": {
      "name": "python3",
      "display_name": "Python 3"
    }
  },
  "cells": [
    {
      "cell_type": "markdown",
      "metadata": {
        "id": "view-in-github",
        "colab_type": "text"
      },
      "source": [
        "<a href=\"https://colab.research.google.com/github/ceharata/DiagnosisofCOVID-19/blob/master/Diagnosis_of_COVID_19_and_its_clinical_spectrum.ipynb\" target=\"_parent\"><img src=\"https://colab.research.google.com/assets/colab-badge.svg\" alt=\"Open In Colab\"/></a>"
      ]
    },
    {
      "cell_type": "code",
      "metadata": {
        "id": "9jJKgOKTlgfz",
        "colab_type": "code",
        "colab": {
          "base_uri": "https://localhost:8080/",
          "height": 374
        },
        "outputId": "3890f9f3-c0c0-47d9-d892-86efbe732777"
      },
      "source": [
        "from google.colab import drive\n",
        "import seaborn as sns\n",
        "from sklearn.linear_model import LinearRegression\n",
        "from sklearn.neighbors import KNeighborsClassifier\n",
        "import pandas as pd\n",
        "from sklearn import metrics\n",
        "import statsmodels.api as sm\n",
        "import matplotlib.pyplot as plt\n",
        "from datetime import datetime, date\n",
        "import numpy as np\n",
        "\n",
        "\n",
        "drive.mount('/content/drive')\n",
        "dataset = pd.read_excel(\"/content/drive/My Drive/Colab Notebooks/COVID-19/data/dataset.xlsx\")\n",
        "dataset_blood = pd.read_excel(\"/content/drive/My Drive/Colab Notebooks/COVID-19/data/dataset_blood.xlsx\")\n",
        "test = pd.read_excel(\"/content/drive/My Drive/Colab Notebooks/COVID-19/data/teste_covid.xlsx\")\n",
        "dataset = dataset.replace(np.nan, 0, regex=True)\n",
        "dataset_blood = dataset.replace(np.nan, 0, regex=True)\n",
        "test = test.replace(np.nan, 0, regex=True)\n",
        "dataset.head()"
      ],
      "execution_count": 103,
      "outputs": [
        {
          "output_type": "stream",
          "text": [
            "Drive already mounted at /content/drive; to attempt to forcibly remount, call drive.mount(\"/content/drive\", force_remount=True).\n"
          ],
          "name": "stdout"
        },
        {
          "output_type": "execute_result",
          "data": {
            "text/html": [
              "<div>\n",
              "<style scoped>\n",
              "    .dataframe tbody tr th:only-of-type {\n",
              "        vertical-align: middle;\n",
              "    }\n",
              "\n",
              "    .dataframe tbody tr th {\n",
              "        vertical-align: top;\n",
              "    }\n",
              "\n",
              "    .dataframe thead th {\n",
              "        text-align: right;\n",
              "    }\n",
              "</style>\n",
              "<table border=\"1\" class=\"dataframe\">\n",
              "  <thead>\n",
              "    <tr style=\"text-align: right;\">\n",
              "      <th></th>\n",
              "      <th>Patient ID</th>\n",
              "      <th>Patient age quantile</th>\n",
              "      <th>SARS-Cov-2 exam result</th>\n",
              "      <th>Patient addmited to regular ward (1=yes, 0=no)</th>\n",
              "      <th>Patient addmited to semi-intensive unit (1=yes, 0=no)</th>\n",
              "      <th>Patient addmited to intensive care unit (1=yes, 0=no)</th>\n",
              "      <th>Hematocrit</th>\n",
              "      <th>Hemoglobin</th>\n",
              "      <th>Platelets</th>\n",
              "      <th>Mean platelet volume</th>\n",
              "      <th>Red blood Cells</th>\n",
              "      <th>Lymphocytes</th>\n",
              "      <th>Mean corpuscular hemoglobin concentration (MCHC)</th>\n",
              "      <th>Leukocytes</th>\n",
              "      <th>Basophils</th>\n",
              "      <th>Mean corpuscular hemoglobin (MCH)</th>\n",
              "      <th>Eosinophils</th>\n",
              "      <th>Mean corpuscular volume (MCV)</th>\n",
              "      <th>Monocytes</th>\n",
              "      <th>Red blood cell distribution width (RDW)</th>\n",
              "      <th>Serum Glucose</th>\n",
              "      <th>Respiratory Syncytial Virus</th>\n",
              "      <th>Influenza A</th>\n",
              "      <th>Influenza B</th>\n",
              "      <th>Parainfluenza 1</th>\n",
              "      <th>CoronavirusNL63</th>\n",
              "      <th>Rhinovirus/Enterovirus</th>\n",
              "      <th>Mycoplasma pneumoniae</th>\n",
              "      <th>Coronavirus HKU1</th>\n",
              "      <th>Parainfluenza 3</th>\n",
              "      <th>Chlamydophila pneumoniae</th>\n",
              "      <th>Adenovirus</th>\n",
              "      <th>Parainfluenza 4</th>\n",
              "      <th>Coronavirus229E</th>\n",
              "      <th>CoronavirusOC43</th>\n",
              "      <th>Inf A H1N1 2009</th>\n",
              "      <th>Bordetella pertussis</th>\n",
              "      <th>Metapneumovirus</th>\n",
              "      <th>Parainfluenza 2</th>\n",
              "      <th>Neutrophils</th>\n",
              "      <th>...</th>\n",
              "      <th>Urine - Esterase</th>\n",
              "      <th>Urine - Aspect</th>\n",
              "      <th>Urine - pH</th>\n",
              "      <th>Urine - Hemoglobin</th>\n",
              "      <th>Urine - Bile pigments</th>\n",
              "      <th>Urine - Ketone Bodies</th>\n",
              "      <th>Urine - Nitrite</th>\n",
              "      <th>Urine - Density</th>\n",
              "      <th>Urine - Urobilinogen</th>\n",
              "      <th>Urine - Protein</th>\n",
              "      <th>Urine - Sugar</th>\n",
              "      <th>Urine - Leukocytes</th>\n",
              "      <th>Urine - Crystals</th>\n",
              "      <th>Urine - Red blood cells</th>\n",
              "      <th>Urine - Hyaline cylinders</th>\n",
              "      <th>Urine - Granular cylinders</th>\n",
              "      <th>Urine - Yeasts</th>\n",
              "      <th>Urine - Color</th>\n",
              "      <th>Partial thromboplastin time (PTT)</th>\n",
              "      <th>Relationship (Patient/Normal)</th>\n",
              "      <th>International normalized ratio (INR)</th>\n",
              "      <th>Lactic Dehydrogenase</th>\n",
              "      <th>Prothrombin time (PT), Activity</th>\n",
              "      <th>Vitamin B12</th>\n",
              "      <th>Creatine phosphokinase (CPK)</th>\n",
              "      <th>Ferritin</th>\n",
              "      <th>Arterial Lactic Acid</th>\n",
              "      <th>Lipase dosage</th>\n",
              "      <th>D-Dimer</th>\n",
              "      <th>Albumin</th>\n",
              "      <th>Hb saturation (arterial blood gases)</th>\n",
              "      <th>pCO2 (arterial blood gas analysis)</th>\n",
              "      <th>Base excess (arterial blood gas analysis)</th>\n",
              "      <th>pH (arterial blood gas analysis)</th>\n",
              "      <th>Total CO2 (arterial blood gas analysis)</th>\n",
              "      <th>HCO3 (arterial blood gas analysis)</th>\n",
              "      <th>pO2 (arterial blood gas analysis)</th>\n",
              "      <th>Arteiral Fio2</th>\n",
              "      <th>Phosphor</th>\n",
              "      <th>ctO2 (arterial blood gas analysis)</th>\n",
              "    </tr>\n",
              "  </thead>\n",
              "  <tbody>\n",
              "    <tr>\n",
              "      <th>0</th>\n",
              "      <td>89fbf544d6a3bb6</td>\n",
              "      <td>10.0</td>\n",
              "      <td>negative</td>\n",
              "      <td>0.0</td>\n",
              "      <td>0.0</td>\n",
              "      <td>0.0</td>\n",
              "      <td>2.662704</td>\n",
              "      <td>2.671868</td>\n",
              "      <td>-1.158065</td>\n",
              "      <td>-0.101517</td>\n",
              "      <td>3.028643</td>\n",
              "      <td>0.053965</td>\n",
              "      <td>0.542882</td>\n",
              "      <td>-0.250447</td>\n",
              "      <td>-0.223767</td>\n",
              "      <td>-0.710443</td>\n",
              "      <td>0.007280</td>\n",
              "      <td>-1.055610</td>\n",
              "      <td>-0.666718</td>\n",
              "      <td>0.171035</td>\n",
              "      <td>-0.625200</td>\n",
              "      <td>0.0</td>\n",
              "      <td>0.0</td>\n",
              "      <td>0.0</td>\n",
              "      <td>0.0</td>\n",
              "      <td>0.0</td>\n",
              "      <td>0.0</td>\n",
              "      <td>0.0</td>\n",
              "      <td>0.0</td>\n",
              "      <td>0.0</td>\n",
              "      <td>0.0</td>\n",
              "      <td>0.0</td>\n",
              "      <td>0.0</td>\n",
              "      <td>0.0</td>\n",
              "      <td>0.0</td>\n",
              "      <td>0.0</td>\n",
              "      <td>0.0</td>\n",
              "      <td>0.0</td>\n",
              "      <td>0.0</td>\n",
              "      <td>0.241373</td>\n",
              "      <td>...</td>\n",
              "      <td>0.0</td>\n",
              "      <td>0</td>\n",
              "      <td>0.0</td>\n",
              "      <td>0.0</td>\n",
              "      <td>0.0</td>\n",
              "      <td>0.0</td>\n",
              "      <td>0.0</td>\n",
              "      <td>0.0</td>\n",
              "      <td>0</td>\n",
              "      <td>0.0</td>\n",
              "      <td>0.0</td>\n",
              "      <td>0.0</td>\n",
              "      <td>0</td>\n",
              "      <td>0.0</td>\n",
              "      <td>0.0</td>\n",
              "      <td>0.0</td>\n",
              "      <td>0.0</td>\n",
              "      <td>0</td>\n",
              "      <td>0.0</td>\n",
              "      <td>0.0</td>\n",
              "      <td>0.000000</td>\n",
              "      <td>0.0</td>\n",
              "      <td>0.0</td>\n",
              "      <td>0.0</td>\n",
              "      <td>0.0</td>\n",
              "      <td>0.0</td>\n",
              "      <td>0.0</td>\n",
              "      <td>0.0</td>\n",
              "      <td>0.0</td>\n",
              "      <td>0.0</td>\n",
              "      <td>0.0</td>\n",
              "      <td>0.0</td>\n",
              "      <td>0.0</td>\n",
              "      <td>0.0</td>\n",
              "      <td>0.0</td>\n",
              "      <td>0.0</td>\n",
              "      <td>0.0</td>\n",
              "      <td>0.0</td>\n",
              "      <td>0.0</td>\n",
              "      <td>0.0</td>\n",
              "    </tr>\n",
              "    <tr>\n",
              "      <th>1</th>\n",
              "      <td>c25ff06f215d126</td>\n",
              "      <td>18.0</td>\n",
              "      <td>negative</td>\n",
              "      <td>0.0</td>\n",
              "      <td>1.0</td>\n",
              "      <td>0.0</td>\n",
              "      <td>2.433818</td>\n",
              "      <td>1.606716</td>\n",
              "      <td>-0.542537</td>\n",
              "      <td>-0.101517</td>\n",
              "      <td>3.645706</td>\n",
              "      <td>-1.353327</td>\n",
              "      <td>-2.046149</td>\n",
              "      <td>1.945176</td>\n",
              "      <td>-0.223767</td>\n",
              "      <td>-2.801307</td>\n",
              "      <td>-0.456253</td>\n",
              "      <td>-2.177267</td>\n",
              "      <td>-0.692982</td>\n",
              "      <td>3.267013</td>\n",
              "      <td>1.948981</td>\n",
              "      <td>0.0</td>\n",
              "      <td>0.0</td>\n",
              "      <td>0.0</td>\n",
              "      <td>0.0</td>\n",
              "      <td>0.0</td>\n",
              "      <td>0.0</td>\n",
              "      <td>0.0</td>\n",
              "      <td>0.0</td>\n",
              "      <td>0.0</td>\n",
              "      <td>0.0</td>\n",
              "      <td>0.0</td>\n",
              "      <td>0.0</td>\n",
              "      <td>0.0</td>\n",
              "      <td>0.0</td>\n",
              "      <td>0.0</td>\n",
              "      <td>0.0</td>\n",
              "      <td>0.0</td>\n",
              "      <td>0.0</td>\n",
              "      <td>1.691860</td>\n",
              "      <td>...</td>\n",
              "      <td>0.0</td>\n",
              "      <td>0</td>\n",
              "      <td>0.0</td>\n",
              "      <td>0.0</td>\n",
              "      <td>0.0</td>\n",
              "      <td>0.0</td>\n",
              "      <td>0.0</td>\n",
              "      <td>0.0</td>\n",
              "      <td>0</td>\n",
              "      <td>0.0</td>\n",
              "      <td>0.0</td>\n",
              "      <td>0.0</td>\n",
              "      <td>0</td>\n",
              "      <td>0.0</td>\n",
              "      <td>0.0</td>\n",
              "      <td>0.0</td>\n",
              "      <td>0.0</td>\n",
              "      <td>0</td>\n",
              "      <td>0.0</td>\n",
              "      <td>0.0</td>\n",
              "      <td>0.918997</td>\n",
              "      <td>0.0</td>\n",
              "      <td>0.0</td>\n",
              "      <td>0.0</td>\n",
              "      <td>0.0</td>\n",
              "      <td>0.0</td>\n",
              "      <td>0.0</td>\n",
              "      <td>0.0</td>\n",
              "      <td>0.0</td>\n",
              "      <td>0.0</td>\n",
              "      <td>0.0</td>\n",
              "      <td>0.0</td>\n",
              "      <td>0.0</td>\n",
              "      <td>0.0</td>\n",
              "      <td>0.0</td>\n",
              "      <td>0.0</td>\n",
              "      <td>0.0</td>\n",
              "      <td>0.0</td>\n",
              "      <td>0.0</td>\n",
              "      <td>0.0</td>\n",
              "    </tr>\n",
              "    <tr>\n",
              "      <th>2</th>\n",
              "      <td>6628411b99775e9</td>\n",
              "      <td>6.0</td>\n",
              "      <td>negative</td>\n",
              "      <td>0.0</td>\n",
              "      <td>0.0</td>\n",
              "      <td>0.0</td>\n",
              "      <td>2.410930</td>\n",
              "      <td>2.170619</td>\n",
              "      <td>0.462408</td>\n",
              "      <td>-0.213711</td>\n",
              "      <td>1.847410</td>\n",
              "      <td>-0.594242</td>\n",
              "      <td>-0.253742</td>\n",
              "      <td>1.085293</td>\n",
              "      <td>-0.834685</td>\n",
              "      <td>0.282719</td>\n",
              "      <td>-0.709090</td>\n",
              "      <td>0.466636</td>\n",
              "      <td>-0.404086</td>\n",
              "      <td>0.790231</td>\n",
              "      <td>0.000000</td>\n",
              "      <td>0.0</td>\n",
              "      <td>0.0</td>\n",
              "      <td>0.0</td>\n",
              "      <td>0.0</td>\n",
              "      <td>0.0</td>\n",
              "      <td>1.0</td>\n",
              "      <td>0.0</td>\n",
              "      <td>0.0</td>\n",
              "      <td>0.0</td>\n",
              "      <td>0.0</td>\n",
              "      <td>0.0</td>\n",
              "      <td>0.0</td>\n",
              "      <td>0.0</td>\n",
              "      <td>0.0</td>\n",
              "      <td>0.0</td>\n",
              "      <td>0.0</td>\n",
              "      <td>0.0</td>\n",
              "      <td>0.0</td>\n",
              "      <td>0.937934</td>\n",
              "      <td>...</td>\n",
              "      <td>0.0</td>\n",
              "      <td>0</td>\n",
              "      <td>0.0</td>\n",
              "      <td>0.0</td>\n",
              "      <td>0.0</td>\n",
              "      <td>0.0</td>\n",
              "      <td>0.0</td>\n",
              "      <td>0.0</td>\n",
              "      <td>0</td>\n",
              "      <td>0.0</td>\n",
              "      <td>0.0</td>\n",
              "      <td>0.0</td>\n",
              "      <td>0</td>\n",
              "      <td>0.0</td>\n",
              "      <td>0.0</td>\n",
              "      <td>0.0</td>\n",
              "      <td>0.0</td>\n",
              "      <td>0</td>\n",
              "      <td>0.0</td>\n",
              "      <td>0.0</td>\n",
              "      <td>0.000000</td>\n",
              "      <td>0.0</td>\n",
              "      <td>0.0</td>\n",
              "      <td>0.0</td>\n",
              "      <td>0.0</td>\n",
              "      <td>0.0</td>\n",
              "      <td>0.0</td>\n",
              "      <td>0.0</td>\n",
              "      <td>0.0</td>\n",
              "      <td>0.0</td>\n",
              "      <td>0.0</td>\n",
              "      <td>0.0</td>\n",
              "      <td>0.0</td>\n",
              "      <td>0.0</td>\n",
              "      <td>0.0</td>\n",
              "      <td>0.0</td>\n",
              "      <td>0.0</td>\n",
              "      <td>0.0</td>\n",
              "      <td>0.0</td>\n",
              "      <td>0.0</td>\n",
              "    </tr>\n",
              "    <tr>\n",
              "      <th>3</th>\n",
              "      <td>b41882de14f32e3</td>\n",
              "      <td>13.0</td>\n",
              "      <td>negative</td>\n",
              "      <td>0.0</td>\n",
              "      <td>0.0</td>\n",
              "      <td>0.0</td>\n",
              "      <td>2.136267</td>\n",
              "      <td>2.483899</td>\n",
              "      <td>0.675959</td>\n",
              "      <td>1.356995</td>\n",
              "      <td>1.565324</td>\n",
              "      <td>0.540121</td>\n",
              "      <td>1.538664</td>\n",
              "      <td>1.068597</td>\n",
              "      <td>4.663579</td>\n",
              "      <td>1.223607</td>\n",
              "      <td>0.175837</td>\n",
              "      <td>0.546754</td>\n",
              "      <td>0.305020</td>\n",
              "      <td>0.259492</td>\n",
              "      <td>0.000000</td>\n",
              "      <td>0.0</td>\n",
              "      <td>0.0</td>\n",
              "      <td>0.0</td>\n",
              "      <td>0.0</td>\n",
              "      <td>0.0</td>\n",
              "      <td>0.0</td>\n",
              "      <td>0.0</td>\n",
              "      <td>0.0</td>\n",
              "      <td>0.0</td>\n",
              "      <td>0.0</td>\n",
              "      <td>0.0</td>\n",
              "      <td>0.0</td>\n",
              "      <td>0.0</td>\n",
              "      <td>0.0</td>\n",
              "      <td>0.0</td>\n",
              "      <td>0.0</td>\n",
              "      <td>0.0</td>\n",
              "      <td>0.0</td>\n",
              "      <td>-0.799373</td>\n",
              "      <td>...</td>\n",
              "      <td>0.0</td>\n",
              "      <td>0</td>\n",
              "      <td>0.0</td>\n",
              "      <td>0.0</td>\n",
              "      <td>0.0</td>\n",
              "      <td>0.0</td>\n",
              "      <td>0.0</td>\n",
              "      <td>0.0</td>\n",
              "      <td>0</td>\n",
              "      <td>0.0</td>\n",
              "      <td>0.0</td>\n",
              "      <td>0.0</td>\n",
              "      <td>0</td>\n",
              "      <td>0.0</td>\n",
              "      <td>0.0</td>\n",
              "      <td>0.0</td>\n",
              "      <td>0.0</td>\n",
              "      <td>0</td>\n",
              "      <td>0.0</td>\n",
              "      <td>0.0</td>\n",
              "      <td>0.000000</td>\n",
              "      <td>0.0</td>\n",
              "      <td>0.0</td>\n",
              "      <td>0.0</td>\n",
              "      <td>0.0</td>\n",
              "      <td>0.0</td>\n",
              "      <td>0.0</td>\n",
              "      <td>0.0</td>\n",
              "      <td>0.0</td>\n",
              "      <td>0.0</td>\n",
              "      <td>0.0</td>\n",
              "      <td>0.0</td>\n",
              "      <td>0.0</td>\n",
              "      <td>0.0</td>\n",
              "      <td>0.0</td>\n",
              "      <td>0.0</td>\n",
              "      <td>0.0</td>\n",
              "      <td>0.0</td>\n",
              "      <td>0.0</td>\n",
              "      <td>0.0</td>\n",
              "    </tr>\n",
              "    <tr>\n",
              "      <th>4</th>\n",
              "      <td>6eb7cb571bdedaf</td>\n",
              "      <td>5.0</td>\n",
              "      <td>negative</td>\n",
              "      <td>0.0</td>\n",
              "      <td>0.0</td>\n",
              "      <td>0.0</td>\n",
              "      <td>2.090489</td>\n",
              "      <td>2.045308</td>\n",
              "      <td>-0.768649</td>\n",
              "      <td>1.469188</td>\n",
              "      <td>1.935561</td>\n",
              "      <td>-0.236022</td>\n",
              "      <td>0.244149</td>\n",
              "      <td>-0.211488</td>\n",
              "      <td>0.081693</td>\n",
              "      <td>-0.030911</td>\n",
              "      <td>-0.245556</td>\n",
              "      <td>-0.174311</td>\n",
              "      <td>2.248498</td>\n",
              "      <td>0.436405</td>\n",
              "      <td>0.000000</td>\n",
              "      <td>0.0</td>\n",
              "      <td>0.0</td>\n",
              "      <td>0.0</td>\n",
              "      <td>0.0</td>\n",
              "      <td>0.0</td>\n",
              "      <td>0.0</td>\n",
              "      <td>0.0</td>\n",
              "      <td>0.0</td>\n",
              "      <td>0.0</td>\n",
              "      <td>0.0</td>\n",
              "      <td>0.0</td>\n",
              "      <td>0.0</td>\n",
              "      <td>0.0</td>\n",
              "      <td>0.0</td>\n",
              "      <td>0.0</td>\n",
              "      <td>0.0</td>\n",
              "      <td>0.0</td>\n",
              "      <td>0.0</td>\n",
              "      <td>-0.348656</td>\n",
              "      <td>...</td>\n",
              "      <td>0.0</td>\n",
              "      <td>0</td>\n",
              "      <td>0.0</td>\n",
              "      <td>0.0</td>\n",
              "      <td>0.0</td>\n",
              "      <td>0.0</td>\n",
              "      <td>0.0</td>\n",
              "      <td>0.0</td>\n",
              "      <td>0</td>\n",
              "      <td>0.0</td>\n",
              "      <td>0.0</td>\n",
              "      <td>0.0</td>\n",
              "      <td>0</td>\n",
              "      <td>0.0</td>\n",
              "      <td>0.0</td>\n",
              "      <td>0.0</td>\n",
              "      <td>0.0</td>\n",
              "      <td>0</td>\n",
              "      <td>0.0</td>\n",
              "      <td>0.0</td>\n",
              "      <td>0.000000</td>\n",
              "      <td>0.0</td>\n",
              "      <td>0.0</td>\n",
              "      <td>0.0</td>\n",
              "      <td>0.0</td>\n",
              "      <td>0.0</td>\n",
              "      <td>0.0</td>\n",
              "      <td>0.0</td>\n",
              "      <td>0.0</td>\n",
              "      <td>0.0</td>\n",
              "      <td>0.0</td>\n",
              "      <td>0.0</td>\n",
              "      <td>0.0</td>\n",
              "      <td>0.0</td>\n",
              "      <td>0.0</td>\n",
              "      <td>0.0</td>\n",
              "      <td>0.0</td>\n",
              "      <td>0.0</td>\n",
              "      <td>0.0</td>\n",
              "      <td>0.0</td>\n",
              "    </tr>\n",
              "  </tbody>\n",
              "</table>\n",
              "<p>5 rows × 111 columns</p>\n",
              "</div>"
            ],
            "text/plain": [
              "        Patient ID  ...  ctO2 (arterial blood gas analysis)\n",
              "0  89fbf544d6a3bb6  ...                                 0.0\n",
              "1  c25ff06f215d126  ...                                 0.0\n",
              "2  6628411b99775e9  ...                                 0.0\n",
              "3  b41882de14f32e3  ...                                 0.0\n",
              "4  6eb7cb571bdedaf  ...                                 0.0\n",
              "\n",
              "[5 rows x 111 columns]"
            ]
          },
          "metadata": {
            "tags": []
          },
          "execution_count": 103
        }
      ]
    },
    {
      "cell_type": "markdown",
      "metadata": {
        "id": "VTlJIYc_qNWZ",
        "colab_type": "text"
      },
      "source": [
        "Data explore"
      ]
    },
    {
      "cell_type": "code",
      "metadata": {
        "id": "KNU8bhrTnMUa",
        "colab_type": "code",
        "colab": {
          "base_uri": "https://localhost:8080/",
          "height": 74
        },
        "outputId": "1fff1b1c-88f7-435f-e920-7826982cefeb"
      },
      "source": [
        "dataset['SARS-Cov-2 exam result'].value_counts()"
      ],
      "execution_count": 5,
      "outputs": [
        {
          "output_type": "execute_result",
          "data": {
            "text/plain": [
              "negative    5086\n",
              "positive     558\n",
              "Name: SARS-Cov-2 exam result, dtype: int64"
            ]
          },
          "metadata": {
            "tags": []
          },
          "execution_count": 5
        }
      ]
    },
    {
      "cell_type": "markdown",
      "metadata": {
        "id": "v-TxClXUqSgl",
        "colab_type": "text"
      },
      "source": [
        "replace values to predict"
      ]
    },
    {
      "cell_type": "code",
      "metadata": {
        "id": "fOAf17oJnQzo",
        "colab_type": "code",
        "colab": {
          "base_uri": "https://localhost:8080/",
          "height": 302
        },
        "outputId": "4bfc35eb-66bf-46e7-dee9-bd4f1e9e05f0"
      },
      "source": [
        "for n,i in enumerate(dataset['SARS-Cov-2 exam result']):\n",
        "  if i == 'positive':\n",
        "     dataset['SARS-Cov-2 exam result'][n] = 1\n",
        "  else:\n",
        "    dataset['SARS-Cov-2 exam result'][n] = 0\n",
        "dataset['SARS-Cov-2 exam result'].value_counts()\n",
        "\n",
        "for n,i in enumerate(dataset_blood['SARS-Cov-2 exam result']):\n",
        "  if i == 'positive':\n",
        "     dataset_blood['SARS-Cov-2 exam result'][n] = 1\n",
        "  else:\n",
        "    dataset_blood['SARS-Cov-2 exam result'][n] = 0\n",
        "dataset_blood['SARS-Cov-2 exam result'].value_counts()\n",
        "\n",
        "dataset['SARS-Cov-2 exam result'] = dataset['SARS-Cov-2 exam result'].astype('int')\n",
        "dataset_blood['SARS-Cov-2 exam result'] = dataset_blood['SARS-Cov-2 exam result'].astype('int')"
      ],
      "execution_count": 111,
      "outputs": [
        {
          "output_type": "stream",
          "text": [
            "/usr/local/lib/python3.6/dist-packages/ipykernel_launcher.py:5: SettingWithCopyWarning: \n",
            "A value is trying to be set on a copy of a slice from a DataFrame\n",
            "\n",
            "See the caveats in the documentation: http://pandas.pydata.org/pandas-docs/stable/user_guide/indexing.html#returning-a-view-versus-a-copy\n",
            "  \"\"\"\n",
            "/usr/local/lib/python3.6/dist-packages/ipykernel_launcher.py:12: SettingWithCopyWarning: \n",
            "A value is trying to be set on a copy of a slice from a DataFrame\n",
            "\n",
            "See the caveats in the documentation: http://pandas.pydata.org/pandas-docs/stable/user_guide/indexing.html#returning-a-view-versus-a-copy\n",
            "  if sys.path[0] == '':\n",
            "/usr/local/lib/python3.6/dist-packages/ipykernel_launcher.py:10: SettingWithCopyWarning: \n",
            "A value is trying to be set on a copy of a slice from a DataFrame\n",
            "\n",
            "See the caveats in the documentation: http://pandas.pydata.org/pandas-docs/stable/user_guide/indexing.html#returning-a-view-versus-a-copy\n",
            "  # Remove the CWD from sys.path while we load stuff.\n"
          ],
          "name": "stderr"
        }
      ]
    },
    {
      "cell_type": "markdown",
      "metadata": {
        "id": "hLzpFv1cjXg1",
        "colab_type": "text"
      },
      "source": [
        "predict by blood exam with KNeighbors"
      ]
    },
    {
      "cell_type": "code",
      "metadata": {
        "id": "86pHKiSvrXjP",
        "colab_type": "code",
        "colab": {
          "base_uri": "https://localhost:8080/",
          "height": 74
        },
        "outputId": "e0c634d3-d86a-4522-96bb-2769b54dd11f"
      },
      "source": [
        "kviz_age = KNeighborsClassifier(n_neighbors=2)\n",
        "kviz = KNeighborsClassifier(n_neighbors=2)\n",
        "\n",
        "kviz.fit(dataset_blood[['Patient age quantile','Hematocrit',\t'Hemoglobin',\t'Platelets',\t'Mean platelet volume ',\t'Red blood Cells',\t'Lymphocytes',\t'Mean corpuscular hemoglobin concentration (MCHC)',\t'Leukocytes',\t'Basophils',\t'Mean corpuscular hemoglobin (MCH)',\t'Eosinophils',\t'Mean corpuscular volume (MCV)',\t'Monocytes',\t'Red blood cell distribution width (RDW)',\t'Serum Glucose',\t'Neutrophils',\t'Urea',\t'Proteina C reativa mg/dL',\t'Creatinine',\t'Potassium',\t'Sodium',\t'Influenza B, rapid test',\t'Influenza A, rapid test',\t'Alanine transaminase',\t'Aspartate transaminase',\t'Gamma-glutamyltransferase ',\t'Total Bilirubin',\t'Direct Bilirubin',\t'Indirect Bilirubin',\t'Alkaline phosphatase',\t'Ionized calcium ',\t'Strepto A',\t'Magnesium',\t'pCO2 (venous blood gas analysis)',\t'Hb saturation (venous blood gas analysis)',\t'Base excess (venous blood gas analysis)',\t'pO2 (venous blood gas analysis)',\t'Fio2 (venous blood gas analysis)',\t'Total CO2 (venous blood gas analysis)',\t'pH (venous blood gas analysis)',\t'HCO3 (venous blood gas analysis)',\t'Rods #',\t'Segmented',\t'Promyelocytes',\t'Metamyelocytes',\t'Myelocytes',\t'Myeloblasts',\t'Urine - Esterase',\t'Urine - pH',\t'Urine - Bile pigments',\t'Urine - Ketone Bodies',\t'Urine - Nitrite',\t'Urine - Density',\t'Urine - Protein',\t'Urine - Sugar',\t'Urine - Leukocytes',\t'Urine - Red blood cells',\t'Urine - Hyaline cylinders',\t'Urine - Granular cylinders',\t'Urine - Yeasts',\t'Partial thromboplastin time (PTT) ',\t'Relationship (Patient/Normal)',\t'International normalized ratio (INR)',\t'Lactic Dehydrogenase',\t'Prothrombin time (PT), Activity',\t'Vitamin B12',\t'Creatine phosphokinase (CPK) ',\t'Ferritin',\t'Arterial Lactic Acid',\t'Lipase dosage',\t'D-Dimer',\t'Albumin',\t'Hb saturation (arterial blood gases)',\t'pCO2 (arterial blood gas analysis)',\t'Base excess (arterial blood gas analysis)',\t'pH (arterial blood gas analysis)',\t'Total CO2 (arterial blood gas analysis)',\t'HCO3 (arterial blood gas analysis)',\t'pO2 (arterial blood gas analysis)',\t'Arteiral Fio2',\t'Phosphor',\t'ctO2 (arterial blood gas analysis)']] , dataset_blood['SARS-Cov-2 exam result'])\n",
        "kviz_age.fit(dataset[['Patient age quantile']] , dataset_blood['SARS-Cov-2 exam result'])"
      ],
      "execution_count": 112,
      "outputs": [
        {
          "output_type": "execute_result",
          "data": {
            "text/plain": [
              "KNeighborsClassifier(algorithm='auto', leaf_size=30, metric='minkowski',\n",
              "                     metric_params=None, n_jobs=None, n_neighbors=2, p=2,\n",
              "                     weights='uniform')"
            ]
          },
          "metadata": {
            "tags": []
          },
          "execution_count": 112
        }
      ]
    },
    {
      "cell_type": "code",
      "metadata": {
        "id": "CL3mxyOSjWi2",
        "colab_type": "code",
        "colab": {
          "base_uri": "https://localhost:8080/",
          "height": 36
        },
        "outputId": "696f3edb-0d43-481a-d42d-fbcea7ef3b20"
      },
      "source": [
        "kviz.predict(test[['Patient age quantile','Hematocrit',\t'Hemoglobin',\t'Platelets',\t'Mean platelet volume ',\t'Red blood Cells',\t'Lymphocytes',\t'Mean corpuscular hemoglobin concentration (MCHC)',\t'Leukocytes',\t'Basophils',\t'Mean corpuscular hemoglobin (MCH)',\t'Eosinophils',\t'Mean corpuscular volume (MCV)',\t'Monocytes',\t'Red blood cell distribution width (RDW)',\t'Serum Glucose',\t'Neutrophils',\t'Urea',\t'Proteina C reativa mg/dL',\t'Creatinine',\t'Potassium',\t'Sodium',\t'Influenza B, rapid test',\t'Influenza A, rapid test',\t'Alanine transaminase',\t'Aspartate transaminase',\t'Gamma-glutamyltransferase ',\t'Total Bilirubin',\t'Direct Bilirubin',\t'Indirect Bilirubin',\t'Alkaline phosphatase',\t'Ionized calcium ',\t'Strepto A',\t'Magnesium',\t'pCO2 (venous blood gas analysis)',\t'Hb saturation (venous blood gas analysis)',\t'Base excess (venous blood gas analysis)',\t'pO2 (venous blood gas analysis)',\t'Fio2 (venous blood gas analysis)',\t'Total CO2 (venous blood gas analysis)',\t'pH (venous blood gas analysis)',\t'HCO3 (venous blood gas analysis)',\t'Rods #',\t'Segmented',\t'Promyelocytes',\t'Metamyelocytes',\t'Myelocytes',\t'Myeloblasts',\t'Urine - Esterase',\t'Urine - pH',\t'Urine - Bile pigments',\t'Urine - Ketone Bodies',\t'Urine - Nitrite',\t'Urine - Density',\t'Urine - Protein',\t'Urine - Sugar',\t'Urine - Leukocytes',\t'Urine - Red blood cells',\t'Urine - Hyaline cylinders',\t'Urine - Granular cylinders',\t'Urine - Yeasts',\t'Partial thromboplastin time (PTT) ',\t'Relationship (Patient/Normal)',\t'International normalized ratio (INR)',\t'Lactic Dehydrogenase',\t'Prothrombin time (PT), Activity',\t'Vitamin B12',\t'Creatine phosphokinase (CPK) ',\t'Ferritin',\t'Arterial Lactic Acid',\t'Lipase dosage',\t'D-Dimer',\t'Albumin',\t'Hb saturation (arterial blood gases)',\t'pCO2 (arterial blood gas analysis)',\t'Base excess (arterial blood gas analysis)',\t'pH (arterial blood gas analysis)',\t'Total CO2 (arterial blood gas analysis)',\t'HCO3 (arterial blood gas analysis)',\t'pO2 (arterial blood gas analysis)',\t'Arteiral Fio2',\t'Phosphor',\t'ctO2 (arterial blood gas analysis)']])"
      ],
      "execution_count": 113,
      "outputs": [
        {
          "output_type": "execute_result",
          "data": {
            "text/plain": [
              "array([0, 0, 0, 0, 0, 0, 0, 0])"
            ]
          },
          "metadata": {
            "tags": []
          },
          "execution_count": 113
        }
      ]
    },
    {
      "cell_type": "code",
      "metadata": {
        "id": "VnQsdwfakQZ-",
        "colab_type": "code",
        "colab": {
          "base_uri": "https://localhost:8080/",
          "height": 36
        },
        "outputId": "cca16900-d857-45d5-970f-c288e7ee98c1"
      },
      "source": [
        "kviz_age.predict(test[['Patient age quantile']])"
      ],
      "execution_count": 115,
      "outputs": [
        {
          "output_type": "execute_result",
          "data": {
            "text/plain": [
              "array([0, 0, 0, 0, 0, 0, 0, 0])"
            ]
          },
          "metadata": {
            "tags": []
          },
          "execution_count": 115
        }
      ]
    },
    {
      "cell_type": "markdown",
      "metadata": {
        "id": "ObTHB17elUD6",
        "colab_type": "text"
      },
      "source": [
        "Verification by exam result for decision tree"
      ]
    },
    {
      "cell_type": "code",
      "metadata": {
        "id": "rUpk7k5Hmtrm",
        "colab_type": "code",
        "colab": {
          "base_uri": "https://localhost:8080/",
          "height": 340
        },
        "outputId": "16b302d8-8dd4-4c49-cd93-7ac3a500f579"
      },
      "source": [
        "from sklearn import tree\n",
        "\n",
        "# o classificador encontra padrões nos dados de treinamento\n",
        "clf = tree.DecisionTreeClassifier() # instância do classificador\n",
        "clf = clf.fit(dataset_blood[['Patient age quantile','Hematocrit',\t'Hemoglobin',\t'Platelets',\t'Mean platelet volume ',\t'Red blood Cells',\t'Lymphocytes',\t'Mean corpuscular hemoglobin concentration (MCHC)',\t'Leukocytes',\t'Basophils',\t'Mean corpuscular hemoglobin (MCH)',\t'Eosinophils',\t'Mean corpuscular volume (MCV)',\t'Monocytes',\t'Red blood cell distribution width (RDW)',\t'Serum Glucose',\t'Neutrophils',\t'Urea',\t'Proteina C reativa mg/dL',\t'Creatinine',\t'Potassium',\t'Sodium',\t'Influenza B, rapid test',\t'Influenza A, rapid test',\t'Alanine transaminase',\t'Aspartate transaminase',\t'Gamma-glutamyltransferase ',\t'Total Bilirubin',\t'Direct Bilirubin',\t'Indirect Bilirubin',\t'Alkaline phosphatase',\t'Ionized calcium ',\t'Strepto A',\t'Magnesium',\t'pCO2 (venous blood gas analysis)',\t'Hb saturation (venous blood gas analysis)',\t'Base excess (venous blood gas analysis)',\t'pO2 (venous blood gas analysis)',\t'Fio2 (venous blood gas analysis)',\t'Total CO2 (venous blood gas analysis)',\t'pH (venous blood gas analysis)',\t'HCO3 (venous blood gas analysis)',\t'Rods #',\t'Segmented',\t'Promyelocytes',\t'Metamyelocytes',\t'Myelocytes',\t'Myeloblasts',\t'Urine - Esterase',\t'Urine - pH',\t'Urine - Bile pigments',\t'Urine - Ketone Bodies',\t'Urine - Nitrite',\t'Urine - Density',\t'Urine - Protein',\t'Urine - Sugar',\t'Urine - Leukocytes',\t'Urine - Red blood cells',\t'Urine - Hyaline cylinders',\t'Urine - Granular cylinders',\t'Urine - Yeasts',\t'Partial thromboplastin time (PTT) ',\t'Relationship (Patient/Normal)',\t'International normalized ratio (INR)',\t'Lactic Dehydrogenase',\t'Prothrombin time (PT), Activity',\t'Vitamin B12',\t'Creatine phosphokinase (CPK) ',\t'Ferritin',\t'Arterial Lactic Acid',\t'Lipase dosage',\t'D-Dimer',\t'Albumin',\t'Hb saturation (arterial blood gases)',\t'pCO2 (arterial blood gas analysis)',\t'Base excess (arterial blood gas analysis)',\t'pH (arterial blood gas analysis)',\t'Total CO2 (arterial blood gas analysis)',\t'HCO3 (arterial blood gas analysis)',\t'pO2 (arterial blood gas analysis)',\t'Arteiral Fio2',\t'Phosphor',\t'ctO2 (arterial blood gas analysis)']] , dataset_blood['SARS-Cov-2 exam result']) # fit encontra padrões nos dados\n",
        "clf.feature_importances_\n"
      ],
      "execution_count": 128,
      "outputs": [
        {
          "output_type": "execute_result",
          "data": {
            "text/plain": [
              "array([0.03509352, 0.07300474, 0.0241784 , 0.05972362, 0.        ,\n",
              "       0.06900931, 0.03824897, 0.00917101, 0.31935333, 0.02919196,\n",
              "       0.        , 0.01796987, 0.00529881, 0.03846661, 0.01397488,\n",
              "       0.        , 0.00815201, 0.01528502, 0.02908293, 0.02972087,\n",
              "       0.        , 0.01048116, 0.00998621, 0.        , 0.        ,\n",
              "       0.        , 0.        , 0.        , 0.        , 0.06273142,\n",
              "       0.01581209, 0.        , 0.        , 0.        , 0.01069951,\n",
              "       0.        , 0.        , 0.        , 0.        , 0.        ,\n",
              "       0.01171852, 0.        , 0.01221663, 0.        , 0.        ,\n",
              "       0.        , 0.        , 0.        , 0.        , 0.        ,\n",
              "       0.        , 0.        , 0.        , 0.00917101, 0.        ,\n",
              "       0.        , 0.        , 0.01196785, 0.        , 0.        ,\n",
              "       0.        , 0.        , 0.        , 0.        , 0.        ,\n",
              "       0.        , 0.        , 0.        , 0.        , 0.        ,\n",
              "       0.        , 0.        , 0.        , 0.        , 0.03028974,\n",
              "       0.        , 0.        , 0.        , 0.        , 0.        ,\n",
              "       0.        , 0.        , 0.        ])"
            ]
          },
          "metadata": {
            "tags": []
          },
          "execution_count": 128
        }
      ]
    },
    {
      "cell_type": "code",
      "metadata": {
        "id": "XSfL1lZ7qBZD",
        "colab_type": "code",
        "colab": {
          "base_uri": "https://localhost:8080/",
          "height": 1000
        },
        "outputId": "3beb0aaa-c493-4456-f01a-bd232383bac3"
      },
      "source": [
        "for feature,importancia in zip(dataset_blood.columns,clf.feature_importances_):\n",
        "  print (\"{}:{}\".format(feature, importancia))"
      ],
      "execution_count": 129,
      "outputs": [
        {
          "output_type": "stream",
          "text": [
            "Patient ID:0.035093521392513566\n",
            "Patient age quantile:0.07300473687589554\n",
            "SARS-Cov-2 exam result:0.024178402226651755\n",
            "Patient addmited to regular ward (1=yes, 0=no):0.059723620279801715\n",
            "Patient addmited to semi-intensive unit (1=yes, 0=no):0.0\n",
            "Patient addmited to intensive care unit (1=yes, 0=no):0.06900930867654\n",
            "Hematocrit:0.038248973374810896\n",
            "Hemoglobin:0.009171012407840308\n",
            "Platelets:0.3193533275779314\n",
            "Mean platelet volume :0.029191963304532952\n",
            "Red blood Cells:0.0\n",
            "Lymphocytes:0.017969867790434985\n",
            "Mean corpuscular hemoglobin concentration (MCHC):0.005298807168974403\n",
            "Leukocytes:0.03846660969725607\n",
            "Basophils:0.013974876050042372\n",
            "Mean corpuscular hemoglobin (MCH):0.0\n",
            "Eosinophils:0.008152011029191384\n",
            "Mean corpuscular volume (MCV):0.015285020679733845\n",
            "Monocytes:0.029082931558919726\n",
            "Red blood cell distribution width (RDW):0.02972087354392692\n",
            "Serum Glucose:0.0\n",
            "Respiratory Syncytial Virus:0.010481157037531783\n",
            "Influenza A:0.009986213510759442\n",
            "Influenza B:0.0\n",
            "Parainfluenza 1:0.0\n",
            "CoronavirusNL63:0.0\n",
            "Rhinovirus/Enterovirus:0.0\n",
            "Mycoplasma pneumoniae:0.0\n",
            "Coronavirus HKU1:0.0\n",
            "Parainfluenza 3:0.06273141606663456\n",
            "Chlamydophila pneumoniae:0.015812090358345358\n",
            "Adenovirus:0.0\n",
            "Parainfluenza 4:0.0\n",
            "Coronavirus229E:0.0\n",
            "CoronavirusOC43:0.010699514475813693\n",
            "Inf A H1N1 2009:0.0\n",
            "Bordetella pertussis:0.0\n",
            "Metapneumovirus:0.0\n",
            "Parainfluenza 2:0.0\n",
            "Neutrophils:0.0\n",
            "Urea:0.011718515854462623\n",
            "Proteina C reativa mg/dL:0.0\n",
            "Creatinine:0.012216632750001535\n",
            "Potassium:0.0\n",
            "Sodium:0.0\n",
            "Influenza B, rapid test:0.0\n",
            "Influenza A, rapid test:0.0\n",
            "Alanine transaminase:0.0\n",
            "Aspartate transaminase:0.0\n",
            "Gamma-glutamyltransferase :0.0\n",
            "Total Bilirubin:0.0\n",
            "Direct Bilirubin:0.0\n",
            "Indirect Bilirubin:0.0\n",
            "Alkaline phosphatase:0.009171012407840308\n",
            "Ionized calcium :0.0\n",
            "Strepto A:0.0\n",
            "Magnesium:0.0\n",
            "pCO2 (venous blood gas analysis):0.01196784597902566\n",
            "Hb saturation (venous blood gas analysis):0.0\n",
            "Base excess (venous blood gas analysis):0.0\n",
            "pO2 (venous blood gas analysis):0.0\n",
            "Fio2 (venous blood gas analysis):0.0\n",
            "Total CO2 (venous blood gas analysis):0.0\n",
            "pH (venous blood gas analysis):0.0\n",
            "HCO3 (venous blood gas analysis):0.0\n",
            "Rods #:0.0\n",
            "Segmented:0.0\n",
            "Promyelocytes:0.0\n",
            "Metamyelocytes:0.0\n",
            "Myelocytes:0.0\n",
            "Myeloblasts:0.0\n",
            "Urine - Esterase:0.0\n",
            "Urine - Aspect:0.0\n",
            "Urine - pH:0.0\n",
            "Urine - Hemoglobin:0.03028973792458715\n",
            "Urine - Bile pigments:0.0\n",
            "Urine - Ketone Bodies:0.0\n",
            "Urine - Nitrite:0.0\n",
            "Urine - Density:0.0\n",
            "Urine - Urobilinogen:0.0\n",
            "Urine - Protein:0.0\n",
            "Urine - Sugar:0.0\n",
            "Urine - Leukocytes:0.0\n"
          ],
          "name": "stdout"
        }
      ]
    },
    {
      "cell_type": "code",
      "metadata": {
        "id": "8Dtq8fz0rYV1",
        "colab_type": "code",
        "colab": {
          "base_uri": "https://localhost:8080/",
          "height": 36
        },
        "outputId": "dc689b44-fab6-4f4c-d7a0-b2c6c53edc2e"
      },
      "source": [
        "resultado = clf.predict(test[['Patient age quantile','Hematocrit',\t'Hemoglobin',\t'Platelets',\t'Mean platelet volume ',\t'Red blood Cells',\t'Lymphocytes',\t'Mean corpuscular hemoglobin concentration (MCHC)',\t'Leukocytes',\t'Basophils',\t'Mean corpuscular hemoglobin (MCH)',\t'Eosinophils',\t'Mean corpuscular volume (MCV)',\t'Monocytes',\t'Red blood cell distribution width (RDW)',\t'Serum Glucose',\t'Neutrophils',\t'Urea',\t'Proteina C reativa mg/dL',\t'Creatinine',\t'Potassium',\t'Sodium',\t'Influenza B, rapid test',\t'Influenza A, rapid test',\t'Alanine transaminase',\t'Aspartate transaminase',\t'Gamma-glutamyltransferase ',\t'Total Bilirubin',\t'Direct Bilirubin',\t'Indirect Bilirubin',\t'Alkaline phosphatase',\t'Ionized calcium ',\t'Strepto A',\t'Magnesium',\t'pCO2 (venous blood gas analysis)',\t'Hb saturation (venous blood gas analysis)',\t'Base excess (venous blood gas analysis)',\t'pO2 (venous blood gas analysis)',\t'Fio2 (venous blood gas analysis)',\t'Total CO2 (venous blood gas analysis)',\t'pH (venous blood gas analysis)',\t'HCO3 (venous blood gas analysis)',\t'Rods #',\t'Segmented',\t'Promyelocytes',\t'Metamyelocytes',\t'Myelocytes',\t'Myeloblasts',\t'Urine - Esterase',\t'Urine - pH',\t'Urine - Bile pigments',\t'Urine - Ketone Bodies',\t'Urine - Nitrite',\t'Urine - Density',\t'Urine - Protein',\t'Urine - Sugar',\t'Urine - Leukocytes',\t'Urine - Red blood cells',\t'Urine - Hyaline cylinders',\t'Urine - Granular cylinders',\t'Urine - Yeasts',\t'Partial thromboplastin time (PTT) ',\t'Relationship (Patient/Normal)',\t'International normalized ratio (INR)',\t'Lactic Dehydrogenase',\t'Prothrombin time (PT), Activity',\t'Vitamin B12',\t'Creatine phosphokinase (CPK) ',\t'Ferritin',\t'Arterial Lactic Acid',\t'Lipase dosage',\t'D-Dimer',\t'Albumin',\t'Hb saturation (arterial blood gases)',\t'pCO2 (arterial blood gas analysis)',\t'Base excess (arterial blood gas analysis)',\t'pH (arterial blood gas analysis)',\t'Total CO2 (arterial blood gas analysis)',\t'HCO3 (arterial blood gas analysis)',\t'pO2 (arterial blood gas analysis)',\t'Arteiral Fio2',\t'Phosphor',\t'ctO2 (arterial blood gas analysis)']])\n",
        "print(resultado)"
      ],
      "execution_count": 135,
      "outputs": [
        {
          "output_type": "stream",
          "text": [
            "[1 0 0 0 0 0 0 0]\n"
          ],
          "name": "stdout"
        }
      ]
    },
    {
      "cell_type": "code",
      "metadata": {
        "id": "xhx9a_Kjq5dj",
        "colab_type": "code",
        "colab": {
          "base_uri": "https://localhost:8080/",
          "height": 759
        },
        "outputId": "154e1bf3-1d65-4066-ef23-664b29e8b6c8"
      },
      "source": [
        "!pip install ipywidgets\n",
        "!pip3 install graphviz\n",
        "!pip3 install pydot"
      ],
      "execution_count": 145,
      "outputs": [
        {
          "output_type": "stream",
          "text": [
            "Requirement already satisfied: ipywidgets in /usr/local/lib/python3.6/dist-packages (7.5.1)\n",
            "Requirement already satisfied: ipython>=4.0.0; python_version >= \"3.3\" in /usr/local/lib/python3.6/dist-packages (from ipywidgets) (5.5.0)\n",
            "Requirement already satisfied: widgetsnbextension~=3.5.0 in /usr/local/lib/python3.6/dist-packages (from ipywidgets) (3.5.1)\n",
            "Requirement already satisfied: nbformat>=4.2.0 in /usr/local/lib/python3.6/dist-packages (from ipywidgets) (5.0.4)\n",
            "Requirement already satisfied: ipykernel>=4.5.1 in /usr/local/lib/python3.6/dist-packages (from ipywidgets) (4.6.1)\n",
            "Requirement already satisfied: traitlets>=4.3.1 in /usr/local/lib/python3.6/dist-packages (from ipywidgets) (4.3.3)\n",
            "Requirement already satisfied: decorator in /usr/local/lib/python3.6/dist-packages (from ipython>=4.0.0; python_version >= \"3.3\"->ipywidgets) (4.4.2)\n",
            "Requirement already satisfied: simplegeneric>0.8 in /usr/local/lib/python3.6/dist-packages (from ipython>=4.0.0; python_version >= \"3.3\"->ipywidgets) (0.8.1)\n",
            "Requirement already satisfied: pexpect; sys_platform != \"win32\" in /usr/local/lib/python3.6/dist-packages (from ipython>=4.0.0; python_version >= \"3.3\"->ipywidgets) (4.8.0)\n",
            "Requirement already satisfied: setuptools>=18.5 in /usr/local/lib/python3.6/dist-packages (from ipython>=4.0.0; python_version >= \"3.3\"->ipywidgets) (46.0.0)\n",
            "Requirement already satisfied: prompt-toolkit<2.0.0,>=1.0.4 in /usr/local/lib/python3.6/dist-packages (from ipython>=4.0.0; python_version >= \"3.3\"->ipywidgets) (1.0.18)\n",
            "Requirement already satisfied: pygments in /usr/local/lib/python3.6/dist-packages (from ipython>=4.0.0; python_version >= \"3.3\"->ipywidgets) (2.1.3)\n",
            "Requirement already satisfied: pickleshare in /usr/local/lib/python3.6/dist-packages (from ipython>=4.0.0; python_version >= \"3.3\"->ipywidgets) (0.7.5)\n",
            "Requirement already satisfied: notebook>=4.4.1 in /usr/local/lib/python3.6/dist-packages (from widgetsnbextension~=3.5.0->ipywidgets) (5.2.2)\n",
            "Requirement already satisfied: ipython-genutils in /usr/local/lib/python3.6/dist-packages (from nbformat>=4.2.0->ipywidgets) (0.2.0)\n",
            "Requirement already satisfied: jsonschema!=2.5.0,>=2.4 in /usr/local/lib/python3.6/dist-packages (from nbformat>=4.2.0->ipywidgets) (2.6.0)\n",
            "Requirement already satisfied: jupyter-core in /usr/local/lib/python3.6/dist-packages (from nbformat>=4.2.0->ipywidgets) (4.6.3)\n",
            "Requirement already satisfied: tornado>=4.0 in /usr/local/lib/python3.6/dist-packages (from ipykernel>=4.5.1->ipywidgets) (4.5.3)\n",
            "Requirement already satisfied: jupyter-client in /usr/local/lib/python3.6/dist-packages (from ipykernel>=4.5.1->ipywidgets) (5.3.4)\n",
            "Requirement already satisfied: six in /usr/local/lib/python3.6/dist-packages (from traitlets>=4.3.1->ipywidgets) (1.12.0)\n",
            "Requirement already satisfied: ptyprocess>=0.5 in /usr/local/lib/python3.6/dist-packages (from pexpect; sys_platform != \"win32\"->ipython>=4.0.0; python_version >= \"3.3\"->ipywidgets) (0.6.0)\n",
            "Requirement already satisfied: wcwidth in /usr/local/lib/python3.6/dist-packages (from prompt-toolkit<2.0.0,>=1.0.4->ipython>=4.0.0; python_version >= \"3.3\"->ipywidgets) (0.1.9)\n",
            "Requirement already satisfied: jinja2 in /usr/local/lib/python3.6/dist-packages (from notebook>=4.4.1->widgetsnbextension~=3.5.0->ipywidgets) (2.11.1)\n",
            "Requirement already satisfied: nbconvert in /usr/local/lib/python3.6/dist-packages (from notebook>=4.4.1->widgetsnbextension~=3.5.0->ipywidgets) (5.6.1)\n",
            "Requirement already satisfied: terminado>=0.3.3; sys_platform != \"win32\" in /usr/local/lib/python3.6/dist-packages (from notebook>=4.4.1->widgetsnbextension~=3.5.0->ipywidgets) (0.8.3)\n",
            "Requirement already satisfied: pyzmq>=13 in /usr/local/lib/python3.6/dist-packages (from jupyter-client->ipykernel>=4.5.1->ipywidgets) (17.0.0)\n",
            "Requirement already satisfied: python-dateutil>=2.1 in /usr/local/lib/python3.6/dist-packages (from jupyter-client->ipykernel>=4.5.1->ipywidgets) (2.8.1)\n",
            "Requirement already satisfied: MarkupSafe>=0.23 in /usr/local/lib/python3.6/dist-packages (from jinja2->notebook>=4.4.1->widgetsnbextension~=3.5.0->ipywidgets) (1.1.1)\n",
            "Requirement already satisfied: entrypoints>=0.2.2 in /usr/local/lib/python3.6/dist-packages (from nbconvert->notebook>=4.4.1->widgetsnbextension~=3.5.0->ipywidgets) (0.3)\n",
            "Requirement already satisfied: testpath in /usr/local/lib/python3.6/dist-packages (from nbconvert->notebook>=4.4.1->widgetsnbextension~=3.5.0->ipywidgets) (0.4.4)\n",
            "Requirement already satisfied: mistune<2,>=0.8.1 in /usr/local/lib/python3.6/dist-packages (from nbconvert->notebook>=4.4.1->widgetsnbextension~=3.5.0->ipywidgets) (0.8.4)\n",
            "Requirement already satisfied: bleach in /usr/local/lib/python3.6/dist-packages (from nbconvert->notebook>=4.4.1->widgetsnbextension~=3.5.0->ipywidgets) (3.1.3)\n",
            "Requirement already satisfied: defusedxml in /usr/local/lib/python3.6/dist-packages (from nbconvert->notebook>=4.4.1->widgetsnbextension~=3.5.0->ipywidgets) (0.6.0)\n",
            "Requirement already satisfied: pandocfilters>=1.4.1 in /usr/local/lib/python3.6/dist-packages (from nbconvert->notebook>=4.4.1->widgetsnbextension~=3.5.0->ipywidgets) (1.4.2)\n",
            "Requirement already satisfied: webencodings in /usr/local/lib/python3.6/dist-packages (from bleach->nbconvert->notebook>=4.4.1->widgetsnbextension~=3.5.0->ipywidgets) (0.5.1)\n",
            "Requirement already satisfied: graphviz in /usr/local/lib/python3.6/dist-packages (0.10.1)\n",
            "Requirement already satisfied: pydot in /usr/local/lib/python3.6/dist-packages (1.3.0)\n",
            "Requirement already satisfied: pyparsing>=2.1.4 in /usr/local/lib/python3.6/dist-packages (from pydot) (2.4.6)\n"
          ],
          "name": "stdout"
        }
      ]
    },
    {
      "cell_type": "code",
      "metadata": {
        "id": "uS13PyRntHyg",
        "colab_type": "code",
        "colab": {}
      },
      "source": [
        "import graphviz\n",
        "import pydot\n",
        "from sklearn.tree import DecisionTreeClassifier, export_graphviz"
      ],
      "execution_count": 0,
      "outputs": []
    },
    {
      "cell_type": "code",
      "metadata": {
        "id": "fjidPVkktBHX",
        "colab_type": "code",
        "colab": {
          "base_uri": "https://localhost:8080/",
          "height": 1000
        },
        "outputId": "edc0184a-6bf6-4bd7-c47a-5fb49d6414e3"
      },
      "source": [
        "dot_data = export_graphviz(\n",
        "    clf,\n",
        "    out_file = None,\n",
        "    feature_names = ['Patient age quantile','Hematocrit',\t'Hemoglobin',\t'Platelets',\t'Mean platelet volume ',\t'Red blood Cells',\t'Lymphocytes',\t'Mean corpuscular hemoglobin concentration (MCHC)',\t'Leukocytes',\t'Basophils',\t'Mean corpuscular hemoglobin (MCH)',\t'Eosinophils',\t'Mean corpuscular volume (MCV)',\t'Monocytes',\t'Red blood cell distribution width (RDW)',\t'Serum Glucose',\t'Neutrophils',\t'Urea',\t'Proteina C reativa mg/dL',\t'Creatinine',\t'Potassium',\t'Sodium',\t'Influenza B, rapid test',\t'Influenza A, rapid test',\t'Alanine transaminase',\t'Aspartate transaminase',\t'Gamma-glutamyltransferase ',\t'Total Bilirubin',\t'Direct Bilirubin',\t'Indirect Bilirubin',\t'Alkaline phosphatase',\t'Ionized calcium ',\t'Strepto A',\t'Magnesium',\t'pCO2 (venous blood gas analysis)',\t'Hb saturation (venous blood gas analysis)',\t'Base excess (venous blood gas analysis)',\t'pO2 (venous blood gas analysis)',\t'Fio2 (venous blood gas analysis)',\t'Total CO2 (venous blood gas analysis)',\t'pH (venous blood gas analysis)',\t'HCO3 (venous blood gas analysis)',\t'Rods #',\t'Segmented',\t'Promyelocytes',\t'Metamyelocytes',\t'Myelocytes',\t'Myeloblasts',\t'Urine - Esterase',\t'Urine - pH',\t'Urine - Bile pigments',\t'Urine - Ketone Bodies',\t'Urine - Nitrite',\t'Urine - Density',\t'Urine - Protein',\t'Urine - Sugar',\t'Urine - Leukocytes',\t'Urine - Red blood cells',\t'Urine - Hyaline cylinders',\t'Urine - Granular cylinders',\t'Urine - Yeasts',\t'Partial thromboplastin time (PTT) ',\t'Relationship (Patient/Normal)',\t'International normalized ratio (INR)',\t'Lactic Dehydrogenase',\t'Prothrombin time (PT), Activity',\t'Vitamin B12',\t'Creatine phosphokinase (CPK) ',\t'Ferritin',\t'Arterial Lactic Acid',\t'Lipase dosage',\t'D-Dimer',\t'Albumin',\t'Hb saturation (arterial blood gases)',\t'pCO2 (arterial blood gas analysis)',\t'Base excess (arterial blood gas analysis)',\t'pH (arterial blood gas analysis)',\t'Total CO2 (arterial blood gas analysis)',\t'HCO3 (arterial blood gas analysis)',\t'pO2 (arterial blood gas analysis)',\t'Arteiral Fio2',\t'Phosphor',\t'ctO2 (arterial blood gas analysis)'],\n",
        "    class_names = ['0','1'],\n",
        "    filled = True, rounded = True,\n",
        "    proportion = True,\n",
        "    node_ids = True,\n",
        "    rotate = False,\n",
        "    label = 'all',\n",
        "    special_characters = True\n",
        ")\n",
        "\n",
        "graph = graphviz.Source(dot_data)\n",
        "graph"
      ],
      "execution_count": 150,
      "outputs": [
        {
          "output_type": "execute_result",
          "data": {
            "text/plain": [
              "<graphviz.files.Source at 0x7fa05bc79cc0>"
            ],
            "image/svg+xml": "<?xml version=\"1.0\" encoding=\"UTF-8\" standalone=\"no\"?>\n<!DOCTYPE svg PUBLIC \"-//W3C//DTD SVG 1.1//EN\"\n \"http://www.w3.org/Graphics/SVG/1.1/DTD/svg11.dtd\">\n<!-- Generated by graphviz version 2.40.1 (20161225.0304)\n -->\n<!-- Title: Tree Pages: 1 -->\n<svg width=\"3709pt\" height=\"1431pt\"\n viewBox=\"0.00 0.00 3709.00 1431.00\" xmlns=\"http://www.w3.org/2000/svg\" xmlns:xlink=\"http://www.w3.org/1999/xlink\">\n<g id=\"graph0\" class=\"graph\" transform=\"scale(1 1) rotate(0) translate(4 1427)\">\n<title>Tree</title>\n<polygon fill=\"#ffffff\" stroke=\"transparent\" points=\"-4,4 -4,-1427 3705,-1427 3705,4 -4,4\"/>\n<!-- 0 -->\n<g id=\"node1\" class=\"node\">\n<title>0</title>\n<path fill=\"#e5833c\" stroke=\"#000000\" d=\"M1479.5,-1423C1479.5,-1423 1347.5,-1423 1347.5,-1423 1341.5,-1423 1335.5,-1417 1335.5,-1411 1335.5,-1411 1335.5,-1337 1335.5,-1337 1335.5,-1331 1341.5,-1325 1347.5,-1325 1347.5,-1325 1479.5,-1325 1479.5,-1325 1485.5,-1325 1491.5,-1331 1491.5,-1337 1491.5,-1337 1491.5,-1411 1491.5,-1411 1491.5,-1417 1485.5,-1423 1479.5,-1423\"/>\n<text text-anchor=\"start\" x=\"1386.5\" y=\"-1407.8\" font-family=\"Helvetica,sans-Serif\" font-size=\"14.00\" fill=\"#000000\">node #0</text>\n<text text-anchor=\"start\" x=\"1347.5\" y=\"-1392.8\" font-family=\"Helvetica,sans-Serif\" font-size=\"14.00\" fill=\"#000000\">Leukocytes ≤ &#45;0.523</text>\n<text text-anchor=\"start\" x=\"1375.5\" y=\"-1377.8\" font-family=\"Helvetica,sans-Serif\" font-size=\"14.00\" fill=\"#000000\">gini = 0.029</text>\n<text text-anchor=\"start\" x=\"1353\" y=\"-1362.8\" font-family=\"Helvetica,sans-Serif\" font-size=\"14.00\" fill=\"#000000\">samples = 100.0%</text>\n<text text-anchor=\"start\" x=\"1343.5\" y=\"-1347.8\" font-family=\"Helvetica,sans-Serif\" font-size=\"14.00\" fill=\"#000000\">value = [0.985, 0.015]</text>\n<text text-anchor=\"start\" x=\"1384.5\" y=\"-1332.8\" font-family=\"Helvetica,sans-Serif\" font-size=\"14.00\" fill=\"#000000\">class = 0</text>\n</g>\n<!-- 1 -->\n<g id=\"node2\" class=\"node\">\n<title>1</title>\n<path fill=\"#f2bf9a\" stroke=\"#000000\" d=\"M1397,-1289C1397,-1289 1246,-1289 1246,-1289 1240,-1289 1234,-1283 1234,-1277 1234,-1277 1234,-1203 1234,-1203 1234,-1197 1240,-1191 1246,-1191 1246,-1191 1397,-1191 1397,-1191 1403,-1191 1409,-1197 1409,-1203 1409,-1203 1409,-1277 1409,-1277 1409,-1283 1403,-1289 1397,-1289\"/>\n<text text-anchor=\"start\" x=\"1294.5\" y=\"-1273.8\" font-family=\"Helvetica,sans-Serif\" font-size=\"14.00\" fill=\"#000000\">node #1</text>\n<text text-anchor=\"start\" x=\"1242\" y=\"-1258.8\" font-family=\"Helvetica,sans-Serif\" font-size=\"14.00\" fill=\"#000000\">Indirect Bilirubin ≤ &#45;0.139</text>\n<text text-anchor=\"start\" x=\"1283.5\" y=\"-1243.8\" font-family=\"Helvetica,sans-Serif\" font-size=\"14.00\" fill=\"#000000\">gini = 0.441</text>\n<text text-anchor=\"start\" x=\"1269.5\" y=\"-1228.8\" font-family=\"Helvetica,sans-Serif\" font-size=\"14.00\" fill=\"#000000\">samples = 3.5%</text>\n<text text-anchor=\"start\" x=\"1251.5\" y=\"-1213.8\" font-family=\"Helvetica,sans-Serif\" font-size=\"14.00\" fill=\"#000000\">value = [0.672, 0.328]</text>\n<text text-anchor=\"start\" x=\"1292.5\" y=\"-1198.8\" font-family=\"Helvetica,sans-Serif\" font-size=\"14.00\" fill=\"#000000\">class = 0</text>\n</g>\n<!-- 0&#45;&gt;1 -->\n<g id=\"edge1\" class=\"edge\">\n<title>0&#45;&gt;1</title>\n<path fill=\"none\" stroke=\"#000000\" d=\"M1379.765,-1324.8642C1373.6399,-1315.9429 1367.2019,-1306.5657 1360.9301,-1297.4309\"/>\n<polygon fill=\"#000000\" stroke=\"#000000\" points=\"1363.7764,-1295.3928 1355.2309,-1289.1298 1358.0056,-1299.3549 1363.7764,-1295.3928\"/>\n<text text-anchor=\"middle\" x=\"1350.6631\" y=\"-1310.009\" font-family=\"Helvetica,sans-Serif\" font-size=\"14.00\" fill=\"#000000\">True</text>\n</g>\n<!-- 62 -->\n<g id=\"node63\" class=\"node\">\n<title>62</title>\n<path fill=\"#e5813a\" stroke=\"#000000\" d=\"M1903.5,-1289C1903.5,-1289 1771.5,-1289 1771.5,-1289 1765.5,-1289 1759.5,-1283 1759.5,-1277 1759.5,-1277 1759.5,-1203 1759.5,-1203 1759.5,-1197 1765.5,-1191 1771.5,-1191 1771.5,-1191 1903.5,-1191 1903.5,-1191 1909.5,-1191 1915.5,-1197 1915.5,-1203 1915.5,-1203 1915.5,-1277 1915.5,-1277 1915.5,-1283 1909.5,-1289 1903.5,-1289\"/>\n<text text-anchor=\"start\" x=\"1806.5\" y=\"-1273.8\" font-family=\"Helvetica,sans-Serif\" font-size=\"14.00\" fill=\"#000000\">node #62</text>\n<text text-anchor=\"start\" x=\"1781.5\" y=\"-1258.8\" font-family=\"Helvetica,sans-Serif\" font-size=\"14.00\" fill=\"#000000\">Platelets ≤ &#45;1.516</text>\n<text text-anchor=\"start\" x=\"1799.5\" y=\"-1243.8\" font-family=\"Helvetica,sans-Serif\" font-size=\"14.00\" fill=\"#000000\">gini = 0.007</text>\n<text text-anchor=\"start\" x=\"1781.5\" y=\"-1228.8\" font-family=\"Helvetica,sans-Serif\" font-size=\"14.00\" fill=\"#000000\">samples = 96.5%</text>\n<text text-anchor=\"start\" x=\"1767.5\" y=\"-1213.8\" font-family=\"Helvetica,sans-Serif\" font-size=\"14.00\" fill=\"#000000\">value = [0.997, 0.003]</text>\n<text text-anchor=\"start\" x=\"1808.5\" y=\"-1198.8\" font-family=\"Helvetica,sans-Serif\" font-size=\"14.00\" fill=\"#000000\">class = 0</text>\n</g>\n<!-- 0&#45;&gt;62 -->\n<g id=\"edge62\" class=\"edge\">\n<title>0&#45;&gt;62</title>\n<path fill=\"none\" stroke=\"#000000\" d=\"M1491.7623,-1349.2662C1564.8477,-1326.1684 1673.7748,-1291.7433 1749.7709,-1267.7257\"/>\n<polygon fill=\"#000000\" stroke=\"#000000\" points=\"1750.8554,-1271.0537 1759.3358,-1264.7028 1748.7459,-1264.3791 1750.8554,-1271.0537\"/>\n<text text-anchor=\"middle\" x=\"1747.807\" y=\"-1283.1859\" font-family=\"Helvetica,sans-Serif\" font-size=\"14.00\" fill=\"#000000\">False</text>\n</g>\n<!-- 2 -->\n<g id=\"node3\" class=\"node\">\n<title>2</title>\n<path fill=\"#a0d0f3\" stroke=\"#000000\" d=\"M561.5,-1155C561.5,-1155 409.5,-1155 409.5,-1155 403.5,-1155 397.5,-1149 397.5,-1143 397.5,-1143 397.5,-1069 397.5,-1069 397.5,-1063 403.5,-1057 409.5,-1057 409.5,-1057 561.5,-1057 561.5,-1057 567.5,-1057 573.5,-1063 573.5,-1069 573.5,-1069 573.5,-1143 573.5,-1143 573.5,-1149 567.5,-1155 561.5,-1155\"/>\n<text text-anchor=\"start\" x=\"458.5\" y=\"-1139.8\" font-family=\"Helvetica,sans-Serif\" font-size=\"14.00\" fill=\"#000000\">node #2</text>\n<text text-anchor=\"start\" x=\"405.5\" y=\"-1124.8\" font-family=\"Helvetica,sans-Serif\" font-size=\"14.00\" fill=\"#000000\">Red blood Cells ≤ &#45;0.735</text>\n<text text-anchor=\"start\" x=\"452\" y=\"-1109.8\" font-family=\"Helvetica,sans-Serif\" font-size=\"14.00\" fill=\"#000000\">gini = 0.45</text>\n<text text-anchor=\"start\" x=\"433.5\" y=\"-1094.8\" font-family=\"Helvetica,sans-Serif\" font-size=\"14.00\" fill=\"#000000\">samples = 0.7%</text>\n<text text-anchor=\"start\" x=\"415.5\" y=\"-1079.8\" font-family=\"Helvetica,sans-Serif\" font-size=\"14.00\" fill=\"#000000\">value = [0.342, 0.658]</text>\n<text text-anchor=\"start\" x=\"456.5\" y=\"-1064.8\" font-family=\"Helvetica,sans-Serif\" font-size=\"14.00\" fill=\"#000000\">class = 1</text>\n</g>\n<!-- 1&#45;&gt;2 -->\n<g id=\"edge2\" class=\"edge\">\n<title>1&#45;&gt;2</title>\n<path fill=\"none\" stroke=\"#000000\" d=\"M1233.6134,-1225.9129C1076.4482,-1200.7214 748.3378,-1148.1295 583.8892,-1121.7705\"/>\n<polygon fill=\"#000000\" stroke=\"#000000\" points=\"584.2061,-1118.2767 573.7782,-1120.1499 583.0982,-1125.1885 584.2061,-1118.2767\"/>\n</g>\n<!-- 13 -->\n<g id=\"node14\" class=\"node\">\n<title>13</title>\n<path fill=\"#eeab7a\" stroke=\"#000000\" d=\"M1387.5,-1155C1387.5,-1155 1255.5,-1155 1255.5,-1155 1249.5,-1155 1243.5,-1149 1243.5,-1143 1243.5,-1143 1243.5,-1069 1243.5,-1069 1243.5,-1063 1249.5,-1057 1255.5,-1057 1255.5,-1057 1387.5,-1057 1387.5,-1057 1393.5,-1057 1399.5,-1063 1399.5,-1069 1399.5,-1069 1399.5,-1143 1399.5,-1143 1399.5,-1149 1393.5,-1155 1387.5,-1155\"/>\n<text text-anchor=\"start\" x=\"1290.5\" y=\"-1139.8\" font-family=\"Helvetica,sans-Serif\" font-size=\"14.00\" fill=\"#000000\">node #13</text>\n<text text-anchor=\"start\" x=\"1255.5\" y=\"-1124.8\" font-family=\"Helvetica,sans-Serif\" font-size=\"14.00\" fill=\"#000000\">Leukocytes ≤ &#45;0.964</text>\n<text text-anchor=\"start\" x=\"1283.5\" y=\"-1109.8\" font-family=\"Helvetica,sans-Serif\" font-size=\"14.00\" fill=\"#000000\">gini = 0.373</text>\n<text text-anchor=\"start\" x=\"1269.5\" y=\"-1094.8\" font-family=\"Helvetica,sans-Serif\" font-size=\"14.00\" fill=\"#000000\">samples = 2.8%</text>\n<text text-anchor=\"start\" x=\"1251.5\" y=\"-1079.8\" font-family=\"Helvetica,sans-Serif\" font-size=\"14.00\" fill=\"#000000\">value = [0.752, 0.248]</text>\n<text text-anchor=\"start\" x=\"1292.5\" y=\"-1064.8\" font-family=\"Helvetica,sans-Serif\" font-size=\"14.00\" fill=\"#000000\">class = 0</text>\n</g>\n<!-- 1&#45;&gt;13 -->\n<g id=\"edge13\" class=\"edge\">\n<title>1&#45;&gt;13</title>\n<path fill=\"none\" stroke=\"#000000\" d=\"M1321.5,-1190.8642C1321.5,-1182.5802 1321.5,-1173.903 1321.5,-1165.3918\"/>\n<polygon fill=\"#000000\" stroke=\"#000000\" points=\"1325.0001,-1165.1298 1321.5,-1155.1298 1318.0001,-1165.1299 1325.0001,-1165.1298\"/>\n</g>\n<!-- 3 -->\n<g id=\"node4\" class=\"node\">\n<title>3</title>\n<path fill=\"#e88e4d\" stroke=\"#000000\" d=\"M268.5,-1021C268.5,-1021 136.5,-1021 136.5,-1021 130.5,-1021 124.5,-1015 124.5,-1009 124.5,-1009 124.5,-935 124.5,-935 124.5,-929 130.5,-923 136.5,-923 136.5,-923 268.5,-923 268.5,-923 274.5,-923 280.5,-929 280.5,-935 280.5,-935 280.5,-1009 280.5,-1009 280.5,-1015 274.5,-1021 268.5,-1021\"/>\n<text text-anchor=\"start\" x=\"175.5\" y=\"-1005.8\" font-family=\"Helvetica,sans-Serif\" font-size=\"14.00\" fill=\"#000000\">node #3</text>\n<text text-anchor=\"start\" x=\"148.5\" y=\"-990.8\" font-family=\"Helvetica,sans-Serif\" font-size=\"14.00\" fill=\"#000000\">Platelets ≤ 0.431</text>\n<text text-anchor=\"start\" x=\"164.5\" y=\"-975.8\" font-family=\"Helvetica,sans-Serif\" font-size=\"14.00\" fill=\"#000000\">gini = 0.165</text>\n<text text-anchor=\"start\" x=\"150.5\" y=\"-960.8\" font-family=\"Helvetica,sans-Serif\" font-size=\"14.00\" fill=\"#000000\">samples = 0.2%</text>\n<text text-anchor=\"start\" x=\"132.5\" y=\"-945.8\" font-family=\"Helvetica,sans-Serif\" font-size=\"14.00\" fill=\"#000000\">value = [0.909, 0.091]</text>\n<text text-anchor=\"start\" x=\"173.5\" y=\"-930.8\" font-family=\"Helvetica,sans-Serif\" font-size=\"14.00\" fill=\"#000000\">class = 0</text>\n</g>\n<!-- 2&#45;&gt;3 -->\n<g id=\"edge3\" class=\"edge\">\n<title>2&#45;&gt;3</title>\n<path fill=\"none\" stroke=\"#000000\" d=\"M397.1211,-1064.1528C363.0256,-1048.0086 324.1164,-1029.5852 290.0953,-1013.4762\"/>\n<polygon fill=\"#000000\" stroke=\"#000000\" points=\"291.1732,-1010.1141 280.6373,-1008.9979 288.1775,-1016.4407 291.1732,-1010.1141\"/>\n</g>\n<!-- 6 -->\n<g id=\"node7\" class=\"node\">\n<title>6</title>\n<path fill=\"#52a9e8\" stroke=\"#000000\" d=\"M551.5,-1021C551.5,-1021 419.5,-1021 419.5,-1021 413.5,-1021 407.5,-1015 407.5,-1009 407.5,-1009 407.5,-935 407.5,-935 407.5,-929 413.5,-923 419.5,-923 419.5,-923 551.5,-923 551.5,-923 557.5,-923 563.5,-929 563.5,-935 563.5,-935 563.5,-1009 563.5,-1009 563.5,-1015 557.5,-1021 551.5,-1021\"/>\n<text text-anchor=\"start\" x=\"458.5\" y=\"-1005.8\" font-family=\"Helvetica,sans-Serif\" font-size=\"14.00\" fill=\"#000000\">node #6</text>\n<text text-anchor=\"start\" x=\"424\" y=\"-990.8\" font-family=\"Helvetica,sans-Serif\" font-size=\"14.00\" fill=\"#000000\">Creatinine ≤ &#45;0.805</text>\n<text text-anchor=\"start\" x=\"447.5\" y=\"-975.8\" font-family=\"Helvetica,sans-Serif\" font-size=\"14.00\" fill=\"#000000\">gini = 0.198</text>\n<text text-anchor=\"start\" x=\"433.5\" y=\"-960.8\" font-family=\"Helvetica,sans-Serif\" font-size=\"14.00\" fill=\"#000000\">samples = 0.5%</text>\n<text text-anchor=\"start\" x=\"415.5\" y=\"-945.8\" font-family=\"Helvetica,sans-Serif\" font-size=\"14.00\" fill=\"#000000\">value = [0.111, 0.889]</text>\n<text text-anchor=\"start\" x=\"456.5\" y=\"-930.8\" font-family=\"Helvetica,sans-Serif\" font-size=\"14.00\" fill=\"#000000\">class = 1</text>\n</g>\n<!-- 2&#45;&gt;6 -->\n<g id=\"edge6\" class=\"edge\">\n<title>2&#45;&gt;6</title>\n<path fill=\"none\" stroke=\"#000000\" d=\"M485.5,-1056.8642C485.5,-1048.5802 485.5,-1039.903 485.5,-1031.3918\"/>\n<polygon fill=\"#000000\" stroke=\"#000000\" points=\"489.0001,-1031.1298 485.5,-1021.1298 482.0001,-1031.1299 489.0001,-1031.1298\"/>\n</g>\n<!-- 4 -->\n<g id=\"node5\" class=\"node\">\n<title>4</title>\n<path fill=\"#e58139\" stroke=\"#000000\" d=\"M111,-879.5C111,-879.5 12,-879.5 12,-879.5 6,-879.5 0,-873.5 0,-867.5 0,-867.5 0,-808.5 0,-808.5 0,-802.5 6,-796.5 12,-796.5 12,-796.5 111,-796.5 111,-796.5 117,-796.5 123,-802.5 123,-808.5 123,-808.5 123,-867.5 123,-867.5 123,-873.5 117,-879.5 111,-879.5\"/>\n<text text-anchor=\"start\" x=\"34.5\" y=\"-864.3\" font-family=\"Helvetica,sans-Serif\" font-size=\"14.00\" fill=\"#000000\">node #4</text>\n<text text-anchor=\"start\" x=\"32\" y=\"-849.3\" font-family=\"Helvetica,sans-Serif\" font-size=\"14.00\" fill=\"#000000\">gini = 0.0</text>\n<text text-anchor=\"start\" x=\"9.5\" y=\"-834.3\" font-family=\"Helvetica,sans-Serif\" font-size=\"14.00\" fill=\"#000000\">samples = 0.2%</text>\n<text text-anchor=\"start\" x=\"8\" y=\"-819.3\" font-family=\"Helvetica,sans-Serif\" font-size=\"14.00\" fill=\"#000000\">value = [1.0, 0.0]</text>\n<text text-anchor=\"start\" x=\"32.5\" y=\"-804.3\" font-family=\"Helvetica,sans-Serif\" font-size=\"14.00\" fill=\"#000000\">class = 0</text>\n</g>\n<!-- 3&#45;&gt;4 -->\n<g id=\"edge4\" class=\"edge\">\n<title>3&#45;&gt;4</title>\n<path fill=\"none\" stroke=\"#000000\" d=\"M150.7974,-922.8642C138.4308,-911.1115 125.2317,-898.5677 112.8797,-886.8289\"/>\n<polygon fill=\"#000000\" stroke=\"#000000\" points=\"114.9731,-883.99 105.3133,-879.6381 110.1509,-889.0641 114.9731,-883.99\"/>\n</g>\n<!-- 5 -->\n<g id=\"node6\" class=\"node\">\n<title>5</title>\n<path fill=\"#399de5\" stroke=\"#000000\" d=\"M252,-879.5C252,-879.5 153,-879.5 153,-879.5 147,-879.5 141,-873.5 141,-867.5 141,-867.5 141,-808.5 141,-808.5 141,-802.5 147,-796.5 153,-796.5 153,-796.5 252,-796.5 252,-796.5 258,-796.5 264,-802.5 264,-808.5 264,-808.5 264,-867.5 264,-867.5 264,-873.5 258,-879.5 252,-879.5\"/>\n<text text-anchor=\"start\" x=\"175.5\" y=\"-864.3\" font-family=\"Helvetica,sans-Serif\" font-size=\"14.00\" fill=\"#000000\">node #5</text>\n<text text-anchor=\"start\" x=\"173\" y=\"-849.3\" font-family=\"Helvetica,sans-Serif\" font-size=\"14.00\" fill=\"#000000\">gini = 0.0</text>\n<text text-anchor=\"start\" x=\"150.5\" y=\"-834.3\" font-family=\"Helvetica,sans-Serif\" font-size=\"14.00\" fill=\"#000000\">samples = 0.0%</text>\n<text text-anchor=\"start\" x=\"149\" y=\"-819.3\" font-family=\"Helvetica,sans-Serif\" font-size=\"14.00\" fill=\"#000000\">value = [0.0, 1.0]</text>\n<text text-anchor=\"start\" x=\"173.5\" y=\"-804.3\" font-family=\"Helvetica,sans-Serif\" font-size=\"14.00\" fill=\"#000000\">class = 1</text>\n</g>\n<!-- 3&#45;&gt;5 -->\n<g id=\"edge5\" class=\"edge\">\n<title>3&#45;&gt;5</title>\n<path fill=\"none\" stroke=\"#000000\" d=\"M202.5,-922.8642C202.5,-912.1094 202.5,-900.6921 202.5,-889.8354\"/>\n<polygon fill=\"#000000\" stroke=\"#000000\" points=\"206.0001,-889.6381 202.5,-879.6381 199.0001,-889.6382 206.0001,-889.6381\"/>\n</g>\n<!-- 7 -->\n<g id=\"node8\" class=\"node\">\n<title>7</title>\n<path fill=\"#f2c09c\" stroke=\"#000000\" d=\"M426.5,-887C426.5,-887 294.5,-887 294.5,-887 288.5,-887 282.5,-881 282.5,-875 282.5,-875 282.5,-801 282.5,-801 282.5,-795 288.5,-789 294.5,-789 294.5,-789 426.5,-789 426.5,-789 432.5,-789 438.5,-795 438.5,-801 438.5,-801 438.5,-875 438.5,-875 438.5,-881 432.5,-887 426.5,-887\"/>\n<text text-anchor=\"start\" x=\"333.5\" y=\"-871.8\" font-family=\"Helvetica,sans-Serif\" font-size=\"14.00\" fill=\"#000000\">node #7</text>\n<text text-anchor=\"start\" x=\"295.5\" y=\"-856.8\" font-family=\"Helvetica,sans-Serif\" font-size=\"14.00\" fill=\"#000000\">Neutrophils ≤ &#45;1.348</text>\n<text text-anchor=\"start\" x=\"322.5\" y=\"-841.8\" font-family=\"Helvetica,sans-Serif\" font-size=\"14.00\" fill=\"#000000\">gini = 0.444</text>\n<text text-anchor=\"start\" x=\"308.5\" y=\"-826.8\" font-family=\"Helvetica,sans-Serif\" font-size=\"14.00\" fill=\"#000000\">samples = 0.1%</text>\n<text text-anchor=\"start\" x=\"290.5\" y=\"-811.8\" font-family=\"Helvetica,sans-Serif\" font-size=\"14.00\" fill=\"#000000\">value = [0.667, 0.333]</text>\n<text text-anchor=\"start\" x=\"331.5\" y=\"-796.8\" font-family=\"Helvetica,sans-Serif\" font-size=\"14.00\" fill=\"#000000\">class = 0</text>\n</g>\n<!-- 6&#45;&gt;7 -->\n<g id=\"edge7\" class=\"edge\">\n<title>6&#45;&gt;7</title>\n<path fill=\"none\" stroke=\"#000000\" d=\"M439.6644,-922.8642C431.0875,-913.6698 422.059,-903.9912 413.2916,-894.5926\"/>\n<polygon fill=\"#000000\" stroke=\"#000000\" points=\"415.7107,-892.0548 406.3301,-887.1298 410.592,-896.8297 415.7107,-892.0548\"/>\n</g>\n<!-- 10 -->\n<g id=\"node11\" class=\"node\">\n<title>10</title>\n<path fill=\"#42a1e6\" stroke=\"#000000\" d=\"M722,-887C722,-887 469,-887 469,-887 463,-887 457,-881 457,-875 457,-875 457,-801 457,-801 457,-795 463,-789 469,-789 469,-789 722,-789 722,-789 728,-789 734,-795 734,-801 734,-801 734,-875 734,-875 734,-881 728,-887 722,-887\"/>\n<text text-anchor=\"start\" x=\"564.5\" y=\"-871.8\" font-family=\"Helvetica,sans-Serif\" font-size=\"14.00\" fill=\"#000000\">node #10</text>\n<text text-anchor=\"start\" x=\"465\" y=\"-856.8\" font-family=\"Helvetica,sans-Serif\" font-size=\"14.00\" fill=\"#000000\">pH (venous blood gas analysis) ≤ &#45;1.274</text>\n<text text-anchor=\"start\" x=\"562\" y=\"-841.8\" font-family=\"Helvetica,sans-Serif\" font-size=\"14.00\" fill=\"#000000\">gini = 0.08</text>\n<text text-anchor=\"start\" x=\"543.5\" y=\"-826.8\" font-family=\"Helvetica,sans-Serif\" font-size=\"14.00\" fill=\"#000000\">samples = 0.4%</text>\n<text text-anchor=\"start\" x=\"525.5\" y=\"-811.8\" font-family=\"Helvetica,sans-Serif\" font-size=\"14.00\" fill=\"#000000\">value = [0.042, 0.958]</text>\n<text text-anchor=\"start\" x=\"566.5\" y=\"-796.8\" font-family=\"Helvetica,sans-Serif\" font-size=\"14.00\" fill=\"#000000\">class = 1</text>\n</g>\n<!-- 6&#45;&gt;10 -->\n<g id=\"edge10\" class=\"edge\">\n<title>6&#45;&gt;10</title>\n<path fill=\"none\" stroke=\"#000000\" d=\"M525.8353,-922.8642C533.3083,-913.7609 541.1708,-904.1828 548.8141,-894.8719\"/>\n<polygon fill=\"#000000\" stroke=\"#000000\" points=\"551.5298,-897.0799 555.1695,-887.1298 546.1193,-892.6384 551.5298,-897.0799\"/>\n</g>\n<!-- 8 -->\n<g id=\"node9\" class=\"node\">\n<title>8</title>\n<path fill=\"#399de5\" stroke=\"#000000\" d=\"M269,-745.5C269,-745.5 170,-745.5 170,-745.5 164,-745.5 158,-739.5 158,-733.5 158,-733.5 158,-674.5 158,-674.5 158,-668.5 164,-662.5 170,-662.5 170,-662.5 269,-662.5 269,-662.5 275,-662.5 281,-668.5 281,-674.5 281,-674.5 281,-733.5 281,-733.5 281,-739.5 275,-745.5 269,-745.5\"/>\n<text text-anchor=\"start\" x=\"192.5\" y=\"-730.3\" font-family=\"Helvetica,sans-Serif\" font-size=\"14.00\" fill=\"#000000\">node #8</text>\n<text text-anchor=\"start\" x=\"190\" y=\"-715.3\" font-family=\"Helvetica,sans-Serif\" font-size=\"14.00\" fill=\"#000000\">gini = 0.0</text>\n<text text-anchor=\"start\" x=\"167.5\" y=\"-700.3\" font-family=\"Helvetica,sans-Serif\" font-size=\"14.00\" fill=\"#000000\">samples = 0.0%</text>\n<text text-anchor=\"start\" x=\"166\" y=\"-685.3\" font-family=\"Helvetica,sans-Serif\" font-size=\"14.00\" fill=\"#000000\">value = [0.0, 1.0]</text>\n<text text-anchor=\"start\" x=\"190.5\" y=\"-670.3\" font-family=\"Helvetica,sans-Serif\" font-size=\"14.00\" fill=\"#000000\">class = 1</text>\n</g>\n<!-- 7&#45;&gt;8 -->\n<g id=\"edge8\" class=\"edge\">\n<title>7&#45;&gt;8</title>\n<path fill=\"none\" stroke=\"#000000\" d=\"M308.7974,-788.8642C296.4308,-777.1115 283.2317,-764.5677 270.8797,-752.8289\"/>\n<polygon fill=\"#000000\" stroke=\"#000000\" points=\"272.9731,-749.99 263.3133,-745.6381 268.1509,-755.0641 272.9731,-749.99\"/>\n</g>\n<!-- 9 -->\n<g id=\"node10\" class=\"node\">\n<title>9</title>\n<path fill=\"#e58139\" stroke=\"#000000\" d=\"M410,-745.5C410,-745.5 311,-745.5 311,-745.5 305,-745.5 299,-739.5 299,-733.5 299,-733.5 299,-674.5 299,-674.5 299,-668.5 305,-662.5 311,-662.5 311,-662.5 410,-662.5 410,-662.5 416,-662.5 422,-668.5 422,-674.5 422,-674.5 422,-733.5 422,-733.5 422,-739.5 416,-745.5 410,-745.5\"/>\n<text text-anchor=\"start\" x=\"333.5\" y=\"-730.3\" font-family=\"Helvetica,sans-Serif\" font-size=\"14.00\" fill=\"#000000\">node #9</text>\n<text text-anchor=\"start\" x=\"331\" y=\"-715.3\" font-family=\"Helvetica,sans-Serif\" font-size=\"14.00\" fill=\"#000000\">gini = 0.0</text>\n<text text-anchor=\"start\" x=\"308.5\" y=\"-700.3\" font-family=\"Helvetica,sans-Serif\" font-size=\"14.00\" fill=\"#000000\">samples = 0.0%</text>\n<text text-anchor=\"start\" x=\"307\" y=\"-685.3\" font-family=\"Helvetica,sans-Serif\" font-size=\"14.00\" fill=\"#000000\">value = [1.0, 0.0]</text>\n<text text-anchor=\"start\" x=\"331.5\" y=\"-670.3\" font-family=\"Helvetica,sans-Serif\" font-size=\"14.00\" fill=\"#000000\">class = 0</text>\n</g>\n<!-- 7&#45;&gt;9 -->\n<g id=\"edge9\" class=\"edge\">\n<title>7&#45;&gt;9</title>\n<path fill=\"none\" stroke=\"#000000\" d=\"M360.5,-788.8642C360.5,-778.1094 360.5,-766.6921 360.5,-755.8354\"/>\n<polygon fill=\"#000000\" stroke=\"#000000\" points=\"364.0001,-755.6381 360.5,-745.6381 357.0001,-755.6382 364.0001,-755.6381\"/>\n</g>\n<!-- 11 -->\n<g id=\"node12\" class=\"node\">\n<title>11</title>\n<path fill=\"#e58139\" stroke=\"#000000\" d=\"M551,-745.5C551,-745.5 452,-745.5 452,-745.5 446,-745.5 440,-739.5 440,-733.5 440,-733.5 440,-674.5 440,-674.5 440,-668.5 446,-662.5 452,-662.5 452,-662.5 551,-662.5 551,-662.5 557,-662.5 563,-668.5 563,-674.5 563,-674.5 563,-733.5 563,-733.5 563,-739.5 557,-745.5 551,-745.5\"/>\n<text text-anchor=\"start\" x=\"470.5\" y=\"-730.3\" font-family=\"Helvetica,sans-Serif\" font-size=\"14.00\" fill=\"#000000\">node #11</text>\n<text text-anchor=\"start\" x=\"472\" y=\"-715.3\" font-family=\"Helvetica,sans-Serif\" font-size=\"14.00\" fill=\"#000000\">gini = 0.0</text>\n<text text-anchor=\"start\" x=\"449.5\" y=\"-700.3\" font-family=\"Helvetica,sans-Serif\" font-size=\"14.00\" fill=\"#000000\">samples = 0.0%</text>\n<text text-anchor=\"start\" x=\"448\" y=\"-685.3\" font-family=\"Helvetica,sans-Serif\" font-size=\"14.00\" fill=\"#000000\">value = [1.0, 0.0]</text>\n<text text-anchor=\"start\" x=\"472.5\" y=\"-670.3\" font-family=\"Helvetica,sans-Serif\" font-size=\"14.00\" fill=\"#000000\">class = 0</text>\n</g>\n<!-- 10&#45;&gt;11 -->\n<g id=\"edge11\" class=\"edge\">\n<title>10&#45;&gt;11</title>\n<path fill=\"none\" stroke=\"#000000\" d=\"M561.0316,-788.8642C553.0205,-777.4442 544.4854,-765.2771 536.4536,-753.8275\"/>\n<polygon fill=\"#000000\" stroke=\"#000000\" points=\"539.317,-751.8147 530.7088,-745.6381 533.5864,-755.8347 539.317,-751.8147\"/>\n</g>\n<!-- 12 -->\n<g id=\"node13\" class=\"node\">\n<title>12</title>\n<path fill=\"#399de5\" stroke=\"#000000\" d=\"M692,-745.5C692,-745.5 593,-745.5 593,-745.5 587,-745.5 581,-739.5 581,-733.5 581,-733.5 581,-674.5 581,-674.5 581,-668.5 587,-662.5 593,-662.5 593,-662.5 692,-662.5 692,-662.5 698,-662.5 704,-668.5 704,-674.5 704,-674.5 704,-733.5 704,-733.5 704,-739.5 698,-745.5 692,-745.5\"/>\n<text text-anchor=\"start\" x=\"611.5\" y=\"-730.3\" font-family=\"Helvetica,sans-Serif\" font-size=\"14.00\" fill=\"#000000\">node #12</text>\n<text text-anchor=\"start\" x=\"613\" y=\"-715.3\" font-family=\"Helvetica,sans-Serif\" font-size=\"14.00\" fill=\"#000000\">gini = 0.0</text>\n<text text-anchor=\"start\" x=\"590.5\" y=\"-700.3\" font-family=\"Helvetica,sans-Serif\" font-size=\"14.00\" fill=\"#000000\">samples = 0.4%</text>\n<text text-anchor=\"start\" x=\"589\" y=\"-685.3\" font-family=\"Helvetica,sans-Serif\" font-size=\"14.00\" fill=\"#000000\">value = [0.0, 1.0]</text>\n<text text-anchor=\"start\" x=\"613.5\" y=\"-670.3\" font-family=\"Helvetica,sans-Serif\" font-size=\"14.00\" fill=\"#000000\">class = 1</text>\n</g>\n<!-- 10&#45;&gt;12 -->\n<g id=\"edge12\" class=\"edge\">\n<title>10&#45;&gt;12</title>\n<path fill=\"none\" stroke=\"#000000\" d=\"M612.7342,-788.8642C616.5842,-777.8877 620.6762,-766.221 624.5542,-755.1646\"/>\n<polygon fill=\"#000000\" stroke=\"#000000\" points=\"627.8885,-756.233 627.8956,-745.6381 621.283,-753.9161 627.8885,-756.233\"/>\n</g>\n<!-- 14 -->\n<g id=\"node15\" class=\"node\">\n<title>14</title>\n<path fill=\"#fdf4ed\" stroke=\"#000000\" d=\"M1279.5,-1021C1279.5,-1021 1147.5,-1021 1147.5,-1021 1141.5,-1021 1135.5,-1015 1135.5,-1009 1135.5,-1009 1135.5,-935 1135.5,-935 1135.5,-929 1141.5,-923 1147.5,-923 1147.5,-923 1279.5,-923 1279.5,-923 1285.5,-923 1291.5,-929 1291.5,-935 1291.5,-935 1291.5,-1009 1291.5,-1009 1291.5,-1015 1285.5,-1021 1279.5,-1021\"/>\n<text text-anchor=\"start\" x=\"1182.5\" y=\"-1005.8\" font-family=\"Helvetica,sans-Serif\" font-size=\"14.00\" fill=\"#000000\">node #14</text>\n<text text-anchor=\"start\" x=\"1159.5\" y=\"-990.8\" font-family=\"Helvetica,sans-Serif\" font-size=\"14.00\" fill=\"#000000\">Basophils ≤ 0.54</text>\n<text text-anchor=\"start\" x=\"1175.5\" y=\"-975.8\" font-family=\"Helvetica,sans-Serif\" font-size=\"14.00\" fill=\"#000000\">gini = 0.499</text>\n<text text-anchor=\"start\" x=\"1161.5\" y=\"-960.8\" font-family=\"Helvetica,sans-Serif\" font-size=\"14.00\" fill=\"#000000\">samples = 0.7%</text>\n<text text-anchor=\"start\" x=\"1143.5\" y=\"-945.8\" font-family=\"Helvetica,sans-Serif\" font-size=\"14.00\" fill=\"#000000\">value = [0.524, 0.476]</text>\n<text text-anchor=\"start\" x=\"1184.5\" y=\"-930.8\" font-family=\"Helvetica,sans-Serif\" font-size=\"14.00\" fill=\"#000000\">class = 0</text>\n</g>\n<!-- 13&#45;&gt;14 -->\n<g id=\"edge14\" class=\"edge\">\n<title>13&#45;&gt;14</title>\n<path fill=\"none\" stroke=\"#000000\" d=\"M1281.898,-1056.8642C1274.6344,-1047.8519 1266.9957,-1038.3743 1259.5622,-1029.1513\"/>\n<polygon fill=\"#000000\" stroke=\"#000000\" points=\"1262.0976,-1026.7195 1253.0972,-1021.1298 1256.6474,-1031.1122 1262.0976,-1026.7195\"/>\n</g>\n<!-- 35 -->\n<g id=\"node36\" class=\"node\">\n<title>35</title>\n<path fill=\"#ea9a60\" stroke=\"#000000\" d=\"M1496.5,-1021C1496.5,-1021 1364.5,-1021 1364.5,-1021 1358.5,-1021 1352.5,-1015 1352.5,-1009 1352.5,-1009 1352.5,-935 1352.5,-935 1352.5,-929 1358.5,-923 1364.5,-923 1364.5,-923 1496.5,-923 1496.5,-923 1502.5,-923 1508.5,-929 1508.5,-935 1508.5,-935 1508.5,-1009 1508.5,-1009 1508.5,-1015 1502.5,-1021 1496.5,-1021\"/>\n<text text-anchor=\"start\" x=\"1399.5\" y=\"-1005.8\" font-family=\"Helvetica,sans-Serif\" font-size=\"14.00\" fill=\"#000000\">node #35</text>\n<text text-anchor=\"start\" x=\"1364.5\" y=\"-990.8\" font-family=\"Helvetica,sans-Serif\" font-size=\"14.00\" fill=\"#000000\">Eosinophils ≤ &#45;0.646</text>\n<text text-anchor=\"start\" x=\"1392.5\" y=\"-975.8\" font-family=\"Helvetica,sans-Serif\" font-size=\"14.00\" fill=\"#000000\">gini = 0.276</text>\n<text text-anchor=\"start\" x=\"1378.5\" y=\"-960.8\" font-family=\"Helvetica,sans-Serif\" font-size=\"14.00\" fill=\"#000000\">samples = 2.0%</text>\n<text text-anchor=\"start\" x=\"1360.5\" y=\"-945.8\" font-family=\"Helvetica,sans-Serif\" font-size=\"14.00\" fill=\"#000000\">value = [0.835, 0.165]</text>\n<text text-anchor=\"start\" x=\"1401.5\" y=\"-930.8\" font-family=\"Helvetica,sans-Serif\" font-size=\"14.00\" fill=\"#000000\">class = 0</text>\n</g>\n<!-- 13&#45;&gt;35 -->\n<g id=\"edge35\" class=\"edge\">\n<title>13&#45;&gt;35</title>\n<path fill=\"none\" stroke=\"#000000\" d=\"M1361.4686,-1056.8642C1368.7996,-1047.8519 1376.5089,-1038.3743 1384.0113,-1029.1513\"/>\n<polygon fill=\"#000000\" stroke=\"#000000\" points=\"1386.941,-1031.0961 1390.5362,-1021.1298 1381.5107,-1026.6788 1386.941,-1031.0961\"/>\n</g>\n<!-- 15 -->\n<g id=\"node16\" class=\"node\">\n<title>15</title>\n<path fill=\"#d7ebfa\" stroke=\"#000000\" d=\"M1035.5,-887C1035.5,-887 903.5,-887 903.5,-887 897.5,-887 891.5,-881 891.5,-875 891.5,-875 891.5,-801 891.5,-801 891.5,-795 897.5,-789 903.5,-789 903.5,-789 1035.5,-789 1035.5,-789 1041.5,-789 1047.5,-795 1047.5,-801 1047.5,-801 1047.5,-875 1047.5,-875 1047.5,-881 1041.5,-887 1035.5,-887\"/>\n<text text-anchor=\"start\" x=\"938.5\" y=\"-871.8\" font-family=\"Helvetica,sans-Serif\" font-size=\"14.00\" fill=\"#000000\">node #15</text>\n<text text-anchor=\"start\" x=\"908\" y=\"-856.8\" font-family=\"Helvetica,sans-Serif\" font-size=\"14.00\" fill=\"#000000\">Creatinine ≤ &#45;0.581</text>\n<text text-anchor=\"start\" x=\"931.5\" y=\"-841.8\" font-family=\"Helvetica,sans-Serif\" font-size=\"14.00\" fill=\"#000000\">gini = 0.494</text>\n<text text-anchor=\"start\" x=\"917.5\" y=\"-826.8\" font-family=\"Helvetica,sans-Serif\" font-size=\"14.00\" fill=\"#000000\">samples = 0.6%</text>\n<text text-anchor=\"start\" x=\"899.5\" y=\"-811.8\" font-family=\"Helvetica,sans-Serif\" font-size=\"14.00\" fill=\"#000000\">value = [0.444, 0.556]</text>\n<text text-anchor=\"start\" x=\"940.5\" y=\"-796.8\" font-family=\"Helvetica,sans-Serif\" font-size=\"14.00\" fill=\"#000000\">class = 1</text>\n</g>\n<!-- 14&#45;&gt;15 -->\n<g id=\"edge15\" class=\"edge\">\n<title>14&#45;&gt;15</title>\n<path fill=\"none\" stroke=\"#000000\" d=\"M1135.2901,-929.0486C1110.2272,-915.2846 1082.3214,-899.9593 1056.6603,-885.8667\"/>\n<polygon fill=\"#000000\" stroke=\"#000000\" points=\"1058.1356,-882.6839 1047.6856,-880.938 1054.766,-888.8196 1058.1356,-882.6839\"/>\n</g>\n<!-- 34 -->\n<g id=\"node35\" class=\"node\">\n<title>34</title>\n<path fill=\"#e58139\" stroke=\"#000000\" d=\"M1263,-879.5C1263,-879.5 1164,-879.5 1164,-879.5 1158,-879.5 1152,-873.5 1152,-867.5 1152,-867.5 1152,-808.5 1152,-808.5 1152,-802.5 1158,-796.5 1164,-796.5 1164,-796.5 1263,-796.5 1263,-796.5 1269,-796.5 1275,-802.5 1275,-808.5 1275,-808.5 1275,-867.5 1275,-867.5 1275,-873.5 1269,-879.5 1263,-879.5\"/>\n<text text-anchor=\"start\" x=\"1182.5\" y=\"-864.3\" font-family=\"Helvetica,sans-Serif\" font-size=\"14.00\" fill=\"#000000\">node #34</text>\n<text text-anchor=\"start\" x=\"1184\" y=\"-849.3\" font-family=\"Helvetica,sans-Serif\" font-size=\"14.00\" fill=\"#000000\">gini = 0.0</text>\n<text text-anchor=\"start\" x=\"1161.5\" y=\"-834.3\" font-family=\"Helvetica,sans-Serif\" font-size=\"14.00\" fill=\"#000000\">samples = 0.1%</text>\n<text text-anchor=\"start\" x=\"1160\" y=\"-819.3\" font-family=\"Helvetica,sans-Serif\" font-size=\"14.00\" fill=\"#000000\">value = [1.0, 0.0]</text>\n<text text-anchor=\"start\" x=\"1184.5\" y=\"-804.3\" font-family=\"Helvetica,sans-Serif\" font-size=\"14.00\" fill=\"#000000\">class = 0</text>\n</g>\n<!-- 14&#45;&gt;34 -->\n<g id=\"edge34\" class=\"edge\">\n<title>14&#45;&gt;34</title>\n<path fill=\"none\" stroke=\"#000000\" d=\"M1213.5,-922.8642C1213.5,-912.1094 1213.5,-900.6921 1213.5,-889.8354\"/>\n<polygon fill=\"#000000\" stroke=\"#000000\" points=\"1217.0001,-889.6381 1213.5,-879.6381 1210.0001,-889.6382 1217.0001,-889.6381\"/>\n</g>\n<!-- 16 -->\n<g id=\"node17\" class=\"node\">\n<title>16</title>\n<path fill=\"#e58139\" stroke=\"#000000\" d=\"M833,-745.5C833,-745.5 734,-745.5 734,-745.5 728,-745.5 722,-739.5 722,-733.5 722,-733.5 722,-674.5 722,-674.5 722,-668.5 728,-662.5 734,-662.5 734,-662.5 833,-662.5 833,-662.5 839,-662.5 845,-668.5 845,-674.5 845,-674.5 845,-733.5 845,-733.5 845,-739.5 839,-745.5 833,-745.5\"/>\n<text text-anchor=\"start\" x=\"752.5\" y=\"-730.3\" font-family=\"Helvetica,sans-Serif\" font-size=\"14.00\" fill=\"#000000\">node #16</text>\n<text text-anchor=\"start\" x=\"754\" y=\"-715.3\" font-family=\"Helvetica,sans-Serif\" font-size=\"14.00\" fill=\"#000000\">gini = 0.0</text>\n<text text-anchor=\"start\" x=\"731.5\" y=\"-700.3\" font-family=\"Helvetica,sans-Serif\" font-size=\"14.00\" fill=\"#000000\">samples = 0.1%</text>\n<text text-anchor=\"start\" x=\"730\" y=\"-685.3\" font-family=\"Helvetica,sans-Serif\" font-size=\"14.00\" fill=\"#000000\">value = [1.0, 0.0]</text>\n<text text-anchor=\"start\" x=\"754.5\" y=\"-670.3\" font-family=\"Helvetica,sans-Serif\" font-size=\"14.00\" fill=\"#000000\">class = 0</text>\n</g>\n<!-- 15&#45;&gt;16 -->\n<g id=\"edge16\" class=\"edge\">\n<title>15&#45;&gt;16</title>\n<path fill=\"none\" stroke=\"#000000\" d=\"M901.2966,-788.8642C884.3676,-776.668 866.2559,-763.6199 849.4377,-751.5035\"/>\n<polygon fill=\"#000000\" stroke=\"#000000\" points=\"851.4558,-748.6437 841.2962,-745.6381 847.364,-754.3233 851.4558,-748.6437\"/>\n</g>\n<!-- 17 -->\n<g id=\"node18\" class=\"node\">\n<title>17</title>\n<path fill=\"#b0d8f5\" stroke=\"#000000\" d=\"M1063.5,-753C1063.5,-753 875.5,-753 875.5,-753 869.5,-753 863.5,-747 863.5,-741 863.5,-741 863.5,-667 863.5,-667 863.5,-661 869.5,-655 875.5,-655 875.5,-655 1063.5,-655 1063.5,-655 1069.5,-655 1075.5,-661 1075.5,-667 1075.5,-667 1075.5,-741 1075.5,-741 1075.5,-747 1069.5,-753 1063.5,-753\"/>\n<text text-anchor=\"start\" x=\"938.5\" y=\"-737.8\" font-family=\"Helvetica,sans-Serif\" font-size=\"14.00\" fill=\"#000000\">node #17</text>\n<text text-anchor=\"start\" x=\"871.5\" y=\"-722.8\" font-family=\"Helvetica,sans-Serif\" font-size=\"14.00\" fill=\"#000000\">Alkaline phosphatase ≤ &#45;0.183</text>\n<text text-anchor=\"start\" x=\"931.5\" y=\"-707.8\" font-family=\"Helvetica,sans-Serif\" font-size=\"14.00\" fill=\"#000000\">gini = 0.469</text>\n<text text-anchor=\"start\" x=\"917.5\" y=\"-692.8\" font-family=\"Helvetica,sans-Serif\" font-size=\"14.00\" fill=\"#000000\">samples = 0.6%</text>\n<text text-anchor=\"start\" x=\"899.5\" y=\"-677.8\" font-family=\"Helvetica,sans-Serif\" font-size=\"14.00\" fill=\"#000000\">value = [0.375, 0.625]</text>\n<text text-anchor=\"start\" x=\"940.5\" y=\"-662.8\" font-family=\"Helvetica,sans-Serif\" font-size=\"14.00\" fill=\"#000000\">class = 1</text>\n</g>\n<!-- 15&#45;&gt;17 -->\n<g id=\"edge17\" class=\"edge\">\n<title>15&#45;&gt;17</title>\n<path fill=\"none\" stroke=\"#000000\" d=\"M969.5,-788.8642C969.5,-780.5802 969.5,-771.903 969.5,-763.3918\"/>\n<polygon fill=\"#000000\" stroke=\"#000000\" points=\"973.0001,-763.1298 969.5,-753.1298 966.0001,-763.1299 973.0001,-763.1298\"/>\n</g>\n<!-- 18 -->\n<g id=\"node19\" class=\"node\">\n<title>18</title>\n<path fill=\"#e58139\" stroke=\"#000000\" d=\"M835,-611.5C835,-611.5 736,-611.5 736,-611.5 730,-611.5 724,-605.5 724,-599.5 724,-599.5 724,-540.5 724,-540.5 724,-534.5 730,-528.5 736,-528.5 736,-528.5 835,-528.5 835,-528.5 841,-528.5 847,-534.5 847,-540.5 847,-540.5 847,-599.5 847,-599.5 847,-605.5 841,-611.5 835,-611.5\"/>\n<text text-anchor=\"start\" x=\"754.5\" y=\"-596.3\" font-family=\"Helvetica,sans-Serif\" font-size=\"14.00\" fill=\"#000000\">node #18</text>\n<text text-anchor=\"start\" x=\"756\" y=\"-581.3\" font-family=\"Helvetica,sans-Serif\" font-size=\"14.00\" fill=\"#000000\">gini = 0.0</text>\n<text text-anchor=\"start\" x=\"733.5\" y=\"-566.3\" font-family=\"Helvetica,sans-Serif\" font-size=\"14.00\" fill=\"#000000\">samples = 0.1%</text>\n<text text-anchor=\"start\" x=\"732\" y=\"-551.3\" font-family=\"Helvetica,sans-Serif\" font-size=\"14.00\" fill=\"#000000\">value = [1.0, 0.0]</text>\n<text text-anchor=\"start\" x=\"756.5\" y=\"-536.3\" font-family=\"Helvetica,sans-Serif\" font-size=\"14.00\" fill=\"#000000\">class = 0</text>\n</g>\n<!-- 17&#45;&gt;18 -->\n<g id=\"edge18\" class=\"edge\">\n<title>17&#45;&gt;18</title>\n<path fill=\"none\" stroke=\"#000000\" d=\"M902.03,-654.8642C885.4352,-642.7789 867.6917,-629.857 851.1827,-617.8342\"/>\n<polygon fill=\"#000000\" stroke=\"#000000\" points=\"852.8188,-614.6959 842.6748,-611.6381 848.6979,-620.3544 852.8188,-614.6959\"/>\n</g>\n<!-- 19 -->\n<g id=\"node20\" class=\"node\">\n<title>19</title>\n<path fill=\"#92c9f1\" stroke=\"#000000\" d=\"M1001.5,-619C1001.5,-619 877.5,-619 877.5,-619 871.5,-619 865.5,-613 865.5,-607 865.5,-607 865.5,-533 865.5,-533 865.5,-527 871.5,-521 877.5,-521 877.5,-521 1001.5,-521 1001.5,-521 1007.5,-521 1013.5,-527 1013.5,-533 1013.5,-533 1013.5,-607 1013.5,-607 1013.5,-613 1007.5,-619 1001.5,-619\"/>\n<text text-anchor=\"start\" x=\"908.5\" y=\"-603.8\" font-family=\"Helvetica,sans-Serif\" font-size=\"14.00\" fill=\"#000000\">node #19</text>\n<text text-anchor=\"start\" x=\"873.5\" y=\"-588.8\" font-family=\"Helvetica,sans-Serif\" font-size=\"14.00\" fill=\"#000000\">Leukocytes ≤ &#45;1.226</text>\n<text text-anchor=\"start\" x=\"901.5\" y=\"-573.8\" font-family=\"Helvetica,sans-Serif\" font-size=\"14.00\" fill=\"#000000\">gini = 0.428</text>\n<text text-anchor=\"start\" x=\"887.5\" y=\"-558.8\" font-family=\"Helvetica,sans-Serif\" font-size=\"14.00\" fill=\"#000000\">samples = 0.5%</text>\n<text text-anchor=\"start\" x=\"877.5\" y=\"-543.8\" font-family=\"Helvetica,sans-Serif\" font-size=\"14.00\" fill=\"#000000\">value = [0.31, 0.69]</text>\n<text text-anchor=\"start\" x=\"910.5\" y=\"-528.8\" font-family=\"Helvetica,sans-Serif\" font-size=\"14.00\" fill=\"#000000\">class = 1</text>\n</g>\n<!-- 17&#45;&gt;19 -->\n<g id=\"edge19\" class=\"edge\">\n<title>17&#45;&gt;19</title>\n<path fill=\"none\" stroke=\"#000000\" d=\"M958.4995,-654.8642C956.6244,-646.4891 954.6595,-637.7123 952.7339,-629.1113\"/>\n<polygon fill=\"#000000\" stroke=\"#000000\" points=\"956.0995,-628.1236 950.4992,-619.1298 949.2686,-629.6529 956.0995,-628.1236\"/>\n</g>\n<!-- 20 -->\n<g id=\"node21\" class=\"node\">\n<title>20</title>\n<path fill=\"#fbede3\" stroke=\"#000000\" d=\"M804.5,-485C804.5,-485 672.5,-485 672.5,-485 666.5,-485 660.5,-479 660.5,-473 660.5,-473 660.5,-399 660.5,-399 660.5,-393 666.5,-387 672.5,-387 672.5,-387 804.5,-387 804.5,-387 810.5,-387 816.5,-393 816.5,-399 816.5,-399 816.5,-473 816.5,-473 816.5,-479 810.5,-485 804.5,-485\"/>\n<text text-anchor=\"start\" x=\"707.5\" y=\"-469.8\" font-family=\"Helvetica,sans-Serif\" font-size=\"14.00\" fill=\"#000000\">node #20</text>\n<text text-anchor=\"start\" x=\"675\" y=\"-454.8\" font-family=\"Helvetica,sans-Serif\" font-size=\"14.00\" fill=\"#000000\">Hematocrit ≤ &#45;0.553</text>\n<text text-anchor=\"start\" x=\"700.5\" y=\"-439.8\" font-family=\"Helvetica,sans-Serif\" font-size=\"14.00\" fill=\"#000000\">gini = 0.497</text>\n<text text-anchor=\"start\" x=\"686.5\" y=\"-424.8\" font-family=\"Helvetica,sans-Serif\" font-size=\"14.00\" fill=\"#000000\">samples = 0.2%</text>\n<text text-anchor=\"start\" x=\"668.5\" y=\"-409.8\" font-family=\"Helvetica,sans-Serif\" font-size=\"14.00\" fill=\"#000000\">value = [0.538, 0.462]</text>\n<text text-anchor=\"start\" x=\"709.5\" y=\"-394.8\" font-family=\"Helvetica,sans-Serif\" font-size=\"14.00\" fill=\"#000000\">class = 0</text>\n</g>\n<!-- 19&#45;&gt;20 -->\n<g id=\"edge20\" class=\"edge\">\n<title>19&#45;&gt;20</title>\n<path fill=\"none\" stroke=\"#000000\" d=\"M865.7964,-520.8642C851.1854,-511.1236 835.7593,-500.8396 820.8812,-490.9208\"/>\n<polygon fill=\"#000000\" stroke=\"#000000\" points=\"822.4567,-487.7647 812.1947,-485.1298 818.5738,-493.5891 822.4567,-487.7647\"/>\n</g>\n<!-- 27 -->\n<g id=\"node28\" class=\"node\">\n<title>27</title>\n<path fill=\"#55abe9\" stroke=\"#000000\" d=\"M1059,-485C1059,-485 892,-485 892,-485 886,-485 880,-479 880,-473 880,-473 880,-399 880,-399 880,-393 886,-387 892,-387 892,-387 1059,-387 1059,-387 1065,-387 1071,-393 1071,-399 1071,-399 1071,-473 1071,-473 1071,-479 1065,-485 1059,-485\"/>\n<text text-anchor=\"start\" x=\"944.5\" y=\"-469.8\" font-family=\"Helvetica,sans-Serif\" font-size=\"14.00\" fill=\"#000000\">node #27</text>\n<text text-anchor=\"start\" x=\"888\" y=\"-454.8\" font-family=\"Helvetica,sans-Serif\" font-size=\"14.00\" fill=\"#000000\">Influenza B, rapid test ≤ 0.5</text>\n<text text-anchor=\"start\" x=\"937.5\" y=\"-439.8\" font-family=\"Helvetica,sans-Serif\" font-size=\"14.00\" fill=\"#000000\">gini = 0.219</text>\n<text text-anchor=\"start\" x=\"923.5\" y=\"-424.8\" font-family=\"Helvetica,sans-Serif\" font-size=\"14.00\" fill=\"#000000\">samples = 0.3%</text>\n<text text-anchor=\"start\" x=\"905.5\" y=\"-409.8\" font-family=\"Helvetica,sans-Serif\" font-size=\"14.00\" fill=\"#000000\">value = [0.125, 0.875]</text>\n<text text-anchor=\"start\" x=\"946.5\" y=\"-394.8\" font-family=\"Helvetica,sans-Serif\" font-size=\"14.00\" fill=\"#000000\">class = 1</text>\n</g>\n<!-- 19&#45;&gt;27 -->\n<g id=\"edge27\" class=\"edge\">\n<title>19&#45;&gt;27</title>\n<path fill=\"none\" stroke=\"#000000\" d=\"M952.7007,-520.8642C954.9751,-512.3981 957.3599,-503.5214 959.6947,-494.8309\"/>\n<polygon fill=\"#000000\" stroke=\"#000000\" points=\"963.0864,-495.6955 962.3009,-485.1298 956.3262,-493.8793 963.0864,-495.6955\"/>\n</g>\n<!-- 21 -->\n<g id=\"node22\" class=\"node\">\n<title>21</title>\n<path fill=\"#e58139\" stroke=\"#000000\" d=\"M630,-343.5C630,-343.5 531,-343.5 531,-343.5 525,-343.5 519,-337.5 519,-331.5 519,-331.5 519,-272.5 519,-272.5 519,-266.5 525,-260.5 531,-260.5 531,-260.5 630,-260.5 630,-260.5 636,-260.5 642,-266.5 642,-272.5 642,-272.5 642,-331.5 642,-331.5 642,-337.5 636,-343.5 630,-343.5\"/>\n<text text-anchor=\"start\" x=\"549.5\" y=\"-328.3\" font-family=\"Helvetica,sans-Serif\" font-size=\"14.00\" fill=\"#000000\">node #21</text>\n<text text-anchor=\"start\" x=\"551\" y=\"-313.3\" font-family=\"Helvetica,sans-Serif\" font-size=\"14.00\" fill=\"#000000\">gini = 0.0</text>\n<text text-anchor=\"start\" x=\"528.5\" y=\"-298.3\" font-family=\"Helvetica,sans-Serif\" font-size=\"14.00\" fill=\"#000000\">samples = 0.1%</text>\n<text text-anchor=\"start\" x=\"527\" y=\"-283.3\" font-family=\"Helvetica,sans-Serif\" font-size=\"14.00\" fill=\"#000000\">value = [1.0, 0.0]</text>\n<text text-anchor=\"start\" x=\"551.5\" y=\"-268.3\" font-family=\"Helvetica,sans-Serif\" font-size=\"14.00\" fill=\"#000000\">class = 0</text>\n</g>\n<!-- 20&#45;&gt;21 -->\n<g id=\"edge21\" class=\"edge\">\n<title>20&#45;&gt;21</title>\n<path fill=\"none\" stroke=\"#000000\" d=\"M680.5638,-386.8642C666.4447,-374.8898 651.3572,-362.0941 637.2919,-350.1653\"/>\n<polygon fill=\"#000000\" stroke=\"#000000\" points=\"639.4861,-347.4369 629.5957,-343.6381 634.9584,-352.7755 639.4861,-347.4369\"/>\n</g>\n<!-- 22 -->\n<g id=\"node23\" class=\"node\">\n<title>22</title>\n<path fill=\"#9ccef2\" stroke=\"#000000\" d=\"M804.5,-351C804.5,-351 672.5,-351 672.5,-351 666.5,-351 660.5,-345 660.5,-339 660.5,-339 660.5,-265 660.5,-265 660.5,-259 666.5,-253 672.5,-253 672.5,-253 804.5,-253 804.5,-253 810.5,-253 816.5,-259 816.5,-265 816.5,-265 816.5,-339 816.5,-339 816.5,-345 810.5,-351 804.5,-351\"/>\n<text text-anchor=\"start\" x=\"707.5\" y=\"-335.8\" font-family=\"Helvetica,sans-Serif\" font-size=\"14.00\" fill=\"#000000\">node #22</text>\n<text text-anchor=\"start\" x=\"694.5\" y=\"-320.8\" font-family=\"Helvetica,sans-Serif\" font-size=\"14.00\" fill=\"#000000\">Urea ≤ &#45;0.257</text>\n<text text-anchor=\"start\" x=\"700.5\" y=\"-305.8\" font-family=\"Helvetica,sans-Serif\" font-size=\"14.00\" fill=\"#000000\">gini = 0.444</text>\n<text text-anchor=\"start\" x=\"686.5\" y=\"-290.8\" font-family=\"Helvetica,sans-Serif\" font-size=\"14.00\" fill=\"#000000\">samples = 0.2%</text>\n<text text-anchor=\"start\" x=\"668.5\" y=\"-275.8\" font-family=\"Helvetica,sans-Serif\" font-size=\"14.00\" fill=\"#000000\">value = [0.333, 0.667]</text>\n<text text-anchor=\"start\" x=\"709.5\" y=\"-260.8\" font-family=\"Helvetica,sans-Serif\" font-size=\"14.00\" fill=\"#000000\">class = 1</text>\n</g>\n<!-- 20&#45;&gt;22 -->\n<g id=\"edge22\" class=\"edge\">\n<title>20&#45;&gt;22</title>\n<path fill=\"none\" stroke=\"#000000\" d=\"M738.5,-386.8642C738.5,-378.5802 738.5,-369.903 738.5,-361.3918\"/>\n<polygon fill=\"#000000\" stroke=\"#000000\" points=\"742.0001,-361.1298 738.5,-351.1298 735.0001,-361.1299 742.0001,-361.1298\"/>\n</g>\n<!-- 23 -->\n<g id=\"node24\" class=\"node\">\n<title>23</title>\n<path fill=\"#399de5\" stroke=\"#000000\" d=\"M603,-209.5C603,-209.5 504,-209.5 504,-209.5 498,-209.5 492,-203.5 492,-197.5 492,-197.5 492,-138.5 492,-138.5 492,-132.5 498,-126.5 504,-126.5 504,-126.5 603,-126.5 603,-126.5 609,-126.5 615,-132.5 615,-138.5 615,-138.5 615,-197.5 615,-197.5 615,-203.5 609,-209.5 603,-209.5\"/>\n<text text-anchor=\"start\" x=\"522.5\" y=\"-194.3\" font-family=\"Helvetica,sans-Serif\" font-size=\"14.00\" fill=\"#000000\">node #23</text>\n<text text-anchor=\"start\" x=\"524\" y=\"-179.3\" font-family=\"Helvetica,sans-Serif\" font-size=\"14.00\" fill=\"#000000\">gini = 0.0</text>\n<text text-anchor=\"start\" x=\"501.5\" y=\"-164.3\" font-family=\"Helvetica,sans-Serif\" font-size=\"14.00\" fill=\"#000000\">samples = 0.1%</text>\n<text text-anchor=\"start\" x=\"500\" y=\"-149.3\" font-family=\"Helvetica,sans-Serif\" font-size=\"14.00\" fill=\"#000000\">value = [0.0, 1.0]</text>\n<text text-anchor=\"start\" x=\"524.5\" y=\"-134.3\" font-family=\"Helvetica,sans-Serif\" font-size=\"14.00\" fill=\"#000000\">class = 1</text>\n</g>\n<!-- 22&#45;&gt;23 -->\n<g id=\"edge23\" class=\"edge\">\n<title>22&#45;&gt;23</title>\n<path fill=\"none\" stroke=\"#000000\" d=\"M670.6633,-252.8642C653.9784,-240.7789 636.1384,-227.857 619.5397,-215.8342\"/>\n<polygon fill=\"#000000\" stroke=\"#000000\" points=\"621.1374,-212.6697 610.9855,-209.6381 617.0311,-218.3388 621.1374,-212.6697\"/>\n</g>\n<!-- 24 -->\n<g id=\"node25\" class=\"node\">\n<title>24</title>\n<path fill=\"#eeab7b\" stroke=\"#000000\" d=\"M853.5,-217C853.5,-217 645.5,-217 645.5,-217 639.5,-217 633.5,-211 633.5,-205 633.5,-205 633.5,-131 633.5,-131 633.5,-125 639.5,-119 645.5,-119 645.5,-119 853.5,-119 853.5,-119 859.5,-119 865.5,-125 865.5,-131 865.5,-131 865.5,-205 865.5,-205 865.5,-211 859.5,-217 853.5,-217\"/>\n<text text-anchor=\"start\" x=\"718.5\" y=\"-201.8\" font-family=\"Helvetica,sans-Serif\" font-size=\"14.00\" fill=\"#000000\">node #24</text>\n<text text-anchor=\"start\" x=\"641.5\" y=\"-186.8\" font-family=\"Helvetica,sans-Serif\" font-size=\"14.00\" fill=\"#000000\">Proteina C reativa mg/dL ≤ &#45;0.173</text>\n<text text-anchor=\"start\" x=\"711.5\" y=\"-171.8\" font-family=\"Helvetica,sans-Serif\" font-size=\"14.00\" fill=\"#000000\">gini = 0.375</text>\n<text text-anchor=\"start\" x=\"697.5\" y=\"-156.8\" font-family=\"Helvetica,sans-Serif\" font-size=\"14.00\" fill=\"#000000\">samples = 0.1%</text>\n<text text-anchor=\"start\" x=\"687.5\" y=\"-141.8\" font-family=\"Helvetica,sans-Serif\" font-size=\"14.00\" fill=\"#000000\">value = [0.75, 0.25]</text>\n<text text-anchor=\"start\" x=\"720.5\" y=\"-126.8\" font-family=\"Helvetica,sans-Serif\" font-size=\"14.00\" fill=\"#000000\">class = 0</text>\n</g>\n<!-- 22&#45;&gt;24 -->\n<g id=\"edge24\" class=\"edge\">\n<title>22&#45;&gt;24</title>\n<path fill=\"none\" stroke=\"#000000\" d=\"M742.5335,-252.8642C743.221,-244.4891 743.9415,-235.7123 744.6476,-227.1113\"/>\n<polygon fill=\"#000000\" stroke=\"#000000\" points=\"748.137,-227.3827 745.467,-217.1298 741.1605,-226.8099 748.137,-227.3827\"/>\n</g>\n<!-- 25 -->\n<g id=\"node26\" class=\"node\">\n<title>25</title>\n<path fill=\"#e58139\" stroke=\"#000000\" d=\"M754,-83C754,-83 655,-83 655,-83 649,-83 643,-77 643,-71 643,-71 643,-12 643,-12 643,-6 649,0 655,0 655,0 754,0 754,0 760,0 766,-6 766,-12 766,-12 766,-71 766,-71 766,-77 760,-83 754,-83\"/>\n<text text-anchor=\"start\" x=\"673.5\" y=\"-67.8\" font-family=\"Helvetica,sans-Serif\" font-size=\"14.00\" fill=\"#000000\">node #25</text>\n<text text-anchor=\"start\" x=\"675\" y=\"-52.8\" font-family=\"Helvetica,sans-Serif\" font-size=\"14.00\" fill=\"#000000\">gini = 0.0</text>\n<text text-anchor=\"start\" x=\"652.5\" y=\"-37.8\" font-family=\"Helvetica,sans-Serif\" font-size=\"14.00\" fill=\"#000000\">samples = 0.1%</text>\n<text text-anchor=\"start\" x=\"651\" y=\"-22.8\" font-family=\"Helvetica,sans-Serif\" font-size=\"14.00\" fill=\"#000000\">value = [1.0, 0.0]</text>\n<text text-anchor=\"start\" x=\"675.5\" y=\"-7.8\" font-family=\"Helvetica,sans-Serif\" font-size=\"14.00\" fill=\"#000000\">class = 0</text>\n</g>\n<!-- 24&#45;&gt;25 -->\n<g id=\"edge25\" class=\"edge\">\n<title>24&#45;&gt;25</title>\n<path fill=\"none\" stroke=\"#000000\" d=\"M731.973,-118.7296C728.9248,-110.1609 725.7485,-101.2319 722.6832,-92.6151\"/>\n<polygon fill=\"#000000\" stroke=\"#000000\" points=\"725.9316,-91.3035 719.2824,-83.055 719.3365,-93.6497 725.9316,-91.3035\"/>\n</g>\n<!-- 26 -->\n<g id=\"node27\" class=\"node\">\n<title>26</title>\n<path fill=\"#399de5\" stroke=\"#000000\" d=\"M895,-83C895,-83 796,-83 796,-83 790,-83 784,-77 784,-71 784,-71 784,-12 784,-12 784,-6 790,0 796,0 796,0 895,0 895,0 901,0 907,-6 907,-12 907,-12 907,-71 907,-71 907,-77 901,-83 895,-83\"/>\n<text text-anchor=\"start\" x=\"814.5\" y=\"-67.8\" font-family=\"Helvetica,sans-Serif\" font-size=\"14.00\" fill=\"#000000\">node #26</text>\n<text text-anchor=\"start\" x=\"816\" y=\"-52.8\" font-family=\"Helvetica,sans-Serif\" font-size=\"14.00\" fill=\"#000000\">gini = 0.0</text>\n<text text-anchor=\"start\" x=\"793.5\" y=\"-37.8\" font-family=\"Helvetica,sans-Serif\" font-size=\"14.00\" fill=\"#000000\">samples = 0.0%</text>\n<text text-anchor=\"start\" x=\"792\" y=\"-22.8\" font-family=\"Helvetica,sans-Serif\" font-size=\"14.00\" fill=\"#000000\">value = [0.0, 1.0]</text>\n<text text-anchor=\"start\" x=\"816.5\" y=\"-7.8\" font-family=\"Helvetica,sans-Serif\" font-size=\"14.00\" fill=\"#000000\">class = 1</text>\n</g>\n<!-- 24&#45;&gt;26 -->\n<g id=\"edge26\" class=\"edge\">\n<title>24&#45;&gt;26</title>\n<path fill=\"none\" stroke=\"#000000\" d=\"M786.891,-118.7296C793.7433,-109.7002 800.8993,-100.2707 807.7617,-91.2281\"/>\n<polygon fill=\"#000000\" stroke=\"#000000\" points=\"810.707,-93.1367 813.9642,-83.055 805.1309,-88.905 810.707,-93.1367\"/>\n</g>\n<!-- 28 -->\n<g id=\"node29\" class=\"node\">\n<title>28</title>\n<path fill=\"#47a4e7\" stroke=\"#000000\" d=\"M1104,-351C1104,-351 847,-351 847,-351 841,-351 835,-345 835,-339 835,-339 835,-265 835,-265 835,-259 841,-253 847,-253 847,-253 1104,-253 1104,-253 1110,-253 1116,-259 1116,-265 1116,-265 1116,-339 1116,-339 1116,-345 1110,-351 1104,-351\"/>\n<text text-anchor=\"start\" x=\"944.5\" y=\"-335.8\" font-family=\"Helvetica,sans-Serif\" font-size=\"14.00\" fill=\"#000000\">node #28</text>\n<text text-anchor=\"start\" x=\"843\" y=\"-320.8\" font-family=\"Helvetica,sans-Serif\" font-size=\"14.00\" fill=\"#000000\">Mean corpuscular volume (MCV) ≤ 0.827</text>\n<text text-anchor=\"start\" x=\"937.5\" y=\"-305.8\" font-family=\"Helvetica,sans-Serif\" font-size=\"14.00\" fill=\"#000000\">gini = 0.124</text>\n<text text-anchor=\"start\" x=\"923.5\" y=\"-290.8\" font-family=\"Helvetica,sans-Serif\" font-size=\"14.00\" fill=\"#000000\">samples = 0.3%</text>\n<text text-anchor=\"start\" x=\"905.5\" y=\"-275.8\" font-family=\"Helvetica,sans-Serif\" font-size=\"14.00\" fill=\"#000000\">value = [0.067, 0.933]</text>\n<text text-anchor=\"start\" x=\"946.5\" y=\"-260.8\" font-family=\"Helvetica,sans-Serif\" font-size=\"14.00\" fill=\"#000000\">class = 1</text>\n</g>\n<!-- 27&#45;&gt;28 -->\n<g id=\"edge28\" class=\"edge\">\n<title>27&#45;&gt;28</title>\n<path fill=\"none\" stroke=\"#000000\" d=\"M975.5,-386.8642C975.5,-378.5802 975.5,-369.903 975.5,-361.3918\"/>\n<polygon fill=\"#000000\" stroke=\"#000000\" points=\"979.0001,-361.1298 975.5,-351.1298 972.0001,-361.1299 979.0001,-361.1298\"/>\n</g>\n<!-- 33 -->\n<g id=\"node34\" class=\"node\">\n<title>33</title>\n<path fill=\"#e58139\" stroke=\"#000000\" d=\"M1245,-343.5C1245,-343.5 1146,-343.5 1146,-343.5 1140,-343.5 1134,-337.5 1134,-331.5 1134,-331.5 1134,-272.5 1134,-272.5 1134,-266.5 1140,-260.5 1146,-260.5 1146,-260.5 1245,-260.5 1245,-260.5 1251,-260.5 1257,-266.5 1257,-272.5 1257,-272.5 1257,-331.5 1257,-331.5 1257,-337.5 1251,-343.5 1245,-343.5\"/>\n<text text-anchor=\"start\" x=\"1164.5\" y=\"-328.3\" font-family=\"Helvetica,sans-Serif\" font-size=\"14.00\" fill=\"#000000\">node #33</text>\n<text text-anchor=\"start\" x=\"1166\" y=\"-313.3\" font-family=\"Helvetica,sans-Serif\" font-size=\"14.00\" fill=\"#000000\">gini = 0.0</text>\n<text text-anchor=\"start\" x=\"1143.5\" y=\"-298.3\" font-family=\"Helvetica,sans-Serif\" font-size=\"14.00\" fill=\"#000000\">samples = 0.0%</text>\n<text text-anchor=\"start\" x=\"1142\" y=\"-283.3\" font-family=\"Helvetica,sans-Serif\" font-size=\"14.00\" fill=\"#000000\">value = [1.0, 0.0]</text>\n<text text-anchor=\"start\" x=\"1166.5\" y=\"-268.3\" font-family=\"Helvetica,sans-Serif\" font-size=\"14.00\" fill=\"#000000\">class = 0</text>\n</g>\n<!-- 27&#45;&gt;33 -->\n<g id=\"edge33\" class=\"edge\">\n<title>27&#45;&gt;33</title>\n<path fill=\"none\" stroke=\"#000000\" d=\"M1064.4814,-386.8935C1084.422,-375.4322 1105.3385,-363.0467 1124.5,-351 1125.4509,-350.4021 1126.4071,-349.7973 1127.3674,-349.1863\"/>\n<polygon fill=\"#000000\" stroke=\"#000000\" points=\"1129.5921,-351.9158 1136.0901,-343.5477 1125.7919,-346.0371 1129.5921,-351.9158\"/>\n</g>\n<!-- 29 -->\n<g id=\"node30\" class=\"node\">\n<title>29</title>\n<path fill=\"#399de5\" stroke=\"#000000\" d=\"M1015,-209.5C1015,-209.5 916,-209.5 916,-209.5 910,-209.5 904,-203.5 904,-197.5 904,-197.5 904,-138.5 904,-138.5 904,-132.5 910,-126.5 916,-126.5 916,-126.5 1015,-126.5 1015,-126.5 1021,-126.5 1027,-132.5 1027,-138.5 1027,-138.5 1027,-197.5 1027,-197.5 1027,-203.5 1021,-209.5 1015,-209.5\"/>\n<text text-anchor=\"start\" x=\"934.5\" y=\"-194.3\" font-family=\"Helvetica,sans-Serif\" font-size=\"14.00\" fill=\"#000000\">node #29</text>\n<text text-anchor=\"start\" x=\"936\" y=\"-179.3\" font-family=\"Helvetica,sans-Serif\" font-size=\"14.00\" fill=\"#000000\">gini = 0.0</text>\n<text text-anchor=\"start\" x=\"913.5\" y=\"-164.3\" font-family=\"Helvetica,sans-Serif\" font-size=\"14.00\" fill=\"#000000\">samples = 0.2%</text>\n<text text-anchor=\"start\" x=\"912\" y=\"-149.3\" font-family=\"Helvetica,sans-Serif\" font-size=\"14.00\" fill=\"#000000\">value = [0.0, 1.0]</text>\n<text text-anchor=\"start\" x=\"936.5\" y=\"-134.3\" font-family=\"Helvetica,sans-Serif\" font-size=\"14.00\" fill=\"#000000\">class = 1</text>\n</g>\n<!-- 28&#45;&gt;29 -->\n<g id=\"edge29\" class=\"edge\">\n<title>28&#45;&gt;29</title>\n<path fill=\"none\" stroke=\"#000000\" d=\"M971.8332,-252.8642C971.0306,-242.1094 970.1785,-230.6921 969.3683,-219.8354\"/>\n<polygon fill=\"#000000\" stroke=\"#000000\" points=\"972.8419,-219.3499 968.6073,-209.6381 965.8613,-219.8709 972.8419,-219.3499\"/>\n</g>\n<!-- 30 -->\n<g id=\"node31\" class=\"node\">\n<title>30</title>\n<path fill=\"#ffffff\" stroke=\"#000000\" d=\"M1171.5,-217C1171.5,-217 1057.5,-217 1057.5,-217 1051.5,-217 1045.5,-211 1045.5,-205 1045.5,-205 1045.5,-131 1045.5,-131 1045.5,-125 1051.5,-119 1057.5,-119 1057.5,-119 1171.5,-119 1171.5,-119 1177.5,-119 1183.5,-125 1183.5,-131 1183.5,-131 1183.5,-205 1183.5,-205 1183.5,-211 1177.5,-217 1171.5,-217\"/>\n<text text-anchor=\"start\" x=\"1083.5\" y=\"-201.8\" font-family=\"Helvetica,sans-Serif\" font-size=\"14.00\" fill=\"#000000\">node #30</text>\n<text text-anchor=\"start\" x=\"1053.5\" y=\"-186.8\" font-family=\"Helvetica,sans-Serif\" font-size=\"14.00\" fill=\"#000000\">Hematocrit ≤ 0.053</text>\n<text text-anchor=\"start\" x=\"1085\" y=\"-171.8\" font-family=\"Helvetica,sans-Serif\" font-size=\"14.00\" fill=\"#000000\">gini = 0.5</text>\n<text text-anchor=\"start\" x=\"1062.5\" y=\"-156.8\" font-family=\"Helvetica,sans-Serif\" font-size=\"14.00\" fill=\"#000000\">samples = 0.0%</text>\n<text text-anchor=\"start\" x=\"1061\" y=\"-141.8\" font-family=\"Helvetica,sans-Serif\" font-size=\"14.00\" fill=\"#000000\">value = [0.5, 0.5]</text>\n<text text-anchor=\"start\" x=\"1085.5\" y=\"-126.8\" font-family=\"Helvetica,sans-Serif\" font-size=\"14.00\" fill=\"#000000\">class = 0</text>\n</g>\n<!-- 28&#45;&gt;30 -->\n<g id=\"edge30\" class=\"edge\">\n<title>28&#45;&gt;30</title>\n<path fill=\"none\" stroke=\"#000000\" d=\"M1026.4692,-252.8642C1036.1011,-243.5788 1046.2453,-233.7995 1056.0852,-224.3136\"/>\n<polygon fill=\"#000000\" stroke=\"#000000\" points=\"1058.7667,-226.59 1063.537,-217.1298 1053.9084,-221.5505 1058.7667,-226.59\"/>\n</g>\n<!-- 31 -->\n<g id=\"node32\" class=\"node\">\n<title>31</title>\n<path fill=\"#399de5\" stroke=\"#000000\" d=\"M1067,-83C1067,-83 968,-83 968,-83 962,-83 956,-77 956,-71 956,-71 956,-12 956,-12 956,-6 962,0 968,0 968,0 1067,0 1067,0 1073,0 1079,-6 1079,-12 1079,-12 1079,-71 1079,-71 1079,-77 1073,-83 1067,-83\"/>\n<text text-anchor=\"start\" x=\"986.5\" y=\"-67.8\" font-family=\"Helvetica,sans-Serif\" font-size=\"14.00\" fill=\"#000000\">node #31</text>\n<text text-anchor=\"start\" x=\"988\" y=\"-52.8\" font-family=\"Helvetica,sans-Serif\" font-size=\"14.00\" fill=\"#000000\">gini = 0.0</text>\n<text text-anchor=\"start\" x=\"965.5\" y=\"-37.8\" font-family=\"Helvetica,sans-Serif\" font-size=\"14.00\" fill=\"#000000\">samples = 0.0%</text>\n<text text-anchor=\"start\" x=\"964\" y=\"-22.8\" font-family=\"Helvetica,sans-Serif\" font-size=\"14.00\" fill=\"#000000\">value = [0.0, 1.0]</text>\n<text text-anchor=\"start\" x=\"988.5\" y=\"-7.8\" font-family=\"Helvetica,sans-Serif\" font-size=\"14.00\" fill=\"#000000\">class = 1</text>\n</g>\n<!-- 30&#45;&gt;31 -->\n<g id=\"edge31\" class=\"edge\">\n<title>30&#45;&gt;31</title>\n<path fill=\"none\" stroke=\"#000000\" d=\"M1076.7195,-118.7296C1069.7958,-109.7002 1062.5653,-100.2707 1055.6314,-91.2281\"/>\n<polygon fill=\"#000000\" stroke=\"#000000\" points=\"1058.2267,-88.8608 1049.3643,-83.055 1052.6718,-93.1203 1058.2267,-88.8608\"/>\n</g>\n<!-- 32 -->\n<g id=\"node33\" class=\"node\">\n<title>32</title>\n<path fill=\"#e58139\" stroke=\"#000000\" d=\"M1208,-83C1208,-83 1109,-83 1109,-83 1103,-83 1097,-77 1097,-71 1097,-71 1097,-12 1097,-12 1097,-6 1103,0 1109,0 1109,0 1208,0 1208,0 1214,0 1220,-6 1220,-12 1220,-12 1220,-71 1220,-71 1220,-77 1214,-83 1208,-83\"/>\n<text text-anchor=\"start\" x=\"1127.5\" y=\"-67.8\" font-family=\"Helvetica,sans-Serif\" font-size=\"14.00\" fill=\"#000000\">node #32</text>\n<text text-anchor=\"start\" x=\"1129\" y=\"-52.8\" font-family=\"Helvetica,sans-Serif\" font-size=\"14.00\" fill=\"#000000\">gini = 0.0</text>\n<text text-anchor=\"start\" x=\"1106.5\" y=\"-37.8\" font-family=\"Helvetica,sans-Serif\" font-size=\"14.00\" fill=\"#000000\">samples = 0.0%</text>\n<text text-anchor=\"start\" x=\"1105\" y=\"-22.8\" font-family=\"Helvetica,sans-Serif\" font-size=\"14.00\" fill=\"#000000\">value = [1.0, 0.0]</text>\n<text text-anchor=\"start\" x=\"1129.5\" y=\"-7.8\" font-family=\"Helvetica,sans-Serif\" font-size=\"14.00\" fill=\"#000000\">class = 0</text>\n</g>\n<!-- 30&#45;&gt;32 -->\n<g id=\"edge32\" class=\"edge\">\n<title>30&#45;&gt;32</title>\n<path fill=\"none\" stroke=\"#000000\" d=\"M1131.6375,-118.7296C1134.6179,-110.1609 1137.7237,-101.2319 1140.7208,-92.6151\"/>\n<polygon fill=\"#000000\" stroke=\"#000000\" points=\"1144.0666,-93.6498 1144.0461,-83.055 1137.4551,-91.3501 1144.0666,-93.6498\"/>\n</g>\n<!-- 36 -->\n<g id=\"node37\" class=\"node\">\n<title>36</title>\n<path fill=\"#f6d2b8\" stroke=\"#000000\" d=\"M1512.5,-887C1512.5,-887 1348.5,-887 1348.5,-887 1342.5,-887 1336.5,-881 1336.5,-875 1336.5,-875 1336.5,-801 1336.5,-801 1336.5,-795 1342.5,-789 1348.5,-789 1348.5,-789 1512.5,-789 1512.5,-789 1518.5,-789 1524.5,-795 1524.5,-801 1524.5,-801 1524.5,-875 1524.5,-875 1524.5,-881 1518.5,-887 1512.5,-887\"/>\n<text text-anchor=\"start\" x=\"1399.5\" y=\"-871.8\" font-family=\"Helvetica,sans-Serif\" font-size=\"14.00\" fill=\"#000000\">node #36</text>\n<text text-anchor=\"start\" x=\"1344.5\" y=\"-856.8\" font-family=\"Helvetica,sans-Serif\" font-size=\"14.00\" fill=\"#000000\">Patient age quantile ≤ 12.0</text>\n<text text-anchor=\"start\" x=\"1392.5\" y=\"-841.8\" font-family=\"Helvetica,sans-Serif\" font-size=\"14.00\" fill=\"#000000\">gini = 0.476</text>\n<text text-anchor=\"start\" x=\"1378.5\" y=\"-826.8\" font-family=\"Helvetica,sans-Serif\" font-size=\"14.00\" fill=\"#000000\">samples = 0.4%</text>\n<text text-anchor=\"start\" x=\"1360.5\" y=\"-811.8\" font-family=\"Helvetica,sans-Serif\" font-size=\"14.00\" fill=\"#000000\">value = [0.609, 0.391]</text>\n<text text-anchor=\"start\" x=\"1401.5\" y=\"-796.8\" font-family=\"Helvetica,sans-Serif\" font-size=\"14.00\" fill=\"#000000\">class = 0</text>\n</g>\n<!-- 35&#45;&gt;36 -->\n<g id=\"edge36\" class=\"edge\">\n<title>35&#45;&gt;36</title>\n<path fill=\"none\" stroke=\"#000000\" d=\"M1430.5,-922.8642C1430.5,-914.5802 1430.5,-905.903 1430.5,-897.3918\"/>\n<polygon fill=\"#000000\" stroke=\"#000000\" points=\"1434.0001,-897.1298 1430.5,-887.1298 1427.0001,-897.1299 1434.0001,-897.1298\"/>\n</g>\n<!-- 45 -->\n<g id=\"node46\" class=\"node\">\n<title>45</title>\n<path fill=\"#e89051\" stroke=\"#000000\" d=\"M1896,-887C1896,-887 1761,-887 1761,-887 1755,-887 1749,-881 1749,-875 1749,-875 1749,-801 1749,-801 1749,-795 1755,-789 1761,-789 1761,-789 1896,-789 1896,-789 1902,-789 1908,-795 1908,-801 1908,-801 1908,-875 1908,-875 1908,-881 1902,-887 1896,-887\"/>\n<text text-anchor=\"start\" x=\"1797.5\" y=\"-871.8\" font-family=\"Helvetica,sans-Serif\" font-size=\"14.00\" fill=\"#000000\">node #45</text>\n<text text-anchor=\"start\" x=\"1757\" y=\"-856.8\" font-family=\"Helvetica,sans-Serif\" font-size=\"14.00\" fill=\"#000000\">Lymphocytes ≤ &#45;0.611</text>\n<text text-anchor=\"start\" x=\"1790.5\" y=\"-841.8\" font-family=\"Helvetica,sans-Serif\" font-size=\"14.00\" fill=\"#000000\">gini = 0.194</text>\n<text text-anchor=\"start\" x=\"1776.5\" y=\"-826.8\" font-family=\"Helvetica,sans-Serif\" font-size=\"14.00\" fill=\"#000000\">samples = 1.6%</text>\n<text text-anchor=\"start\" x=\"1758.5\" y=\"-811.8\" font-family=\"Helvetica,sans-Serif\" font-size=\"14.00\" fill=\"#000000\">value = [0.891, 0.109]</text>\n<text text-anchor=\"start\" x=\"1799.5\" y=\"-796.8\" font-family=\"Helvetica,sans-Serif\" font-size=\"14.00\" fill=\"#000000\">class = 0</text>\n</g>\n<!-- 35&#45;&gt;45 -->\n<g id=\"edge45\" class=\"edge\">\n<title>35&#45;&gt;45</title>\n<path fill=\"none\" stroke=\"#000000\" d=\"M1508.6571,-945.6858C1574.9266,-923.374 1669.9709,-891.3741 1739.2238,-868.0578\"/>\n<polygon fill=\"#000000\" stroke=\"#000000\" points=\"1740.4584,-871.3353 1748.8188,-864.8273 1738.2247,-864.7012 1740.4584,-871.3353\"/>\n</g>\n<!-- 37 -->\n<g id=\"node38\" class=\"node\">\n<title>37</title>\n<path fill=\"#e99457\" stroke=\"#000000\" d=\"M1295.5,-753C1295.5,-753 1163.5,-753 1163.5,-753 1157.5,-753 1151.5,-747 1151.5,-741 1151.5,-741 1151.5,-667 1151.5,-667 1151.5,-661 1157.5,-655 1163.5,-655 1163.5,-655 1295.5,-655 1295.5,-655 1301.5,-655 1307.5,-661 1307.5,-667 1307.5,-667 1307.5,-741 1307.5,-741 1307.5,-747 1301.5,-753 1295.5,-753\"/>\n<text text-anchor=\"start\" x=\"1198.5\" y=\"-737.8\" font-family=\"Helvetica,sans-Serif\" font-size=\"14.00\" fill=\"#000000\">node #37</text>\n<text text-anchor=\"start\" x=\"1164.5\" y=\"-722.8\" font-family=\"Helvetica,sans-Serif\" font-size=\"14.00\" fill=\"#000000\">Hemoglobin ≤ 1.043</text>\n<text text-anchor=\"start\" x=\"1191.5\" y=\"-707.8\" font-family=\"Helvetica,sans-Serif\" font-size=\"14.00\" fill=\"#000000\">gini = 0.231</text>\n<text text-anchor=\"start\" x=\"1177.5\" y=\"-692.8\" font-family=\"Helvetica,sans-Serif\" font-size=\"14.00\" fill=\"#000000\">samples = 0.3%</text>\n<text text-anchor=\"start\" x=\"1159.5\" y=\"-677.8\" font-family=\"Helvetica,sans-Serif\" font-size=\"14.00\" fill=\"#000000\">value = [0.867, 0.133]</text>\n<text text-anchor=\"start\" x=\"1200.5\" y=\"-662.8\" font-family=\"Helvetica,sans-Serif\" font-size=\"14.00\" fill=\"#000000\">class = 0</text>\n</g>\n<!-- 36&#45;&gt;37 -->\n<g id=\"edge37\" class=\"edge\">\n<title>36&#45;&gt;37</title>\n<path fill=\"none\" stroke=\"#000000\" d=\"M1356.7964,-788.8642C1342.1854,-779.1236 1326.7593,-768.8396 1311.8812,-758.9208\"/>\n<polygon fill=\"#000000\" stroke=\"#000000\" points=\"1313.4567,-755.7647 1303.1947,-753.1298 1309.5738,-761.5891 1313.4567,-755.7647\"/>\n</g>\n<!-- 42 -->\n<g id=\"node43\" class=\"node\">\n<title>42</title>\n<path fill=\"#55abe9\" stroke=\"#000000\" d=\"M1609.5,-753C1609.5,-753 1337.5,-753 1337.5,-753 1331.5,-753 1325.5,-747 1325.5,-741 1325.5,-741 1325.5,-667 1325.5,-667 1325.5,-661 1331.5,-655 1337.5,-655 1337.5,-655 1609.5,-655 1609.5,-655 1615.5,-655 1621.5,-661 1621.5,-667 1621.5,-667 1621.5,-741 1621.5,-741 1621.5,-747 1615.5,-753 1609.5,-753\"/>\n<text text-anchor=\"start\" x=\"1442.5\" y=\"-737.8\" font-family=\"Helvetica,sans-Serif\" font-size=\"14.00\" fill=\"#000000\">node #42</text>\n<text text-anchor=\"start\" x=\"1333.5\" y=\"-722.8\" font-family=\"Helvetica,sans-Serif\" font-size=\"14.00\" fill=\"#000000\">pCO2 (venous blood gas analysis) ≤ &#45;0.038</text>\n<text text-anchor=\"start\" x=\"1435.5\" y=\"-707.8\" font-family=\"Helvetica,sans-Serif\" font-size=\"14.00\" fill=\"#000000\">gini = 0.219</text>\n<text text-anchor=\"start\" x=\"1421.5\" y=\"-692.8\" font-family=\"Helvetica,sans-Serif\" font-size=\"14.00\" fill=\"#000000\">samples = 0.1%</text>\n<text text-anchor=\"start\" x=\"1403.5\" y=\"-677.8\" font-family=\"Helvetica,sans-Serif\" font-size=\"14.00\" fill=\"#000000\">value = [0.125, 0.875]</text>\n<text text-anchor=\"start\" x=\"1444.5\" y=\"-662.8\" font-family=\"Helvetica,sans-Serif\" font-size=\"14.00\" fill=\"#000000\">class = 1</text>\n</g>\n<!-- 36&#45;&gt;42 -->\n<g id=\"edge42\" class=\"edge\">\n<title>36&#45;&gt;42</title>\n<path fill=\"none\" stroke=\"#000000\" d=\"M1446.2674,-788.8642C1448.9842,-780.3981 1451.8327,-771.5214 1454.6214,-762.8309\"/>\n<polygon fill=\"#000000\" stroke=\"#000000\" points=\"1458.0115,-763.721 1457.7345,-753.1298 1451.3463,-761.5821 1458.0115,-763.721\"/>\n</g>\n<!-- 38 -->\n<g id=\"node39\" class=\"node\">\n<title>38</title>\n<path fill=\"#e58139\" stroke=\"#000000\" d=\"M1143,-611.5C1143,-611.5 1044,-611.5 1044,-611.5 1038,-611.5 1032,-605.5 1032,-599.5 1032,-599.5 1032,-540.5 1032,-540.5 1032,-534.5 1038,-528.5 1044,-528.5 1044,-528.5 1143,-528.5 1143,-528.5 1149,-528.5 1155,-534.5 1155,-540.5 1155,-540.5 1155,-599.5 1155,-599.5 1155,-605.5 1149,-611.5 1143,-611.5\"/>\n<text text-anchor=\"start\" x=\"1062.5\" y=\"-596.3\" font-family=\"Helvetica,sans-Serif\" font-size=\"14.00\" fill=\"#000000\">node #38</text>\n<text text-anchor=\"start\" x=\"1064\" y=\"-581.3\" font-family=\"Helvetica,sans-Serif\" font-size=\"14.00\" fill=\"#000000\">gini = 0.0</text>\n<text text-anchor=\"start\" x=\"1041.5\" y=\"-566.3\" font-family=\"Helvetica,sans-Serif\" font-size=\"14.00\" fill=\"#000000\">samples = 0.2%</text>\n<text text-anchor=\"start\" x=\"1040\" y=\"-551.3\" font-family=\"Helvetica,sans-Serif\" font-size=\"14.00\" fill=\"#000000\">value = [1.0, 0.0]</text>\n<text text-anchor=\"start\" x=\"1064.5\" y=\"-536.3\" font-family=\"Helvetica,sans-Serif\" font-size=\"14.00\" fill=\"#000000\">class = 0</text>\n</g>\n<!-- 37&#45;&gt;38 -->\n<g id=\"edge38\" class=\"edge\">\n<title>37&#45;&gt;38</title>\n<path fill=\"none\" stroke=\"#000000\" d=\"M1179.6309,-654.8642C1167.7028,-643.1115 1154.9717,-630.5677 1143.0577,-618.8289\"/>\n<polygon fill=\"#000000\" stroke=\"#000000\" points=\"1145.3394,-616.1635 1135.7596,-611.6381 1140.4264,-621.1498 1145.3394,-616.1635\"/>\n</g>\n<!-- 39 -->\n<g id=\"node40\" class=\"node\">\n<title>39</title>\n<path fill=\"#9ccef2\" stroke=\"#000000\" d=\"M1332,-619C1332,-619 1185,-619 1185,-619 1179,-619 1173,-613 1173,-607 1173,-607 1173,-533 1173,-533 1173,-527 1179,-521 1185,-521 1185,-521 1332,-521 1332,-521 1338,-521 1344,-527 1344,-533 1344,-533 1344,-607 1344,-607 1344,-613 1338,-619 1332,-619\"/>\n<text text-anchor=\"start\" x=\"1227.5\" y=\"-603.8\" font-family=\"Helvetica,sans-Serif\" font-size=\"14.00\" fill=\"#000000\">node #39</text>\n<text text-anchor=\"start\" x=\"1181\" y=\"-588.8\" font-family=\"Helvetica,sans-Serif\" font-size=\"14.00\" fill=\"#000000\">Red blood Cells ≤ 1.248</text>\n<text text-anchor=\"start\" x=\"1220.5\" y=\"-573.8\" font-family=\"Helvetica,sans-Serif\" font-size=\"14.00\" fill=\"#000000\">gini = 0.444</text>\n<text text-anchor=\"start\" x=\"1206.5\" y=\"-558.8\" font-family=\"Helvetica,sans-Serif\" font-size=\"14.00\" fill=\"#000000\">samples = 0.1%</text>\n<text text-anchor=\"start\" x=\"1188.5\" y=\"-543.8\" font-family=\"Helvetica,sans-Serif\" font-size=\"14.00\" fill=\"#000000\">value = [0.333, 0.667]</text>\n<text text-anchor=\"start\" x=\"1229.5\" y=\"-528.8\" font-family=\"Helvetica,sans-Serif\" font-size=\"14.00\" fill=\"#000000\">class = 1</text>\n</g>\n<!-- 37&#45;&gt;39 -->\n<g id=\"edge39\" class=\"edge\">\n<title>37&#45;&gt;39</title>\n<path fill=\"none\" stroke=\"#000000\" d=\"M1240.1339,-654.8642C1241.9464,-646.4891 1243.8459,-637.7123 1245.7073,-629.1113\"/>\n<polygon fill=\"#000000\" stroke=\"#000000\" points=\"1249.1729,-629.6439 1247.8674,-619.1298 1242.3313,-628.1632 1249.1729,-629.6439\"/>\n</g>\n<!-- 40 -->\n<g id=\"node41\" class=\"node\">\n<title>40</title>\n<path fill=\"#399de5\" stroke=\"#000000\" d=\"M1272,-477.5C1272,-477.5 1173,-477.5 1173,-477.5 1167,-477.5 1161,-471.5 1161,-465.5 1161,-465.5 1161,-406.5 1161,-406.5 1161,-400.5 1167,-394.5 1173,-394.5 1173,-394.5 1272,-394.5 1272,-394.5 1278,-394.5 1284,-400.5 1284,-406.5 1284,-406.5 1284,-465.5 1284,-465.5 1284,-471.5 1278,-477.5 1272,-477.5\"/>\n<text text-anchor=\"start\" x=\"1191.5\" y=\"-462.3\" font-family=\"Helvetica,sans-Serif\" font-size=\"14.00\" fill=\"#000000\">node #40</text>\n<text text-anchor=\"start\" x=\"1193\" y=\"-447.3\" font-family=\"Helvetica,sans-Serif\" font-size=\"14.00\" fill=\"#000000\">gini = 0.0</text>\n<text text-anchor=\"start\" x=\"1170.5\" y=\"-432.3\" font-family=\"Helvetica,sans-Serif\" font-size=\"14.00\" fill=\"#000000\">samples = 0.0%</text>\n<text text-anchor=\"start\" x=\"1169\" y=\"-417.3\" font-family=\"Helvetica,sans-Serif\" font-size=\"14.00\" fill=\"#000000\">value = [0.0, 1.0]</text>\n<text text-anchor=\"start\" x=\"1193.5\" y=\"-402.3\" font-family=\"Helvetica,sans-Serif\" font-size=\"14.00\" fill=\"#000000\">class = 1</text>\n</g>\n<!-- 39&#45;&gt;40 -->\n<g id=\"edge40\" class=\"edge\">\n<title>39&#45;&gt;40</title>\n<path fill=\"none\" stroke=\"#000000\" d=\"M1245.2993,-520.8642C1242.3802,-509.9985 1239.2794,-498.4566 1236.3358,-487.4998\"/>\n<polygon fill=\"#000000\" stroke=\"#000000\" points=\"1239.6611,-486.3876 1233.6864,-477.6381 1232.9009,-488.2038 1239.6611,-486.3876\"/>\n</g>\n<!-- 41 -->\n<g id=\"node42\" class=\"node\">\n<title>41</title>\n<path fill=\"#e58139\" stroke=\"#000000\" d=\"M1413,-477.5C1413,-477.5 1314,-477.5 1314,-477.5 1308,-477.5 1302,-471.5 1302,-465.5 1302,-465.5 1302,-406.5 1302,-406.5 1302,-400.5 1308,-394.5 1314,-394.5 1314,-394.5 1413,-394.5 1413,-394.5 1419,-394.5 1425,-400.5 1425,-406.5 1425,-406.5 1425,-465.5 1425,-465.5 1425,-471.5 1419,-477.5 1413,-477.5\"/>\n<text text-anchor=\"start\" x=\"1332.5\" y=\"-462.3\" font-family=\"Helvetica,sans-Serif\" font-size=\"14.00\" fill=\"#000000\">node #41</text>\n<text text-anchor=\"start\" x=\"1334\" y=\"-447.3\" font-family=\"Helvetica,sans-Serif\" font-size=\"14.00\" fill=\"#000000\">gini = 0.0</text>\n<text text-anchor=\"start\" x=\"1311.5\" y=\"-432.3\" font-family=\"Helvetica,sans-Serif\" font-size=\"14.00\" fill=\"#000000\">samples = 0.0%</text>\n<text text-anchor=\"start\" x=\"1310\" y=\"-417.3\" font-family=\"Helvetica,sans-Serif\" font-size=\"14.00\" fill=\"#000000\">value = [1.0, 0.0]</text>\n<text text-anchor=\"start\" x=\"1334.5\" y=\"-402.3\" font-family=\"Helvetica,sans-Serif\" font-size=\"14.00\" fill=\"#000000\">class = 0</text>\n</g>\n<!-- 39&#45;&gt;41 -->\n<g id=\"edge41\" class=\"edge\">\n<title>39&#45;&gt;41</title>\n<path fill=\"none\" stroke=\"#000000\" d=\"M1297.0019,-520.8642C1305.9505,-509.4442 1315.4844,-497.2771 1324.4561,-485.8275\"/>\n<polygon fill=\"#000000\" stroke=\"#000000\" points=\"1327.4602,-487.6682 1330.8731,-477.6381 1321.9503,-483.3507 1327.4602,-487.6682\"/>\n</g>\n<!-- 43 -->\n<g id=\"node44\" class=\"node\">\n<title>43</title>\n<path fill=\"#e58139\" stroke=\"#000000\" d=\"M1473,-611.5C1473,-611.5 1374,-611.5 1374,-611.5 1368,-611.5 1362,-605.5 1362,-599.5 1362,-599.5 1362,-540.5 1362,-540.5 1362,-534.5 1368,-528.5 1374,-528.5 1374,-528.5 1473,-528.5 1473,-528.5 1479,-528.5 1485,-534.5 1485,-540.5 1485,-540.5 1485,-599.5 1485,-599.5 1485,-605.5 1479,-611.5 1473,-611.5\"/>\n<text text-anchor=\"start\" x=\"1392.5\" y=\"-596.3\" font-family=\"Helvetica,sans-Serif\" font-size=\"14.00\" fill=\"#000000\">node #43</text>\n<text text-anchor=\"start\" x=\"1394\" y=\"-581.3\" font-family=\"Helvetica,sans-Serif\" font-size=\"14.00\" fill=\"#000000\">gini = 0.0</text>\n<text text-anchor=\"start\" x=\"1371.5\" y=\"-566.3\" font-family=\"Helvetica,sans-Serif\" font-size=\"14.00\" fill=\"#000000\">samples = 0.0%</text>\n<text text-anchor=\"start\" x=\"1370\" y=\"-551.3\" font-family=\"Helvetica,sans-Serif\" font-size=\"14.00\" fill=\"#000000\">value = [1.0, 0.0]</text>\n<text text-anchor=\"start\" x=\"1394.5\" y=\"-536.3\" font-family=\"Helvetica,sans-Serif\" font-size=\"14.00\" fill=\"#000000\">class = 0</text>\n</g>\n<!-- 42&#45;&gt;43 -->\n<g id=\"edge43\" class=\"edge\">\n<title>42&#45;&gt;43</title>\n<path fill=\"none\" stroke=\"#000000\" d=\"M1455.1658,-654.8642C1451.07,-643.8877 1446.7168,-632.221 1442.5913,-621.1646\"/>\n<polygon fill=\"#000000\" stroke=\"#000000\" points=\"1445.8117,-619.7836 1439.0366,-611.6381 1439.2534,-622.2308 1445.8117,-619.7836\"/>\n</g>\n<!-- 44 -->\n<g id=\"node45\" class=\"node\">\n<title>44</title>\n<path fill=\"#399de5\" stroke=\"#000000\" d=\"M1614,-611.5C1614,-611.5 1515,-611.5 1515,-611.5 1509,-611.5 1503,-605.5 1503,-599.5 1503,-599.5 1503,-540.5 1503,-540.5 1503,-534.5 1509,-528.5 1515,-528.5 1515,-528.5 1614,-528.5 1614,-528.5 1620,-528.5 1626,-534.5 1626,-540.5 1626,-540.5 1626,-599.5 1626,-599.5 1626,-605.5 1620,-611.5 1614,-611.5\"/>\n<text text-anchor=\"start\" x=\"1533.5\" y=\"-596.3\" font-family=\"Helvetica,sans-Serif\" font-size=\"14.00\" fill=\"#000000\">node #44</text>\n<text text-anchor=\"start\" x=\"1535\" y=\"-581.3\" font-family=\"Helvetica,sans-Serif\" font-size=\"14.00\" fill=\"#000000\">gini = 0.0</text>\n<text text-anchor=\"start\" x=\"1512.5\" y=\"-566.3\" font-family=\"Helvetica,sans-Serif\" font-size=\"14.00\" fill=\"#000000\">samples = 0.1%</text>\n<text text-anchor=\"start\" x=\"1511\" y=\"-551.3\" font-family=\"Helvetica,sans-Serif\" font-size=\"14.00\" fill=\"#000000\">value = [0.0, 1.0]</text>\n<text text-anchor=\"start\" x=\"1535.5\" y=\"-536.3\" font-family=\"Helvetica,sans-Serif\" font-size=\"14.00\" fill=\"#000000\">class = 1</text>\n</g>\n<!-- 42&#45;&gt;44 -->\n<g id=\"edge44\" class=\"edge\">\n<title>42&#45;&gt;44</title>\n<path fill=\"none\" stroke=\"#000000\" d=\"M1506.8683,-654.8642C1514.5484,-643.555 1522.7261,-631.5133 1530.4353,-620.1612\"/>\n<polygon fill=\"#000000\" stroke=\"#000000\" points=\"1533.5007,-621.8772 1536.2234,-611.6381 1527.7098,-617.9445 1533.5007,-621.8772\"/>\n</g>\n<!-- 46 -->\n<g id=\"node47\" class=\"node\">\n<title>46</title>\n<path fill=\"#f6d5bd\" stroke=\"#000000\" d=\"M1886.5,-753C1886.5,-753 1770.5,-753 1770.5,-753 1764.5,-753 1758.5,-747 1758.5,-741 1758.5,-741 1758.5,-667 1758.5,-667 1758.5,-661 1764.5,-655 1770.5,-655 1770.5,-655 1886.5,-655 1886.5,-655 1892.5,-655 1898.5,-661 1898.5,-667 1898.5,-667 1898.5,-741 1898.5,-741 1898.5,-747 1892.5,-753 1886.5,-753\"/>\n<text text-anchor=\"start\" x=\"1797.5\" y=\"-737.8\" font-family=\"Helvetica,sans-Serif\" font-size=\"14.00\" fill=\"#000000\">node #46</text>\n<text text-anchor=\"start\" x=\"1766.5\" y=\"-722.8\" font-family=\"Helvetica,sans-Serif\" font-size=\"14.00\" fill=\"#000000\">Monocytes ≤ 0.174</text>\n<text text-anchor=\"start\" x=\"1795\" y=\"-707.8\" font-family=\"Helvetica,sans-Serif\" font-size=\"14.00\" fill=\"#000000\">gini = 0.48</text>\n<text text-anchor=\"start\" x=\"1776.5\" y=\"-692.8\" font-family=\"Helvetica,sans-Serif\" font-size=\"14.00\" fill=\"#000000\">samples = 0.3%</text>\n<text text-anchor=\"start\" x=\"1775\" y=\"-677.8\" font-family=\"Helvetica,sans-Serif\" font-size=\"14.00\" fill=\"#000000\">value = [0.6, 0.4]</text>\n<text text-anchor=\"start\" x=\"1799.5\" y=\"-662.8\" font-family=\"Helvetica,sans-Serif\" font-size=\"14.00\" fill=\"#000000\">class = 0</text>\n</g>\n<!-- 45&#45;&gt;46 -->\n<g id=\"edge46\" class=\"edge\">\n<title>45&#45;&gt;46</title>\n<path fill=\"none\" stroke=\"#000000\" d=\"M1828.5,-788.8642C1828.5,-780.5802 1828.5,-771.903 1828.5,-763.3918\"/>\n<polygon fill=\"#000000\" stroke=\"#000000\" points=\"1832.0001,-763.1298 1828.5,-753.1298 1825.0001,-763.1299 1832.0001,-763.1298\"/>\n</g>\n<!-- 53 -->\n<g id=\"node54\" class=\"node\">\n<title>53</title>\n<path fill=\"#e68844\" stroke=\"#000000\" d=\"M2253.5,-753C2253.5,-753 2121.5,-753 2121.5,-753 2115.5,-753 2109.5,-747 2109.5,-741 2109.5,-741 2109.5,-667 2109.5,-667 2109.5,-661 2115.5,-655 2121.5,-655 2121.5,-655 2253.5,-655 2253.5,-655 2259.5,-655 2265.5,-661 2265.5,-667 2265.5,-667 2265.5,-741 2265.5,-741 2265.5,-747 2259.5,-753 2253.5,-753\"/>\n<text text-anchor=\"start\" x=\"2156.5\" y=\"-737.8\" font-family=\"Helvetica,sans-Serif\" font-size=\"14.00\" fill=\"#000000\">node #53</text>\n<text text-anchor=\"start\" x=\"2120\" y=\"-722.8\" font-family=\"Helvetica,sans-Serif\" font-size=\"14.00\" fill=\"#000000\">Hemoglobin ≤ &#45;1.589</text>\n<text text-anchor=\"start\" x=\"2149.5\" y=\"-707.8\" font-family=\"Helvetica,sans-Serif\" font-size=\"14.00\" fill=\"#000000\">gini = 0.098</text>\n<text text-anchor=\"start\" x=\"2135.5\" y=\"-692.8\" font-family=\"Helvetica,sans-Serif\" font-size=\"14.00\" fill=\"#000000\">samples = 1.4%</text>\n<text text-anchor=\"start\" x=\"2117.5\" y=\"-677.8\" font-family=\"Helvetica,sans-Serif\" font-size=\"14.00\" fill=\"#000000\">value = [0.948, 0.052]</text>\n<text text-anchor=\"start\" x=\"2158.5\" y=\"-662.8\" font-family=\"Helvetica,sans-Serif\" font-size=\"14.00\" fill=\"#000000\">class = 0</text>\n</g>\n<!-- 45&#45;&gt;53 -->\n<g id=\"edge53\" class=\"edge\">\n<title>45&#45;&gt;53</title>\n<path fill=\"none\" stroke=\"#000000\" d=\"M1908.1737,-808.2611C1964.9202,-787.0799 2041.1838,-758.6139 2099.6854,-736.7776\"/>\n<polygon fill=\"#000000\" stroke=\"#000000\" points=\"2101.1395,-739.9708 2109.2842,-733.1948 2098.6916,-733.4127 2101.1395,-739.9708\"/>\n</g>\n<!-- 47 -->\n<g id=\"node48\" class=\"node\">\n<title>47</title>\n<path fill=\"#e58139\" stroke=\"#000000\" d=\"M1755,-611.5C1755,-611.5 1656,-611.5 1656,-611.5 1650,-611.5 1644,-605.5 1644,-599.5 1644,-599.5 1644,-540.5 1644,-540.5 1644,-534.5 1650,-528.5 1656,-528.5 1656,-528.5 1755,-528.5 1755,-528.5 1761,-528.5 1767,-534.5 1767,-540.5 1767,-540.5 1767,-599.5 1767,-599.5 1767,-605.5 1761,-611.5 1755,-611.5\"/>\n<text text-anchor=\"start\" x=\"1674.5\" y=\"-596.3\" font-family=\"Helvetica,sans-Serif\" font-size=\"14.00\" fill=\"#000000\">node #47</text>\n<text text-anchor=\"start\" x=\"1676\" y=\"-581.3\" font-family=\"Helvetica,sans-Serif\" font-size=\"14.00\" fill=\"#000000\">gini = 0.0</text>\n<text text-anchor=\"start\" x=\"1653.5\" y=\"-566.3\" font-family=\"Helvetica,sans-Serif\" font-size=\"14.00\" fill=\"#000000\">samples = 0.1%</text>\n<text text-anchor=\"start\" x=\"1652\" y=\"-551.3\" font-family=\"Helvetica,sans-Serif\" font-size=\"14.00\" fill=\"#000000\">value = [1.0, 0.0]</text>\n<text text-anchor=\"start\" x=\"1676.5\" y=\"-536.3\" font-family=\"Helvetica,sans-Serif\" font-size=\"14.00\" fill=\"#000000\">class = 0</text>\n</g>\n<!-- 46&#45;&gt;47 -->\n<g id=\"edge47\" class=\"edge\">\n<title>46&#45;&gt;47</title>\n<path fill=\"none\" stroke=\"#000000\" d=\"M1783.3978,-654.8642C1772.7116,-643.2224 1761.3129,-630.8043 1750.6257,-619.1613\"/>\n<polygon fill=\"#000000\" stroke=\"#000000\" points=\"1753.0608,-616.6383 1743.7201,-611.6381 1747.9039,-621.3719 1753.0608,-616.6383\"/>\n</g>\n<!-- 48 -->\n<g id=\"node49\" class=\"node\">\n<title>48</title>\n<path fill=\"#9ccef2\" stroke=\"#000000\" d=\"M2096,-619C2096,-619 1797,-619 1797,-619 1791,-619 1785,-613 1785,-607 1785,-607 1785,-533 1785,-533 1785,-527 1791,-521 1797,-521 1797,-521 2096,-521 2096,-521 2102,-521 2108,-527 2108,-533 2108,-533 2108,-607 2108,-607 2108,-613 2102,-619 2096,-619\"/>\n<text text-anchor=\"start\" x=\"1915.5\" y=\"-603.8\" font-family=\"Helvetica,sans-Serif\" font-size=\"14.00\" fill=\"#000000\">node #48</text>\n<text text-anchor=\"start\" x=\"1793\" y=\"-588.8\" font-family=\"Helvetica,sans-Serif\" font-size=\"14.00\" fill=\"#000000\">Red blood cell distribution width (RDW) ≤ &#45;1.023</text>\n<text text-anchor=\"start\" x=\"1908.5\" y=\"-573.8\" font-family=\"Helvetica,sans-Serif\" font-size=\"14.00\" fill=\"#000000\">gini = 0.444</text>\n<text text-anchor=\"start\" x=\"1894.5\" y=\"-558.8\" font-family=\"Helvetica,sans-Serif\" font-size=\"14.00\" fill=\"#000000\">samples = 0.2%</text>\n<text text-anchor=\"start\" x=\"1876.5\" y=\"-543.8\" font-family=\"Helvetica,sans-Serif\" font-size=\"14.00\" fill=\"#000000\">value = [0.333, 0.667]</text>\n<text text-anchor=\"start\" x=\"1917.5\" y=\"-528.8\" font-family=\"Helvetica,sans-Serif\" font-size=\"14.00\" fill=\"#000000\">class = 1</text>\n</g>\n<!-- 46&#45;&gt;48 -->\n<g id=\"edge48\" class=\"edge\">\n<title>46&#45;&gt;48</title>\n<path fill=\"none\" stroke=\"#000000\" d=\"M1871.7688,-654.8642C1879.7852,-645.7609 1888.2196,-636.1828 1896.4188,-626.8719\"/>\n<polygon fill=\"#000000\" stroke=\"#000000\" points=\"1899.2543,-628.9479 1903.2364,-619.1298 1894.0009,-624.3217 1899.2543,-628.9479\"/>\n</g>\n<!-- 49 -->\n<g id=\"node50\" class=\"node\">\n<title>49</title>\n<path fill=\"#e58139\" stroke=\"#000000\" d=\"M1838,-477.5C1838,-477.5 1739,-477.5 1739,-477.5 1733,-477.5 1727,-471.5 1727,-465.5 1727,-465.5 1727,-406.5 1727,-406.5 1727,-400.5 1733,-394.5 1739,-394.5 1739,-394.5 1838,-394.5 1838,-394.5 1844,-394.5 1850,-400.5 1850,-406.5 1850,-406.5 1850,-465.5 1850,-465.5 1850,-471.5 1844,-477.5 1838,-477.5\"/>\n<text text-anchor=\"start\" x=\"1757.5\" y=\"-462.3\" font-family=\"Helvetica,sans-Serif\" font-size=\"14.00\" fill=\"#000000\">node #49</text>\n<text text-anchor=\"start\" x=\"1759\" y=\"-447.3\" font-family=\"Helvetica,sans-Serif\" font-size=\"14.00\" fill=\"#000000\">gini = 0.0</text>\n<text text-anchor=\"start\" x=\"1736.5\" y=\"-432.3\" font-family=\"Helvetica,sans-Serif\" font-size=\"14.00\" fill=\"#000000\">samples = 0.0%</text>\n<text text-anchor=\"start\" x=\"1735\" y=\"-417.3\" font-family=\"Helvetica,sans-Serif\" font-size=\"14.00\" fill=\"#000000\">value = [1.0, 0.0]</text>\n<text text-anchor=\"start\" x=\"1759.5\" y=\"-402.3\" font-family=\"Helvetica,sans-Serif\" font-size=\"14.00\" fill=\"#000000\">class = 0</text>\n</g>\n<!-- 48&#45;&gt;49 -->\n<g id=\"edge49\" class=\"edge\">\n<title>48&#45;&gt;49</title>\n<path fill=\"none\" stroke=\"#000000\" d=\"M1888.5638,-520.8642C1874.4447,-508.8898 1859.3572,-496.0941 1845.2919,-484.1653\"/>\n<polygon fill=\"#000000\" stroke=\"#000000\" points=\"1847.4861,-481.4369 1837.5957,-477.6381 1842.9584,-486.7755 1847.4861,-481.4369\"/>\n</g>\n<!-- 50 -->\n<g id=\"node51\" class=\"node\">\n<title>50</title>\n<path fill=\"#5aade9\" stroke=\"#000000\" d=\"M2012.5,-485C2012.5,-485 1880.5,-485 1880.5,-485 1874.5,-485 1868.5,-479 1868.5,-473 1868.5,-473 1868.5,-399 1868.5,-399 1868.5,-393 1874.5,-387 1880.5,-387 1880.5,-387 2012.5,-387 2012.5,-387 2018.5,-387 2024.5,-393 2024.5,-399 2024.5,-399 2024.5,-473 2024.5,-473 2024.5,-479 2018.5,-485 2012.5,-485\"/>\n<text text-anchor=\"start\" x=\"1915.5\" y=\"-469.8\" font-family=\"Helvetica,sans-Serif\" font-size=\"14.00\" fill=\"#000000\">node #50</text>\n<text text-anchor=\"start\" x=\"1895.5\" y=\"-454.8\" font-family=\"Helvetica,sans-Serif\" font-size=\"14.00\" fill=\"#000000\">Sodium ≤ 0.863</text>\n<text text-anchor=\"start\" x=\"1908.5\" y=\"-439.8\" font-family=\"Helvetica,sans-Serif\" font-size=\"14.00\" fill=\"#000000\">gini = 0.245</text>\n<text text-anchor=\"start\" x=\"1894.5\" y=\"-424.8\" font-family=\"Helvetica,sans-Serif\" font-size=\"14.00\" fill=\"#000000\">samples = 0.1%</text>\n<text text-anchor=\"start\" x=\"1876.5\" y=\"-409.8\" font-family=\"Helvetica,sans-Serif\" font-size=\"14.00\" fill=\"#000000\">value = [0.143, 0.857]</text>\n<text text-anchor=\"start\" x=\"1917.5\" y=\"-394.8\" font-family=\"Helvetica,sans-Serif\" font-size=\"14.00\" fill=\"#000000\">class = 1</text>\n</g>\n<!-- 48&#45;&gt;50 -->\n<g id=\"edge50\" class=\"edge\">\n<title>48&#45;&gt;50</title>\n<path fill=\"none\" stroke=\"#000000\" d=\"M1946.5,-520.8642C1946.5,-512.5802 1946.5,-503.903 1946.5,-495.3918\"/>\n<polygon fill=\"#000000\" stroke=\"#000000\" points=\"1950.0001,-495.1298 1946.5,-485.1298 1943.0001,-495.1299 1950.0001,-495.1298\"/>\n</g>\n<!-- 51 -->\n<g id=\"node52\" class=\"node\">\n<title>51</title>\n<path fill=\"#399de5\" stroke=\"#000000\" d=\"M1855,-343.5C1855,-343.5 1756,-343.5 1756,-343.5 1750,-343.5 1744,-337.5 1744,-331.5 1744,-331.5 1744,-272.5 1744,-272.5 1744,-266.5 1750,-260.5 1756,-260.5 1756,-260.5 1855,-260.5 1855,-260.5 1861,-260.5 1867,-266.5 1867,-272.5 1867,-272.5 1867,-331.5 1867,-331.5 1867,-337.5 1861,-343.5 1855,-343.5\"/>\n<text text-anchor=\"start\" x=\"1774.5\" y=\"-328.3\" font-family=\"Helvetica,sans-Serif\" font-size=\"14.00\" fill=\"#000000\">node #51</text>\n<text text-anchor=\"start\" x=\"1776\" y=\"-313.3\" font-family=\"Helvetica,sans-Serif\" font-size=\"14.00\" fill=\"#000000\">gini = 0.0</text>\n<text text-anchor=\"start\" x=\"1753.5\" y=\"-298.3\" font-family=\"Helvetica,sans-Serif\" font-size=\"14.00\" fill=\"#000000\">samples = 0.1%</text>\n<text text-anchor=\"start\" x=\"1752\" y=\"-283.3\" font-family=\"Helvetica,sans-Serif\" font-size=\"14.00\" fill=\"#000000\">value = [0.0, 1.0]</text>\n<text text-anchor=\"start\" x=\"1776.5\" y=\"-268.3\" font-family=\"Helvetica,sans-Serif\" font-size=\"14.00\" fill=\"#000000\">class = 1</text>\n</g>\n<!-- 50&#45;&gt;51 -->\n<g id=\"edge51\" class=\"edge\">\n<title>50&#45;&gt;51</title>\n<path fill=\"none\" stroke=\"#000000\" d=\"M1894.7974,-386.8642C1882.4308,-375.1115 1869.2317,-362.5677 1856.8797,-350.8289\"/>\n<polygon fill=\"#000000\" stroke=\"#000000\" points=\"1858.9731,-347.99 1849.3133,-343.6381 1854.1509,-353.0641 1858.9731,-347.99\"/>\n</g>\n<!-- 52 -->\n<g id=\"node53\" class=\"node\">\n<title>52</title>\n<path fill=\"#e58139\" stroke=\"#000000\" d=\"M1996,-343.5C1996,-343.5 1897,-343.5 1897,-343.5 1891,-343.5 1885,-337.5 1885,-331.5 1885,-331.5 1885,-272.5 1885,-272.5 1885,-266.5 1891,-260.5 1897,-260.5 1897,-260.5 1996,-260.5 1996,-260.5 2002,-260.5 2008,-266.5 2008,-272.5 2008,-272.5 2008,-331.5 2008,-331.5 2008,-337.5 2002,-343.5 1996,-343.5\"/>\n<text text-anchor=\"start\" x=\"1915.5\" y=\"-328.3\" font-family=\"Helvetica,sans-Serif\" font-size=\"14.00\" fill=\"#000000\">node #52</text>\n<text text-anchor=\"start\" x=\"1917\" y=\"-313.3\" font-family=\"Helvetica,sans-Serif\" font-size=\"14.00\" fill=\"#000000\">gini = 0.0</text>\n<text text-anchor=\"start\" x=\"1894.5\" y=\"-298.3\" font-family=\"Helvetica,sans-Serif\" font-size=\"14.00\" fill=\"#000000\">samples = 0.0%</text>\n<text text-anchor=\"start\" x=\"1893\" y=\"-283.3\" font-family=\"Helvetica,sans-Serif\" font-size=\"14.00\" fill=\"#000000\">value = [1.0, 0.0]</text>\n<text text-anchor=\"start\" x=\"1917.5\" y=\"-268.3\" font-family=\"Helvetica,sans-Serif\" font-size=\"14.00\" fill=\"#000000\">class = 0</text>\n</g>\n<!-- 50&#45;&gt;52 -->\n<g id=\"edge52\" class=\"edge\">\n<title>50&#45;&gt;52</title>\n<path fill=\"none\" stroke=\"#000000\" d=\"M1946.5,-386.8642C1946.5,-376.1094 1946.5,-364.6921 1946.5,-353.8354\"/>\n<polygon fill=\"#000000\" stroke=\"#000000\" points=\"1950.0001,-353.6381 1946.5,-343.6381 1943.0001,-353.6382 1950.0001,-353.6381\"/>\n</g>\n<!-- 54 -->\n<g id=\"node55\" class=\"node\">\n<title>54</title>\n<path fill=\"#399de5\" stroke=\"#000000\" d=\"M2237,-611.5C2237,-611.5 2138,-611.5 2138,-611.5 2132,-611.5 2126,-605.5 2126,-599.5 2126,-599.5 2126,-540.5 2126,-540.5 2126,-534.5 2132,-528.5 2138,-528.5 2138,-528.5 2237,-528.5 2237,-528.5 2243,-528.5 2249,-534.5 2249,-540.5 2249,-540.5 2249,-599.5 2249,-599.5 2249,-605.5 2243,-611.5 2237,-611.5\"/>\n<text text-anchor=\"start\" x=\"2156.5\" y=\"-596.3\" font-family=\"Helvetica,sans-Serif\" font-size=\"14.00\" fill=\"#000000\">node #54</text>\n<text text-anchor=\"start\" x=\"2158\" y=\"-581.3\" font-family=\"Helvetica,sans-Serif\" font-size=\"14.00\" fill=\"#000000\">gini = 0.0</text>\n<text text-anchor=\"start\" x=\"2135.5\" y=\"-566.3\" font-family=\"Helvetica,sans-Serif\" font-size=\"14.00\" fill=\"#000000\">samples = 0.0%</text>\n<text text-anchor=\"start\" x=\"2134\" y=\"-551.3\" font-family=\"Helvetica,sans-Serif\" font-size=\"14.00\" fill=\"#000000\">value = [0.0, 1.0]</text>\n<text text-anchor=\"start\" x=\"2158.5\" y=\"-536.3\" font-family=\"Helvetica,sans-Serif\" font-size=\"14.00\" fill=\"#000000\">class = 1</text>\n</g>\n<!-- 53&#45;&gt;54 -->\n<g id=\"edge54\" class=\"edge\">\n<title>53&#45;&gt;54</title>\n<path fill=\"none\" stroke=\"#000000\" d=\"M2187.5,-654.8642C2187.5,-644.1094 2187.5,-632.6921 2187.5,-621.8354\"/>\n<polygon fill=\"#000000\" stroke=\"#000000\" points=\"2191.0001,-621.6381 2187.5,-611.6381 2184.0001,-621.6382 2191.0001,-621.6381\"/>\n</g>\n<!-- 55 -->\n<g id=\"node56\" class=\"node\">\n<title>55</title>\n<path fill=\"#e68641\" stroke=\"#000000\" d=\"M2411.5,-619C2411.5,-619 2279.5,-619 2279.5,-619 2273.5,-619 2267.5,-613 2267.5,-607 2267.5,-607 2267.5,-533 2267.5,-533 2267.5,-527 2273.5,-521 2279.5,-521 2279.5,-521 2411.5,-521 2411.5,-521 2417.5,-521 2423.5,-527 2423.5,-533 2423.5,-533 2423.5,-607 2423.5,-607 2423.5,-613 2417.5,-619 2411.5,-619\"/>\n<text text-anchor=\"start\" x=\"2314.5\" y=\"-603.8\" font-family=\"Helvetica,sans-Serif\" font-size=\"14.00\" fill=\"#000000\">node #55</text>\n<text text-anchor=\"start\" x=\"2284.5\" y=\"-588.8\" font-family=\"Helvetica,sans-Serif\" font-size=\"14.00\" fill=\"#000000\">Hematocrit ≤ 0.912</text>\n<text text-anchor=\"start\" x=\"2307.5\" y=\"-573.8\" font-family=\"Helvetica,sans-Serif\" font-size=\"14.00\" fill=\"#000000\">gini = 0.076</text>\n<text text-anchor=\"start\" x=\"2293.5\" y=\"-558.8\" font-family=\"Helvetica,sans-Serif\" font-size=\"14.00\" fill=\"#000000\">samples = 1.3%</text>\n<text text-anchor=\"start\" x=\"2275.5\" y=\"-543.8\" font-family=\"Helvetica,sans-Serif\" font-size=\"14.00\" fill=\"#000000\">value = [0.961, 0.039]</text>\n<text text-anchor=\"start\" x=\"2316.5\" y=\"-528.8\" font-family=\"Helvetica,sans-Serif\" font-size=\"14.00\" fill=\"#000000\">class = 0</text>\n</g>\n<!-- 53&#45;&gt;55 -->\n<g id=\"edge55\" class=\"edge\">\n<title>53&#45;&gt;55</title>\n<path fill=\"none\" stroke=\"#000000\" d=\"M2245.4362,-654.8642C2256.5994,-645.3967 2268.3679,-635.4158 2279.758,-625.7559\"/>\n<polygon fill=\"#000000\" stroke=\"#000000\" points=\"2282.2081,-628.2672 2287.5708,-619.1298 2277.6804,-622.9286 2282.2081,-628.2672\"/>\n</g>\n<!-- 56 -->\n<g id=\"node57\" class=\"node\">\n<title>56</title>\n<path fill=\"#e58139\" stroke=\"#000000\" d=\"M2252,-477.5C2252,-477.5 2153,-477.5 2153,-477.5 2147,-477.5 2141,-471.5 2141,-465.5 2141,-465.5 2141,-406.5 2141,-406.5 2141,-400.5 2147,-394.5 2153,-394.5 2153,-394.5 2252,-394.5 2252,-394.5 2258,-394.5 2264,-400.5 2264,-406.5 2264,-406.5 2264,-465.5 2264,-465.5 2264,-471.5 2258,-477.5 2252,-477.5\"/>\n<text text-anchor=\"start\" x=\"2171.5\" y=\"-462.3\" font-family=\"Helvetica,sans-Serif\" font-size=\"14.00\" fill=\"#000000\">node #56</text>\n<text text-anchor=\"start\" x=\"2173\" y=\"-447.3\" font-family=\"Helvetica,sans-Serif\" font-size=\"14.00\" fill=\"#000000\">gini = 0.0</text>\n<text text-anchor=\"start\" x=\"2150.5\" y=\"-432.3\" font-family=\"Helvetica,sans-Serif\" font-size=\"14.00\" fill=\"#000000\">samples = 1.1%</text>\n<text text-anchor=\"start\" x=\"2149\" y=\"-417.3\" font-family=\"Helvetica,sans-Serif\" font-size=\"14.00\" fill=\"#000000\">value = [1.0, 0.0]</text>\n<text text-anchor=\"start\" x=\"2173.5\" y=\"-402.3\" font-family=\"Helvetica,sans-Serif\" font-size=\"14.00\" fill=\"#000000\">class = 0</text>\n</g>\n<!-- 55&#45;&gt;56 -->\n<g id=\"edge56\" class=\"edge\">\n<title>55&#45;&gt;56</title>\n<path fill=\"none\" stroke=\"#000000\" d=\"M2293.0641,-520.8642C2280.4037,-509.0007 2266.883,-496.3309 2254.2541,-484.4969\"/>\n<polygon fill=\"#000000\" stroke=\"#000000\" points=\"2256.6249,-481.9219 2246.9347,-477.6381 2251.8385,-487.0298 2256.6249,-481.9219\"/>\n</g>\n<!-- 57 -->\n<g id=\"node58\" class=\"node\">\n<title>57</title>\n<path fill=\"#eca36f\" stroke=\"#000000\" d=\"M2426.5,-485C2426.5,-485 2294.5,-485 2294.5,-485 2288.5,-485 2282.5,-479 2282.5,-473 2282.5,-473 2282.5,-399 2282.5,-399 2282.5,-393 2288.5,-387 2294.5,-387 2294.5,-387 2426.5,-387 2426.5,-387 2432.5,-387 2438.5,-393 2438.5,-399 2438.5,-399 2438.5,-473 2438.5,-473 2438.5,-479 2432.5,-485 2426.5,-485\"/>\n<text text-anchor=\"start\" x=\"2329.5\" y=\"-469.8\" font-family=\"Helvetica,sans-Serif\" font-size=\"14.00\" fill=\"#000000\">node #57</text>\n<text text-anchor=\"start\" x=\"2291\" y=\"-454.8\" font-family=\"Helvetica,sans-Serif\" font-size=\"14.00\" fill=\"#000000\">Lymphocytes ≤ 0.881</text>\n<text text-anchor=\"start\" x=\"2322.5\" y=\"-439.8\" font-family=\"Helvetica,sans-Serif\" font-size=\"14.00\" fill=\"#000000\">gini = 0.337</text>\n<text text-anchor=\"start\" x=\"2308.5\" y=\"-424.8\" font-family=\"Helvetica,sans-Serif\" font-size=\"14.00\" fill=\"#000000\">samples = 0.2%</text>\n<text text-anchor=\"start\" x=\"2290.5\" y=\"-409.8\" font-family=\"Helvetica,sans-Serif\" font-size=\"14.00\" fill=\"#000000\">value = [0.786, 0.214]</text>\n<text text-anchor=\"start\" x=\"2331.5\" y=\"-394.8\" font-family=\"Helvetica,sans-Serif\" font-size=\"14.00\" fill=\"#000000\">class = 0</text>\n</g>\n<!-- 55&#45;&gt;57 -->\n<g id=\"edge57\" class=\"edge\">\n<title>55&#45;&gt;57</title>\n<path fill=\"none\" stroke=\"#000000\" d=\"M2351.0003,-520.8642C2351.9378,-512.4891 2352.9203,-503.7123 2353.8831,-495.1113\"/>\n<polygon fill=\"#000000\" stroke=\"#000000\" points=\"2357.3661,-495.4571 2355.0004,-485.1298 2350.4096,-494.6784 2357.3661,-495.4571\"/>\n</g>\n<!-- 58 -->\n<g id=\"node59\" class=\"node\">\n<title>58</title>\n<path fill=\"#e58139\" stroke=\"#000000\" d=\"M2137,-343.5C2137,-343.5 2038,-343.5 2038,-343.5 2032,-343.5 2026,-337.5 2026,-331.5 2026,-331.5 2026,-272.5 2026,-272.5 2026,-266.5 2032,-260.5 2038,-260.5 2038,-260.5 2137,-260.5 2137,-260.5 2143,-260.5 2149,-266.5 2149,-272.5 2149,-272.5 2149,-331.5 2149,-331.5 2149,-337.5 2143,-343.5 2137,-343.5\"/>\n<text text-anchor=\"start\" x=\"2056.5\" y=\"-328.3\" font-family=\"Helvetica,sans-Serif\" font-size=\"14.00\" fill=\"#000000\">node #58</text>\n<text text-anchor=\"start\" x=\"2058\" y=\"-313.3\" font-family=\"Helvetica,sans-Serif\" font-size=\"14.00\" fill=\"#000000\">gini = 0.0</text>\n<text text-anchor=\"start\" x=\"2035.5\" y=\"-298.3\" font-family=\"Helvetica,sans-Serif\" font-size=\"14.00\" fill=\"#000000\">samples = 0.2%</text>\n<text text-anchor=\"start\" x=\"2034\" y=\"-283.3\" font-family=\"Helvetica,sans-Serif\" font-size=\"14.00\" fill=\"#000000\">value = [1.0, 0.0]</text>\n<text text-anchor=\"start\" x=\"2058.5\" y=\"-268.3\" font-family=\"Helvetica,sans-Serif\" font-size=\"14.00\" fill=\"#000000\">class = 0</text>\n</g>\n<!-- 57&#45;&gt;58 -->\n<g id=\"edge58\" class=\"edge\">\n<title>57&#45;&gt;58</title>\n<path fill=\"none\" stroke=\"#000000\" d=\"M2282.2157,-391.3799C2278.9586,-389.8514 2275.7117,-388.3843 2272.5,-387 2223.7067,-365.9684 2206.2278,-374.3489 2158.5,-351 2156.9276,-350.2308 2155.3509,-349.4297 2153.7734,-348.6012\"/>\n<polygon fill=\"#000000\" stroke=\"#000000\" points=\"2155.1969,-345.3881 2144.7561,-343.5883 2151.7957,-351.5063 2155.1969,-345.3881\"/>\n</g>\n<!-- 59 -->\n<g id=\"node60\" class=\"node\">\n<title>59</title>\n<path fill=\"#7bbeee\" stroke=\"#000000\" d=\"M2571.5,-351C2571.5,-351 2179.5,-351 2179.5,-351 2173.5,-351 2167.5,-345 2167.5,-339 2167.5,-339 2167.5,-265 2167.5,-265 2167.5,-259 2173.5,-253 2179.5,-253 2179.5,-253 2571.5,-253 2571.5,-253 2577.5,-253 2583.5,-259 2583.5,-265 2583.5,-265 2583.5,-339 2583.5,-339 2583.5,-345 2577.5,-351 2571.5,-351\"/>\n<text text-anchor=\"start\" x=\"2344.5\" y=\"-335.8\" font-family=\"Helvetica,sans-Serif\" font-size=\"14.00\" fill=\"#000000\">node #59</text>\n<text text-anchor=\"start\" x=\"2175.5\" y=\"-320.8\" font-family=\"Helvetica,sans-Serif\" font-size=\"14.00\" fill=\"#000000\">Mean corpuscular hemoglobin concentration (MCHC) ≤ &#45;0.951</text>\n<text text-anchor=\"start\" x=\"2337.5\" y=\"-305.8\" font-family=\"Helvetica,sans-Serif\" font-size=\"14.00\" fill=\"#000000\">gini = 0.375</text>\n<text text-anchor=\"start\" x=\"2323.5\" y=\"-290.8\" font-family=\"Helvetica,sans-Serif\" font-size=\"14.00\" fill=\"#000000\">samples = 0.1%</text>\n<text text-anchor=\"start\" x=\"2313.5\" y=\"-275.8\" font-family=\"Helvetica,sans-Serif\" font-size=\"14.00\" fill=\"#000000\">value = [0.25, 0.75]</text>\n<text text-anchor=\"start\" x=\"2346.5\" y=\"-260.8\" font-family=\"Helvetica,sans-Serif\" font-size=\"14.00\" fill=\"#000000\">class = 1</text>\n</g>\n<!-- 57&#45;&gt;59 -->\n<g id=\"edge59\" class=\"edge\">\n<title>57&#45;&gt;59</title>\n<path fill=\"none\" stroke=\"#000000\" d=\"M2366.0003,-386.8642C2366.9378,-378.4891 2367.9203,-369.7123 2368.8831,-361.1113\"/>\n<polygon fill=\"#000000\" stroke=\"#000000\" points=\"2372.3661,-361.4571 2370.0004,-351.1298 2365.4096,-360.6784 2372.3661,-361.4571\"/>\n</g>\n<!-- 60 -->\n<g id=\"node61\" class=\"node\">\n<title>60</title>\n<path fill=\"#e58139\" stroke=\"#000000\" d=\"M2354,-209.5C2354,-209.5 2255,-209.5 2255,-209.5 2249,-209.5 2243,-203.5 2243,-197.5 2243,-197.5 2243,-138.5 2243,-138.5 2243,-132.5 2249,-126.5 2255,-126.5 2255,-126.5 2354,-126.5 2354,-126.5 2360,-126.5 2366,-132.5 2366,-138.5 2366,-138.5 2366,-197.5 2366,-197.5 2366,-203.5 2360,-209.5 2354,-209.5\"/>\n<text text-anchor=\"start\" x=\"2273.5\" y=\"-194.3\" font-family=\"Helvetica,sans-Serif\" font-size=\"14.00\" fill=\"#000000\">node #60</text>\n<text text-anchor=\"start\" x=\"2275\" y=\"-179.3\" font-family=\"Helvetica,sans-Serif\" font-size=\"14.00\" fill=\"#000000\">gini = 0.0</text>\n<text text-anchor=\"start\" x=\"2252.5\" y=\"-164.3\" font-family=\"Helvetica,sans-Serif\" font-size=\"14.00\" fill=\"#000000\">samples = 0.0%</text>\n<text text-anchor=\"start\" x=\"2251\" y=\"-149.3\" font-family=\"Helvetica,sans-Serif\" font-size=\"14.00\" fill=\"#000000\">value = [1.0, 0.0]</text>\n<text text-anchor=\"start\" x=\"2275.5\" y=\"-134.3\" font-family=\"Helvetica,sans-Serif\" font-size=\"14.00\" fill=\"#000000\">class = 0</text>\n</g>\n<!-- 59&#45;&gt;60 -->\n<g id=\"edge60\" class=\"edge\">\n<title>59&#45;&gt;60</title>\n<path fill=\"none\" stroke=\"#000000\" d=\"M2349.4654,-252.8642C2343.5319,-241.6659 2337.2179,-229.7493 2331.2549,-218.4953\"/>\n<polygon fill=\"#000000\" stroke=\"#000000\" points=\"2334.3367,-216.8357 2326.562,-209.6381 2328.1513,-220.1131 2334.3367,-216.8357\"/>\n</g>\n<!-- 61 -->\n<g id=\"node62\" class=\"node\">\n<title>61</title>\n<path fill=\"#399de5\" stroke=\"#000000\" d=\"M2495,-209.5C2495,-209.5 2396,-209.5 2396,-209.5 2390,-209.5 2384,-203.5 2384,-197.5 2384,-197.5 2384,-138.5 2384,-138.5 2384,-132.5 2390,-126.5 2396,-126.5 2396,-126.5 2495,-126.5 2495,-126.5 2501,-126.5 2507,-132.5 2507,-138.5 2507,-138.5 2507,-197.5 2507,-197.5 2507,-203.5 2501,-209.5 2495,-209.5\"/>\n<text text-anchor=\"start\" x=\"2414.5\" y=\"-194.3\" font-family=\"Helvetica,sans-Serif\" font-size=\"14.00\" fill=\"#000000\">node #61</text>\n<text text-anchor=\"start\" x=\"2416\" y=\"-179.3\" font-family=\"Helvetica,sans-Serif\" font-size=\"14.00\" fill=\"#000000\">gini = 0.0</text>\n<text text-anchor=\"start\" x=\"2393.5\" y=\"-164.3\" font-family=\"Helvetica,sans-Serif\" font-size=\"14.00\" fill=\"#000000\">samples = 0.1%</text>\n<text text-anchor=\"start\" x=\"2392\" y=\"-149.3\" font-family=\"Helvetica,sans-Serif\" font-size=\"14.00\" fill=\"#000000\">value = [0.0, 1.0]</text>\n<text text-anchor=\"start\" x=\"2416.5\" y=\"-134.3\" font-family=\"Helvetica,sans-Serif\" font-size=\"14.00\" fill=\"#000000\">class = 1</text>\n</g>\n<!-- 59&#45;&gt;61 -->\n<g id=\"edge61\" class=\"edge\">\n<title>59&#45;&gt;61</title>\n<path fill=\"none\" stroke=\"#000000\" d=\"M2401.1679,-252.8642C2406.9599,-241.7768 2413.1197,-229.9852 2418.9472,-218.8297\"/>\n<polygon fill=\"#000000\" stroke=\"#000000\" points=\"2422.2207,-220.1222 2423.7487,-209.6381 2416.0163,-216.8811 2422.2207,-220.1222\"/>\n</g>\n<!-- 63 -->\n<g id=\"node64\" class=\"node\">\n<title>63</title>\n<path fill=\"#399de5\" stroke=\"#000000\" d=\"M1887,-1147.5C1887,-1147.5 1788,-1147.5 1788,-1147.5 1782,-1147.5 1776,-1141.5 1776,-1135.5 1776,-1135.5 1776,-1076.5 1776,-1076.5 1776,-1070.5 1782,-1064.5 1788,-1064.5 1788,-1064.5 1887,-1064.5 1887,-1064.5 1893,-1064.5 1899,-1070.5 1899,-1076.5 1899,-1076.5 1899,-1135.5 1899,-1135.5 1899,-1141.5 1893,-1147.5 1887,-1147.5\"/>\n<text text-anchor=\"start\" x=\"1806.5\" y=\"-1132.3\" font-family=\"Helvetica,sans-Serif\" font-size=\"14.00\" fill=\"#000000\">node #63</text>\n<text text-anchor=\"start\" x=\"1808\" y=\"-1117.3\" font-family=\"Helvetica,sans-Serif\" font-size=\"14.00\" fill=\"#000000\">gini = 0.0</text>\n<text text-anchor=\"start\" x=\"1785.5\" y=\"-1102.3\" font-family=\"Helvetica,sans-Serif\" font-size=\"14.00\" fill=\"#000000\">samples = 0.1%</text>\n<text text-anchor=\"start\" x=\"1784\" y=\"-1087.3\" font-family=\"Helvetica,sans-Serif\" font-size=\"14.00\" fill=\"#000000\">value = [0.0, 1.0]</text>\n<text text-anchor=\"start\" x=\"1808.5\" y=\"-1072.3\" font-family=\"Helvetica,sans-Serif\" font-size=\"14.00\" fill=\"#000000\">class = 1</text>\n</g>\n<!-- 62&#45;&gt;63 -->\n<g id=\"edge63\" class=\"edge\">\n<title>62&#45;&gt;63</title>\n<path fill=\"none\" stroke=\"#000000\" d=\"M1837.5,-1190.8642C1837.5,-1180.1094 1837.5,-1168.6921 1837.5,-1157.8354\"/>\n<polygon fill=\"#000000\" stroke=\"#000000\" points=\"1841.0001,-1157.6381 1837.5,-1147.6381 1834.0001,-1157.6382 1841.0001,-1157.6381\"/>\n</g>\n<!-- 64 -->\n<g id=\"node65\" class=\"node\">\n<title>64</title>\n<path fill=\"#e5813a\" stroke=\"#000000\" d=\"M2606.5,-1155C2606.5,-1155 2338.5,-1155 2338.5,-1155 2332.5,-1155 2326.5,-1149 2326.5,-1143 2326.5,-1143 2326.5,-1069 2326.5,-1069 2326.5,-1063 2332.5,-1057 2338.5,-1057 2338.5,-1057 2606.5,-1057 2606.5,-1057 2612.5,-1057 2618.5,-1063 2618.5,-1069 2618.5,-1069 2618.5,-1143 2618.5,-1143 2618.5,-1149 2612.5,-1155 2606.5,-1155\"/>\n<text text-anchor=\"start\" x=\"2441.5\" y=\"-1139.8\" font-family=\"Helvetica,sans-Serif\" font-size=\"14.00\" fill=\"#000000\">node #64</text>\n<text text-anchor=\"start\" x=\"2334.5\" y=\"-1124.8\" font-family=\"Helvetica,sans-Serif\" font-size=\"14.00\" fill=\"#000000\">pCO2 (arterial blood gas analysis) ≤ &#45;0.207</text>\n<text text-anchor=\"start\" x=\"2434.5\" y=\"-1109.8\" font-family=\"Helvetica,sans-Serif\" font-size=\"14.00\" fill=\"#000000\">gini = 0.005</text>\n<text text-anchor=\"start\" x=\"2416.5\" y=\"-1094.8\" font-family=\"Helvetica,sans-Serif\" font-size=\"14.00\" fill=\"#000000\">samples = 96.5%</text>\n<text text-anchor=\"start\" x=\"2402.5\" y=\"-1079.8\" font-family=\"Helvetica,sans-Serif\" font-size=\"14.00\" fill=\"#000000\">value = [0.997, 0.003]</text>\n<text text-anchor=\"start\" x=\"2443.5\" y=\"-1064.8\" font-family=\"Helvetica,sans-Serif\" font-size=\"14.00\" fill=\"#000000\">class = 0</text>\n</g>\n<!-- 62&#45;&gt;64 -->\n<g id=\"edge64\" class=\"edge\">\n<title>62&#45;&gt;64</title>\n<path fill=\"none\" stroke=\"#000000\" d=\"M1915.6817,-1223.5018C2015.1921,-1202.5028 2189.4163,-1165.7373 2316.5416,-1138.9109\"/>\n<polygon fill=\"#000000\" stroke=\"#000000\" points=\"2317.3174,-1142.3244 2326.3792,-1136.8349 2315.872,-1135.4752 2317.3174,-1142.3244\"/>\n</g>\n<!-- 65 -->\n<g id=\"node66\" class=\"node\">\n<title>65</title>\n<path fill=\"#ffffff\" stroke=\"#000000\" d=\"M2532,-1021C2532,-1021 2413,-1021 2413,-1021 2407,-1021 2401,-1015 2401,-1009 2401,-1009 2401,-935 2401,-935 2401,-929 2407,-923 2413,-923 2413,-923 2532,-923 2532,-923 2538,-923 2544,-929 2544,-935 2544,-935 2544,-1009 2544,-1009 2544,-1015 2538,-1021 2532,-1021\"/>\n<text text-anchor=\"start\" x=\"2441.5\" y=\"-1005.8\" font-family=\"Helvetica,sans-Serif\" font-size=\"14.00\" fill=\"#000000\">node #65</text>\n<text text-anchor=\"start\" x=\"2409\" y=\"-990.8\" font-family=\"Helvetica,sans-Serif\" font-size=\"14.00\" fill=\"#000000\">Hematocrit ≤ &#45;0.473</text>\n<text text-anchor=\"start\" x=\"2443\" y=\"-975.8\" font-family=\"Helvetica,sans-Serif\" font-size=\"14.00\" fill=\"#000000\">gini = 0.5</text>\n<text text-anchor=\"start\" x=\"2420.5\" y=\"-960.8\" font-family=\"Helvetica,sans-Serif\" font-size=\"14.00\" fill=\"#000000\">samples = 0.2%</text>\n<text text-anchor=\"start\" x=\"2419\" y=\"-945.8\" font-family=\"Helvetica,sans-Serif\" font-size=\"14.00\" fill=\"#000000\">value = [0.5, 0.5]</text>\n<text text-anchor=\"start\" x=\"2443.5\" y=\"-930.8\" font-family=\"Helvetica,sans-Serif\" font-size=\"14.00\" fill=\"#000000\">class = 0</text>\n</g>\n<!-- 64&#45;&gt;65 -->\n<g id=\"edge65\" class=\"edge\">\n<title>64&#45;&gt;65</title>\n<path fill=\"none\" stroke=\"#000000\" d=\"M2472.5,-1056.8642C2472.5,-1048.5802 2472.5,-1039.903 2472.5,-1031.3918\"/>\n<polygon fill=\"#000000\" stroke=\"#000000\" points=\"2476.0001,-1031.1298 2472.5,-1021.1298 2469.0001,-1031.1299 2476.0001,-1031.1298\"/>\n</g>\n<!-- 70 -->\n<g id=\"node71\" class=\"node\">\n<title>70</title>\n<path fill=\"#e58139\" stroke=\"#000000\" d=\"M2947.5,-1021C2947.5,-1021 2815.5,-1021 2815.5,-1021 2809.5,-1021 2803.5,-1015 2803.5,-1009 2803.5,-1009 2803.5,-935 2803.5,-935 2803.5,-929 2809.5,-923 2815.5,-923 2815.5,-923 2947.5,-923 2947.5,-923 2953.5,-923 2959.5,-929 2959.5,-935 2959.5,-935 2959.5,-1009 2959.5,-1009 2959.5,-1015 2953.5,-1021 2947.5,-1021\"/>\n<text text-anchor=\"start\" x=\"2850.5\" y=\"-1005.8\" font-family=\"Helvetica,sans-Serif\" font-size=\"14.00\" fill=\"#000000\">node #70</text>\n<text text-anchor=\"start\" x=\"2819.5\" y=\"-990.8\" font-family=\"Helvetica,sans-Serif\" font-size=\"14.00\" fill=\"#000000\">Monocytes ≤ 3.155</text>\n<text text-anchor=\"start\" x=\"2843.5\" y=\"-975.8\" font-family=\"Helvetica,sans-Serif\" font-size=\"14.00\" fill=\"#000000\">gini = 0.004</text>\n<text text-anchor=\"start\" x=\"2825.5\" y=\"-960.8\" font-family=\"Helvetica,sans-Serif\" font-size=\"14.00\" fill=\"#000000\">samples = 96.3%</text>\n<text text-anchor=\"start\" x=\"2811.5\" y=\"-945.8\" font-family=\"Helvetica,sans-Serif\" font-size=\"14.00\" fill=\"#000000\">value = [0.998, 0.002]</text>\n<text text-anchor=\"start\" x=\"2852.5\" y=\"-930.8\" font-family=\"Helvetica,sans-Serif\" font-size=\"14.00\" fill=\"#000000\">class = 0</text>\n</g>\n<!-- 64&#45;&gt;70 -->\n<g id=\"edge70\" class=\"edge\">\n<title>64&#45;&gt;70</title>\n<path fill=\"none\" stroke=\"#000000\" d=\"M2618.7146,-1058.0959C2677.2038,-1038.9332 2742.6337,-1017.4965 2793.5739,-1000.8071\"/>\n<polygon fill=\"#000000\" stroke=\"#000000\" points=\"2794.8235,-1004.0808 2803.2367,-997.6413 2792.644,-997.4287 2794.8235,-1004.0808\"/>\n</g>\n<!-- 66 -->\n<g id=\"node67\" class=\"node\">\n<title>66</title>\n<path fill=\"#e58139\" stroke=\"#000000\" d=\"M2424,-879.5C2424,-879.5 2325,-879.5 2325,-879.5 2319,-879.5 2313,-873.5 2313,-867.5 2313,-867.5 2313,-808.5 2313,-808.5 2313,-802.5 2319,-796.5 2325,-796.5 2325,-796.5 2424,-796.5 2424,-796.5 2430,-796.5 2436,-802.5 2436,-808.5 2436,-808.5 2436,-867.5 2436,-867.5 2436,-873.5 2430,-879.5 2424,-879.5\"/>\n<text text-anchor=\"start\" x=\"2343.5\" y=\"-864.3\" font-family=\"Helvetica,sans-Serif\" font-size=\"14.00\" fill=\"#000000\">node #66</text>\n<text text-anchor=\"start\" x=\"2345\" y=\"-849.3\" font-family=\"Helvetica,sans-Serif\" font-size=\"14.00\" fill=\"#000000\">gini = 0.0</text>\n<text text-anchor=\"start\" x=\"2322.5\" y=\"-834.3\" font-family=\"Helvetica,sans-Serif\" font-size=\"14.00\" fill=\"#000000\">samples = 0.1%</text>\n<text text-anchor=\"start\" x=\"2321\" y=\"-819.3\" font-family=\"Helvetica,sans-Serif\" font-size=\"14.00\" fill=\"#000000\">value = [1.0, 0.0]</text>\n<text text-anchor=\"start\" x=\"2345.5\" y=\"-804.3\" font-family=\"Helvetica,sans-Serif\" font-size=\"14.00\" fill=\"#000000\">class = 0</text>\n</g>\n<!-- 65&#45;&gt;66 -->\n<g id=\"edge66\" class=\"edge\">\n<title>65&#45;&gt;66</title>\n<path fill=\"none\" stroke=\"#000000\" d=\"M2436.5649,-922.8642C2428.2129,-911.4442 2419.3146,-899.2771 2410.941,-887.8275\"/>\n<polygon fill=\"#000000\" stroke=\"#000000\" points=\"2413.6801,-885.6437 2404.9518,-879.6381 2408.0299,-889.776 2413.6801,-885.6437\"/>\n</g>\n<!-- 67 -->\n<g id=\"node68\" class=\"node\">\n<title>67</title>\n<path fill=\"#88c4ef\" stroke=\"#000000\" d=\"M2674.5,-887C2674.5,-887 2466.5,-887 2466.5,-887 2460.5,-887 2454.5,-881 2454.5,-875 2454.5,-875 2454.5,-801 2454.5,-801 2454.5,-795 2460.5,-789 2466.5,-789 2466.5,-789 2674.5,-789 2674.5,-789 2680.5,-789 2686.5,-795 2686.5,-801 2686.5,-801 2686.5,-875 2686.5,-875 2686.5,-881 2680.5,-887 2674.5,-887\"/>\n<text text-anchor=\"start\" x=\"2539.5\" y=\"-871.8\" font-family=\"Helvetica,sans-Serif\" font-size=\"14.00\" fill=\"#000000\">node #67</text>\n<text text-anchor=\"start\" x=\"2462.5\" y=\"-856.8\" font-family=\"Helvetica,sans-Serif\" font-size=\"14.00\" fill=\"#000000\">Proteina C reativa mg/dL ≤ &#45;0.239</text>\n<text text-anchor=\"start\" x=\"2532.5\" y=\"-841.8\" font-family=\"Helvetica,sans-Serif\" font-size=\"14.00\" fill=\"#000000\">gini = 0.408</text>\n<text text-anchor=\"start\" x=\"2518.5\" y=\"-826.8\" font-family=\"Helvetica,sans-Serif\" font-size=\"14.00\" fill=\"#000000\">samples = 0.1%</text>\n<text text-anchor=\"start\" x=\"2500.5\" y=\"-811.8\" font-family=\"Helvetica,sans-Serif\" font-size=\"14.00\" fill=\"#000000\">value = [0.286, 0.714]</text>\n<text text-anchor=\"start\" x=\"2541.5\" y=\"-796.8\" font-family=\"Helvetica,sans-Serif\" font-size=\"14.00\" fill=\"#000000\">class = 1</text>\n</g>\n<!-- 65&#45;&gt;67 -->\n<g id=\"edge67\" class=\"edge\">\n<title>65&#45;&gt;67</title>\n<path fill=\"none\" stroke=\"#000000\" d=\"M2508.4351,-922.8642C2514.9597,-913.9429 2521.8176,-904.5657 2528.4983,-895.4309\"/>\n<polygon fill=\"#000000\" stroke=\"#000000\" points=\"2531.4911,-897.2677 2534.5692,-887.1298 2525.8409,-893.1354 2531.4911,-897.2677\"/>\n</g>\n<!-- 68 -->\n<g id=\"node69\" class=\"node\">\n<title>68</title>\n<path fill=\"#e58139\" stroke=\"#000000\" d=\"M2550,-745.5C2550,-745.5 2451,-745.5 2451,-745.5 2445,-745.5 2439,-739.5 2439,-733.5 2439,-733.5 2439,-674.5 2439,-674.5 2439,-668.5 2445,-662.5 2451,-662.5 2451,-662.5 2550,-662.5 2550,-662.5 2556,-662.5 2562,-668.5 2562,-674.5 2562,-674.5 2562,-733.5 2562,-733.5 2562,-739.5 2556,-745.5 2550,-745.5\"/>\n<text text-anchor=\"start\" x=\"2469.5\" y=\"-730.3\" font-family=\"Helvetica,sans-Serif\" font-size=\"14.00\" fill=\"#000000\">node #68</text>\n<text text-anchor=\"start\" x=\"2471\" y=\"-715.3\" font-family=\"Helvetica,sans-Serif\" font-size=\"14.00\" fill=\"#000000\">gini = 0.0</text>\n<text text-anchor=\"start\" x=\"2448.5\" y=\"-700.3\" font-family=\"Helvetica,sans-Serif\" font-size=\"14.00\" fill=\"#000000\">samples = 0.0%</text>\n<text text-anchor=\"start\" x=\"2447\" y=\"-685.3\" font-family=\"Helvetica,sans-Serif\" font-size=\"14.00\" fill=\"#000000\">value = [1.0, 0.0]</text>\n<text text-anchor=\"start\" x=\"2471.5\" y=\"-670.3\" font-family=\"Helvetica,sans-Serif\" font-size=\"14.00\" fill=\"#000000\">class = 0</text>\n</g>\n<!-- 67&#45;&gt;68 -->\n<g id=\"edge68\" class=\"edge\">\n<title>67&#45;&gt;68</title>\n<path fill=\"none\" stroke=\"#000000\" d=\"M2544.8321,-788.8642C2539.0401,-777.7768 2532.8803,-765.9852 2527.0528,-754.8297\"/>\n<polygon fill=\"#000000\" stroke=\"#000000\" points=\"2529.9837,-752.8811 2522.2513,-745.6381 2523.7793,-756.1222 2529.9837,-752.8811\"/>\n</g>\n<!-- 69 -->\n<g id=\"node70\" class=\"node\">\n<title>69</title>\n<path fill=\"#399de5\" stroke=\"#000000\" d=\"M2691,-745.5C2691,-745.5 2592,-745.5 2592,-745.5 2586,-745.5 2580,-739.5 2580,-733.5 2580,-733.5 2580,-674.5 2580,-674.5 2580,-668.5 2586,-662.5 2592,-662.5 2592,-662.5 2691,-662.5 2691,-662.5 2697,-662.5 2703,-668.5 2703,-674.5 2703,-674.5 2703,-733.5 2703,-733.5 2703,-739.5 2697,-745.5 2691,-745.5\"/>\n<text text-anchor=\"start\" x=\"2610.5\" y=\"-730.3\" font-family=\"Helvetica,sans-Serif\" font-size=\"14.00\" fill=\"#000000\">node #69</text>\n<text text-anchor=\"start\" x=\"2612\" y=\"-715.3\" font-family=\"Helvetica,sans-Serif\" font-size=\"14.00\" fill=\"#000000\">gini = 0.0</text>\n<text text-anchor=\"start\" x=\"2589.5\" y=\"-700.3\" font-family=\"Helvetica,sans-Serif\" font-size=\"14.00\" fill=\"#000000\">samples = 0.1%</text>\n<text text-anchor=\"start\" x=\"2588\" y=\"-685.3\" font-family=\"Helvetica,sans-Serif\" font-size=\"14.00\" fill=\"#000000\">value = [0.0, 1.0]</text>\n<text text-anchor=\"start\" x=\"2612.5\" y=\"-670.3\" font-family=\"Helvetica,sans-Serif\" font-size=\"14.00\" fill=\"#000000\">class = 1</text>\n</g>\n<!-- 67&#45;&gt;69 -->\n<g id=\"edge69\" class=\"edge\">\n<title>67&#45;&gt;69</title>\n<path fill=\"none\" stroke=\"#000000\" d=\"M2596.5346,-788.8642C2602.4681,-777.6659 2608.7821,-765.7493 2614.7451,-754.4953\"/>\n<polygon fill=\"#000000\" stroke=\"#000000\" points=\"2617.8487,-756.1131 2619.438,-745.6381 2611.6633,-752.8357 2617.8487,-756.1131\"/>\n</g>\n<!-- 71 -->\n<g id=\"node72\" class=\"node\">\n<title>71</title>\n<path fill=\"#e58139\" stroke=\"#000000\" d=\"M2947.5,-887C2947.5,-887 2815.5,-887 2815.5,-887 2809.5,-887 2803.5,-881 2803.5,-875 2803.5,-875 2803.5,-801 2803.5,-801 2803.5,-795 2809.5,-789 2815.5,-789 2815.5,-789 2947.5,-789 2947.5,-789 2953.5,-789 2959.5,-795 2959.5,-801 2959.5,-801 2959.5,-875 2959.5,-875 2959.5,-881 2953.5,-887 2947.5,-887\"/>\n<text text-anchor=\"start\" x=\"2850.5\" y=\"-871.8\" font-family=\"Helvetica,sans-Serif\" font-size=\"14.00\" fill=\"#000000\">node #71</text>\n<text text-anchor=\"start\" x=\"2819.5\" y=\"-856.8\" font-family=\"Helvetica,sans-Serif\" font-size=\"14.00\" fill=\"#000000\">Monocytes ≤ 0.502</text>\n<text text-anchor=\"start\" x=\"2843.5\" y=\"-841.8\" font-family=\"Helvetica,sans-Serif\" font-size=\"14.00\" fill=\"#000000\">gini = 0.003</text>\n<text text-anchor=\"start\" x=\"2825.5\" y=\"-826.8\" font-family=\"Helvetica,sans-Serif\" font-size=\"14.00\" fill=\"#000000\">samples = 96.3%</text>\n<text text-anchor=\"start\" x=\"2811.5\" y=\"-811.8\" font-family=\"Helvetica,sans-Serif\" font-size=\"14.00\" fill=\"#000000\">value = [0.998, 0.002]</text>\n<text text-anchor=\"start\" x=\"2852.5\" y=\"-796.8\" font-family=\"Helvetica,sans-Serif\" font-size=\"14.00\" fill=\"#000000\">class = 0</text>\n</g>\n<!-- 70&#45;&gt;71 -->\n<g id=\"edge71\" class=\"edge\">\n<title>70&#45;&gt;71</title>\n<path fill=\"none\" stroke=\"#000000\" d=\"M2881.5,-922.8642C2881.5,-914.5802 2881.5,-905.903 2881.5,-897.3918\"/>\n<polygon fill=\"#000000\" stroke=\"#000000\" points=\"2885.0001,-897.1298 2881.5,-887.1298 2878.0001,-897.1299 2885.0001,-897.1298\"/>\n</g>\n<!-- 92 -->\n<g id=\"node93\" class=\"node\">\n<title>92</title>\n<path fill=\"#399de5\" stroke=\"#000000\" d=\"M3089,-879.5C3089,-879.5 2990,-879.5 2990,-879.5 2984,-879.5 2978,-873.5 2978,-867.5 2978,-867.5 2978,-808.5 2978,-808.5 2978,-802.5 2984,-796.5 2990,-796.5 2990,-796.5 3089,-796.5 3089,-796.5 3095,-796.5 3101,-802.5 3101,-808.5 3101,-808.5 3101,-867.5 3101,-867.5 3101,-873.5 3095,-879.5 3089,-879.5\"/>\n<text text-anchor=\"start\" x=\"3008.5\" y=\"-864.3\" font-family=\"Helvetica,sans-Serif\" font-size=\"14.00\" fill=\"#000000\">node #92</text>\n<text text-anchor=\"start\" x=\"3010\" y=\"-849.3\" font-family=\"Helvetica,sans-Serif\" font-size=\"14.00\" fill=\"#000000\">gini = 0.0</text>\n<text text-anchor=\"start\" x=\"2987.5\" y=\"-834.3\" font-family=\"Helvetica,sans-Serif\" font-size=\"14.00\" fill=\"#000000\">samples = 0.0%</text>\n<text text-anchor=\"start\" x=\"2986\" y=\"-819.3\" font-family=\"Helvetica,sans-Serif\" font-size=\"14.00\" fill=\"#000000\">value = [0.0, 1.0]</text>\n<text text-anchor=\"start\" x=\"3010.5\" y=\"-804.3\" font-family=\"Helvetica,sans-Serif\" font-size=\"14.00\" fill=\"#000000\">class = 1</text>\n</g>\n<!-- 70&#45;&gt;92 -->\n<g id=\"edge92\" class=\"edge\">\n<title>70&#45;&gt;92</title>\n<path fill=\"none\" stroke=\"#000000\" d=\"M2939.4362,-922.8642C2953.5553,-910.8898 2968.6428,-898.0941 2982.7081,-886.1653\"/>\n<polygon fill=\"#000000\" stroke=\"#000000\" points=\"2985.0416,-888.7755 2990.4043,-879.6381 2980.5139,-883.4369 2985.0416,-888.7755\"/>\n</g>\n<!-- 72 -->\n<g id=\"node73\" class=\"node\">\n<title>72</title>\n<path fill=\"#e58139\" stroke=\"#000000\" d=\"M2947.5,-753C2947.5,-753 2815.5,-753 2815.5,-753 2809.5,-753 2803.5,-747 2803.5,-741 2803.5,-741 2803.5,-667 2803.5,-667 2803.5,-661 2809.5,-655 2815.5,-655 2815.5,-655 2947.5,-655 2947.5,-655 2953.5,-655 2959.5,-661 2959.5,-667 2959.5,-667 2959.5,-741 2959.5,-741 2959.5,-747 2953.5,-753 2947.5,-753\"/>\n<text text-anchor=\"start\" x=\"2850.5\" y=\"-737.8\" font-family=\"Helvetica,sans-Serif\" font-size=\"14.00\" fill=\"#000000\">node #72</text>\n<text text-anchor=\"start\" x=\"2832\" y=\"-722.8\" font-family=\"Helvetica,sans-Serif\" font-size=\"14.00\" fill=\"#000000\">Rods # ≤ 2.719</text>\n<text text-anchor=\"start\" x=\"2843.5\" y=\"-707.8\" font-family=\"Helvetica,sans-Serif\" font-size=\"14.00\" fill=\"#000000\">gini = 0.001</text>\n<text text-anchor=\"start\" x=\"2825.5\" y=\"-692.8\" font-family=\"Helvetica,sans-Serif\" font-size=\"14.00\" fill=\"#000000\">samples = 95.1%</text>\n<text text-anchor=\"start\" x=\"2811.5\" y=\"-677.8\" font-family=\"Helvetica,sans-Serif\" font-size=\"14.00\" fill=\"#000000\">value = [0.999, 0.001]</text>\n<text text-anchor=\"start\" x=\"2852.5\" y=\"-662.8\" font-family=\"Helvetica,sans-Serif\" font-size=\"14.00\" fill=\"#000000\">class = 0</text>\n</g>\n<!-- 71&#45;&gt;72 -->\n<g id=\"edge72\" class=\"edge\">\n<title>71&#45;&gt;72</title>\n<path fill=\"none\" stroke=\"#000000\" d=\"M2881.5,-788.8642C2881.5,-780.5802 2881.5,-771.903 2881.5,-763.3918\"/>\n<polygon fill=\"#000000\" stroke=\"#000000\" points=\"2885.0001,-763.1298 2881.5,-753.1298 2878.0001,-763.1299 2885.0001,-763.1298\"/>\n</g>\n<!-- 83 -->\n<g id=\"node84\" class=\"node\">\n<title>83</title>\n<path fill=\"#e88e4d\" stroke=\"#000000\" d=\"M3240.5,-753C3240.5,-753 3108.5,-753 3108.5,-753 3102.5,-753 3096.5,-747 3096.5,-741 3096.5,-741 3096.5,-667 3096.5,-667 3096.5,-661 3102.5,-655 3108.5,-655 3108.5,-655 3240.5,-655 3240.5,-655 3246.5,-655 3252.5,-661 3252.5,-667 3252.5,-667 3252.5,-741 3252.5,-741 3252.5,-747 3246.5,-753 3240.5,-753\"/>\n<text text-anchor=\"start\" x=\"3143.5\" y=\"-737.8\" font-family=\"Helvetica,sans-Serif\" font-size=\"14.00\" fill=\"#000000\">node #83</text>\n<text text-anchor=\"start\" x=\"3113.5\" y=\"-722.8\" font-family=\"Helvetica,sans-Serif\" font-size=\"14.00\" fill=\"#000000\">Hematocrit ≤ 0.591</text>\n<text text-anchor=\"start\" x=\"3141\" y=\"-707.8\" font-family=\"Helvetica,sans-Serif\" font-size=\"14.00\" fill=\"#000000\">gini = 0.17</text>\n<text text-anchor=\"start\" x=\"3122.5\" y=\"-692.8\" font-family=\"Helvetica,sans-Serif\" font-size=\"14.00\" fill=\"#000000\">samples = 1.1%</text>\n<text text-anchor=\"start\" x=\"3104.5\" y=\"-677.8\" font-family=\"Helvetica,sans-Serif\" font-size=\"14.00\" fill=\"#000000\">value = [0.906, 0.094]</text>\n<text text-anchor=\"start\" x=\"3145.5\" y=\"-662.8\" font-family=\"Helvetica,sans-Serif\" font-size=\"14.00\" fill=\"#000000\">class = 0</text>\n</g>\n<!-- 71&#45;&gt;83 -->\n<g id=\"edge83\" class=\"edge\">\n<title>71&#45;&gt;83</title>\n<path fill=\"none\" stroke=\"#000000\" d=\"M2959.5157,-793.4696C2962.5351,-791.9342 2965.5373,-790.439 2968.5,-789 3006.5162,-770.5358 3049.5976,-752.3523 3086.4993,-737.572\"/>\n<polygon fill=\"#000000\" stroke=\"#000000\" points=\"3088.2413,-740.6456 3096.236,-733.6934 3085.6507,-734.1426 3088.2413,-740.6456\"/>\n</g>\n<!-- 73 -->\n<g id=\"node74\" class=\"node\">\n<title>73</title>\n<path fill=\"#e58139\" stroke=\"#000000\" d=\"M2864,-619C2864,-619 2753,-619 2753,-619 2747,-619 2741,-613 2741,-607 2741,-607 2741,-533 2741,-533 2741,-527 2747,-521 2753,-521 2753,-521 2864,-521 2864,-521 2870,-521 2876,-527 2876,-533 2876,-533 2876,-607 2876,-607 2876,-613 2870,-619 2864,-619\"/>\n<text text-anchor=\"start\" x=\"2777.5\" y=\"-603.8\" font-family=\"Helvetica,sans-Serif\" font-size=\"14.00\" fill=\"#000000\">node #73</text>\n<text text-anchor=\"start\" x=\"2749\" y=\"-588.8\" font-family=\"Helvetica,sans-Serif\" font-size=\"14.00\" fill=\"#000000\">Leukocytes ≤ 3.57</text>\n<text text-anchor=\"start\" x=\"2770.5\" y=\"-573.8\" font-family=\"Helvetica,sans-Serif\" font-size=\"14.00\" fill=\"#000000\">gini = 0.001</text>\n<text text-anchor=\"start\" x=\"2752.5\" y=\"-558.8\" font-family=\"Helvetica,sans-Serif\" font-size=\"14.00\" fill=\"#000000\">samples = 95.1%</text>\n<text text-anchor=\"start\" x=\"2755\" y=\"-543.8\" font-family=\"Helvetica,sans-Serif\" font-size=\"14.00\" fill=\"#000000\">value = [1.0, 0.0]</text>\n<text text-anchor=\"start\" x=\"2779.5\" y=\"-528.8\" font-family=\"Helvetica,sans-Serif\" font-size=\"14.00\" fill=\"#000000\">class = 0</text>\n</g>\n<!-- 72&#45;&gt;73 -->\n<g id=\"edge73\" class=\"edge\">\n<title>72&#45;&gt;73</title>\n<path fill=\"none\" stroke=\"#000000\" d=\"M2854.732,-654.8642C2849.9711,-646.125 2844.9718,-636.9483 2840.0918,-627.9904\"/>\n<polygon fill=\"#000000\" stroke=\"#000000\" points=\"2843.1223,-626.2369 2835.2648,-619.1298 2836.9752,-629.5857 2843.1223,-626.2369\"/>\n</g>\n<!-- 82 -->\n<g id=\"node83\" class=\"node\">\n<title>82</title>\n<path fill=\"#399de5\" stroke=\"#000000\" d=\"M3005,-611.5C3005,-611.5 2906,-611.5 2906,-611.5 2900,-611.5 2894,-605.5 2894,-599.5 2894,-599.5 2894,-540.5 2894,-540.5 2894,-534.5 2900,-528.5 2906,-528.5 2906,-528.5 3005,-528.5 3005,-528.5 3011,-528.5 3017,-534.5 3017,-540.5 3017,-540.5 3017,-599.5 3017,-599.5 3017,-605.5 3011,-611.5 3005,-611.5\"/>\n<text text-anchor=\"start\" x=\"2924.5\" y=\"-596.3\" font-family=\"Helvetica,sans-Serif\" font-size=\"14.00\" fill=\"#000000\">node #82</text>\n<text text-anchor=\"start\" x=\"2926\" y=\"-581.3\" font-family=\"Helvetica,sans-Serif\" font-size=\"14.00\" fill=\"#000000\">gini = 0.0</text>\n<text text-anchor=\"start\" x=\"2903.5\" y=\"-566.3\" font-family=\"Helvetica,sans-Serif\" font-size=\"14.00\" fill=\"#000000\">samples = 0.0%</text>\n<text text-anchor=\"start\" x=\"2902\" y=\"-551.3\" font-family=\"Helvetica,sans-Serif\" font-size=\"14.00\" fill=\"#000000\">value = [0.0, 1.0]</text>\n<text text-anchor=\"start\" x=\"2926.5\" y=\"-536.3\" font-family=\"Helvetica,sans-Serif\" font-size=\"14.00\" fill=\"#000000\">class = 1</text>\n</g>\n<!-- 72&#45;&gt;82 -->\n<g id=\"edge82\" class=\"edge\">\n<title>72&#45;&gt;82</title>\n<path fill=\"none\" stroke=\"#000000\" d=\"M2908.6347,-654.8642C2914.8188,-643.6659 2921.3996,-631.7493 2927.6146,-620.4953\"/>\n<polygon fill=\"#000000\" stroke=\"#000000\" points=\"2930.7354,-622.084 2932.5058,-611.6381 2924.6077,-618.7 2930.7354,-622.084\"/>\n</g>\n<!-- 74 -->\n<g id=\"node75\" class=\"node\">\n<title>74</title>\n<path fill=\"#e58139\" stroke=\"#000000\" d=\"M2850,-485C2850,-485 2647,-485 2647,-485 2641,-485 2635,-479 2635,-473 2635,-473 2635,-399 2635,-399 2635,-393 2641,-387 2647,-387 2647,-387 2850,-387 2850,-387 2856,-387 2862,-393 2862,-399 2862,-399 2862,-473 2862,-473 2862,-479 2856,-485 2850,-485\"/>\n<text text-anchor=\"start\" x=\"2717.5\" y=\"-469.8\" font-family=\"Helvetica,sans-Serif\" font-size=\"14.00\" fill=\"#000000\">node #74</text>\n<text text-anchor=\"start\" x=\"2643\" y=\"-454.8\" font-family=\"Helvetica,sans-Serif\" font-size=\"14.00\" fill=\"#000000\">Proteina C reativa mg/dL ≤ 3.158</text>\n<text text-anchor=\"start\" x=\"2719\" y=\"-439.8\" font-family=\"Helvetica,sans-Serif\" font-size=\"14.00\" fill=\"#000000\">gini = 0.0</text>\n<text text-anchor=\"start\" x=\"2692.5\" y=\"-424.8\" font-family=\"Helvetica,sans-Serif\" font-size=\"14.00\" fill=\"#000000\">samples = 95.1%</text>\n<text text-anchor=\"start\" x=\"2695\" y=\"-409.8\" font-family=\"Helvetica,sans-Serif\" font-size=\"14.00\" fill=\"#000000\">value = [1.0, 0.0]</text>\n<text text-anchor=\"start\" x=\"2719.5\" y=\"-394.8\" font-family=\"Helvetica,sans-Serif\" font-size=\"14.00\" fill=\"#000000\">class = 0</text>\n</g>\n<!-- 73&#45;&gt;74 -->\n<g id=\"edge74\" class=\"edge\">\n<title>73&#45;&gt;74</title>\n<path fill=\"none\" stroke=\"#000000\" d=\"M2786.4989,-520.8642C2782.6266,-512.216 2778.5624,-503.1394 2774.5912,-494.2704\"/>\n<polygon fill=\"#000000\" stroke=\"#000000\" points=\"2777.7795,-492.8263 2770.4984,-485.1298 2771.3907,-495.687 2777.7795,-492.8263\"/>\n</g>\n<!-- 79 -->\n<g id=\"node80\" class=\"node\">\n<title>79</title>\n<path fill=\"#eeab7b\" stroke=\"#000000\" d=\"M3036.5,-485C3036.5,-485 2892.5,-485 2892.5,-485 2886.5,-485 2880.5,-479 2880.5,-473 2880.5,-473 2880.5,-399 2880.5,-399 2880.5,-393 2886.5,-387 2892.5,-387 2892.5,-387 3036.5,-387 3036.5,-387 3042.5,-387 3048.5,-393 3048.5,-399 3048.5,-399 3048.5,-473 3048.5,-473 3048.5,-479 3042.5,-485 3036.5,-485\"/>\n<text text-anchor=\"start\" x=\"2933.5\" y=\"-469.8\" font-family=\"Helvetica,sans-Serif\" font-size=\"14.00\" fill=\"#000000\">node #79</text>\n<text text-anchor=\"start\" x=\"2888.5\" y=\"-454.8\" font-family=\"Helvetica,sans-Serif\" font-size=\"14.00\" fill=\"#000000\">Urine &#45; Density ≤ &#45;0.027</text>\n<text text-anchor=\"start\" x=\"2926.5\" y=\"-439.8\" font-family=\"Helvetica,sans-Serif\" font-size=\"14.00\" fill=\"#000000\">gini = 0.375</text>\n<text text-anchor=\"start\" x=\"2912.5\" y=\"-424.8\" font-family=\"Helvetica,sans-Serif\" font-size=\"14.00\" fill=\"#000000\">samples = 0.1%</text>\n<text text-anchor=\"start\" x=\"2902.5\" y=\"-409.8\" font-family=\"Helvetica,sans-Serif\" font-size=\"14.00\" fill=\"#000000\">value = [0.75, 0.25]</text>\n<text text-anchor=\"start\" x=\"2935.5\" y=\"-394.8\" font-family=\"Helvetica,sans-Serif\" font-size=\"14.00\" fill=\"#000000\">class = 0</text>\n</g>\n<!-- 73&#45;&gt;79 -->\n<g id=\"edge79\" class=\"edge\">\n<title>73&#45;&gt;79</title>\n<path fill=\"none\" stroke=\"#000000\" d=\"M2865.7028,-520.8642C2876.7247,-511.3967 2888.3443,-501.4158 2899.5901,-491.7559\"/>\n<polygon fill=\"#000000\" stroke=\"#000000\" points=\"2901.9989,-494.3008 2907.3041,-485.1298 2897.4378,-488.9908 2901.9989,-494.3008\"/>\n</g>\n<!-- 75 -->\n<g id=\"node76\" class=\"node\">\n<title>75</title>\n<path fill=\"#e58139\" stroke=\"#000000\" d=\"M2717.5,-343.5C2717.5,-343.5 2613.5,-343.5 2613.5,-343.5 2607.5,-343.5 2601.5,-337.5 2601.5,-331.5 2601.5,-331.5 2601.5,-272.5 2601.5,-272.5 2601.5,-266.5 2607.5,-260.5 2613.5,-260.5 2613.5,-260.5 2717.5,-260.5 2717.5,-260.5 2723.5,-260.5 2729.5,-266.5 2729.5,-272.5 2729.5,-272.5 2729.5,-331.5 2729.5,-331.5 2729.5,-337.5 2723.5,-343.5 2717.5,-343.5\"/>\n<text text-anchor=\"start\" x=\"2634.5\" y=\"-328.3\" font-family=\"Helvetica,sans-Serif\" font-size=\"14.00\" fill=\"#000000\">node #75</text>\n<text text-anchor=\"start\" x=\"2636\" y=\"-313.3\" font-family=\"Helvetica,sans-Serif\" font-size=\"14.00\" fill=\"#000000\">gini = 0.0</text>\n<text text-anchor=\"start\" x=\"2609.5\" y=\"-298.3\" font-family=\"Helvetica,sans-Serif\" font-size=\"14.00\" fill=\"#000000\">samples = 95.0%</text>\n<text text-anchor=\"start\" x=\"2612\" y=\"-283.3\" font-family=\"Helvetica,sans-Serif\" font-size=\"14.00\" fill=\"#000000\">value = [1.0, 0.0]</text>\n<text text-anchor=\"start\" x=\"2636.5\" y=\"-268.3\" font-family=\"Helvetica,sans-Serif\" font-size=\"14.00\" fill=\"#000000\">class = 0</text>\n</g>\n<!-- 74&#45;&gt;75 -->\n<g id=\"edge75\" class=\"edge\">\n<title>74&#45;&gt;75</title>\n<path fill=\"none\" stroke=\"#000000\" d=\"M2718.0652,-386.8642C2711.0602,-375.555 2703.6015,-363.5133 2696.57,-352.1612\"/>\n<polygon fill=\"#000000\" stroke=\"#000000\" points=\"2699.532,-350.2964 2691.2908,-343.6381 2693.5811,-353.9825 2699.532,-350.2964\"/>\n</g>\n<!-- 76 -->\n<g id=\"node77\" class=\"node\">\n<title>76</title>\n<path fill=\"#eca06a\" stroke=\"#000000\" d=\"M2873,-351C2873,-351 2760,-351 2760,-351 2754,-351 2748,-345 2748,-339 2748,-339 2748,-265 2748,-265 2748,-259 2754,-253 2760,-253 2760,-253 2873,-253 2873,-253 2879,-253 2885,-259 2885,-265 2885,-265 2885,-339 2885,-339 2885,-345 2879,-351 2873,-351\"/>\n<text text-anchor=\"start\" x=\"2785.5\" y=\"-335.8\" font-family=\"Helvetica,sans-Serif\" font-size=\"14.00\" fill=\"#000000\">node #76</text>\n<text text-anchor=\"start\" x=\"2756\" y=\"-320.8\" font-family=\"Helvetica,sans-Serif\" font-size=\"14.00\" fill=\"#000000\">Basophils ≤ &#45;0.376</text>\n<text text-anchor=\"start\" x=\"2783\" y=\"-305.8\" font-family=\"Helvetica,sans-Serif\" font-size=\"14.00\" fill=\"#000000\">gini = 0.32</text>\n<text text-anchor=\"start\" x=\"2764.5\" y=\"-290.8\" font-family=\"Helvetica,sans-Serif\" font-size=\"14.00\" fill=\"#000000\">samples = 0.1%</text>\n<text text-anchor=\"start\" x=\"2763\" y=\"-275.8\" font-family=\"Helvetica,sans-Serif\" font-size=\"14.00\" fill=\"#000000\">value = [0.8, 0.2]</text>\n<text text-anchor=\"start\" x=\"2787.5\" y=\"-260.8\" font-family=\"Helvetica,sans-Serif\" font-size=\"14.00\" fill=\"#000000\">class = 0</text>\n</g>\n<!-- 74&#45;&gt;76 -->\n<g id=\"edge76\" class=\"edge\">\n<title>74&#45;&gt;76</title>\n<path fill=\"none\" stroke=\"#000000\" d=\"M2773.4346,-386.8642C2777.8232,-378.216 2782.4292,-369.1394 2786.9299,-360.2704\"/>\n<polygon fill=\"#000000\" stroke=\"#000000\" points=\"2790.1642,-361.6312 2791.5684,-351.1298 2783.922,-358.4635 2790.1642,-361.6312\"/>\n</g>\n<!-- 77 -->\n<g id=\"node78\" class=\"node\">\n<title>77</title>\n<path fill=\"#e58139\" stroke=\"#000000\" d=\"M2795,-209.5C2795,-209.5 2696,-209.5 2696,-209.5 2690,-209.5 2684,-203.5 2684,-197.5 2684,-197.5 2684,-138.5 2684,-138.5 2684,-132.5 2690,-126.5 2696,-126.5 2696,-126.5 2795,-126.5 2795,-126.5 2801,-126.5 2807,-132.5 2807,-138.5 2807,-138.5 2807,-197.5 2807,-197.5 2807,-203.5 2801,-209.5 2795,-209.5\"/>\n<text text-anchor=\"start\" x=\"2714.5\" y=\"-194.3\" font-family=\"Helvetica,sans-Serif\" font-size=\"14.00\" fill=\"#000000\">node #77</text>\n<text text-anchor=\"start\" x=\"2716\" y=\"-179.3\" font-family=\"Helvetica,sans-Serif\" font-size=\"14.00\" fill=\"#000000\">gini = 0.0</text>\n<text text-anchor=\"start\" x=\"2693.5\" y=\"-164.3\" font-family=\"Helvetica,sans-Serif\" font-size=\"14.00\" fill=\"#000000\">samples = 0.1%</text>\n<text text-anchor=\"start\" x=\"2692\" y=\"-149.3\" font-family=\"Helvetica,sans-Serif\" font-size=\"14.00\" fill=\"#000000\">value = [1.0, 0.0]</text>\n<text text-anchor=\"start\" x=\"2716.5\" y=\"-134.3\" font-family=\"Helvetica,sans-Serif\" font-size=\"14.00\" fill=\"#000000\">class = 0</text>\n</g>\n<!-- 76&#45;&gt;77 -->\n<g id=\"edge77\" class=\"edge\">\n<title>76&#45;&gt;77</title>\n<path fill=\"none\" stroke=\"#000000\" d=\"M2790.4654,-252.8642C2784.5319,-241.6659 2778.2179,-229.7493 2772.2549,-218.4953\"/>\n<polygon fill=\"#000000\" stroke=\"#000000\" points=\"2775.3367,-216.8357 2767.562,-209.6381 2769.1513,-220.1131 2775.3367,-216.8357\"/>\n</g>\n<!-- 78 -->\n<g id=\"node79\" class=\"node\">\n<title>78</title>\n<path fill=\"#399de5\" stroke=\"#000000\" d=\"M2936,-209.5C2936,-209.5 2837,-209.5 2837,-209.5 2831,-209.5 2825,-203.5 2825,-197.5 2825,-197.5 2825,-138.5 2825,-138.5 2825,-132.5 2831,-126.5 2837,-126.5 2837,-126.5 2936,-126.5 2936,-126.5 2942,-126.5 2948,-132.5 2948,-138.5 2948,-138.5 2948,-197.5 2948,-197.5 2948,-203.5 2942,-209.5 2936,-209.5\"/>\n<text text-anchor=\"start\" x=\"2855.5\" y=\"-194.3\" font-family=\"Helvetica,sans-Serif\" font-size=\"14.00\" fill=\"#000000\">node #78</text>\n<text text-anchor=\"start\" x=\"2857\" y=\"-179.3\" font-family=\"Helvetica,sans-Serif\" font-size=\"14.00\" fill=\"#000000\">gini = 0.0</text>\n<text text-anchor=\"start\" x=\"2834.5\" y=\"-164.3\" font-family=\"Helvetica,sans-Serif\" font-size=\"14.00\" fill=\"#000000\">samples = 0.0%</text>\n<text text-anchor=\"start\" x=\"2833\" y=\"-149.3\" font-family=\"Helvetica,sans-Serif\" font-size=\"14.00\" fill=\"#000000\">value = [0.0, 1.0]</text>\n<text text-anchor=\"start\" x=\"2857.5\" y=\"-134.3\" font-family=\"Helvetica,sans-Serif\" font-size=\"14.00\" fill=\"#000000\">class = 1</text>\n</g>\n<!-- 76&#45;&gt;78 -->\n<g id=\"edge78\" class=\"edge\">\n<title>76&#45;&gt;78</title>\n<path fill=\"none\" stroke=\"#000000\" d=\"M2842.1679,-252.8642C2847.9599,-241.7768 2854.1197,-229.9852 2859.9472,-218.8297\"/>\n<polygon fill=\"#000000\" stroke=\"#000000\" points=\"2863.2207,-220.1222 2864.7487,-209.6381 2857.0163,-216.8811 2863.2207,-220.1222\"/>\n</g>\n<!-- 80 -->\n<g id=\"node81\" class=\"node\">\n<title>80</title>\n<path fill=\"#399de5\" stroke=\"#000000\" d=\"M3014,-343.5C3014,-343.5 2915,-343.5 2915,-343.5 2909,-343.5 2903,-337.5 2903,-331.5 2903,-331.5 2903,-272.5 2903,-272.5 2903,-266.5 2909,-260.5 2915,-260.5 2915,-260.5 3014,-260.5 3014,-260.5 3020,-260.5 3026,-266.5 3026,-272.5 3026,-272.5 3026,-331.5 3026,-331.5 3026,-337.5 3020,-343.5 3014,-343.5\"/>\n<text text-anchor=\"start\" x=\"2933.5\" y=\"-328.3\" font-family=\"Helvetica,sans-Serif\" font-size=\"14.00\" fill=\"#000000\">node #80</text>\n<text text-anchor=\"start\" x=\"2935\" y=\"-313.3\" font-family=\"Helvetica,sans-Serif\" font-size=\"14.00\" fill=\"#000000\">gini = 0.0</text>\n<text text-anchor=\"start\" x=\"2912.5\" y=\"-298.3\" font-family=\"Helvetica,sans-Serif\" font-size=\"14.00\" fill=\"#000000\">samples = 0.0%</text>\n<text text-anchor=\"start\" x=\"2911\" y=\"-283.3\" font-family=\"Helvetica,sans-Serif\" font-size=\"14.00\" fill=\"#000000\">value = [0.0, 1.0]</text>\n<text text-anchor=\"start\" x=\"2935.5\" y=\"-268.3\" font-family=\"Helvetica,sans-Serif\" font-size=\"14.00\" fill=\"#000000\">class = 1</text>\n</g>\n<!-- 79&#45;&gt;80 -->\n<g id=\"edge80\" class=\"edge\">\n<title>79&#45;&gt;80</title>\n<path fill=\"none\" stroke=\"#000000\" d=\"M2964.5,-386.8642C2964.5,-376.1094 2964.5,-364.6921 2964.5,-353.8354\"/>\n<polygon fill=\"#000000\" stroke=\"#000000\" points=\"2968.0001,-353.6381 2964.5,-343.6381 2961.0001,-353.6382 2968.0001,-353.6381\"/>\n</g>\n<!-- 81 -->\n<g id=\"node82\" class=\"node\">\n<title>81</title>\n<path fill=\"#e58139\" stroke=\"#000000\" d=\"M3155,-343.5C3155,-343.5 3056,-343.5 3056,-343.5 3050,-343.5 3044,-337.5 3044,-331.5 3044,-331.5 3044,-272.5 3044,-272.5 3044,-266.5 3050,-260.5 3056,-260.5 3056,-260.5 3155,-260.5 3155,-260.5 3161,-260.5 3167,-266.5 3167,-272.5 3167,-272.5 3167,-331.5 3167,-331.5 3167,-337.5 3161,-343.5 3155,-343.5\"/>\n<text text-anchor=\"start\" x=\"3074.5\" y=\"-328.3\" font-family=\"Helvetica,sans-Serif\" font-size=\"14.00\" fill=\"#000000\">node #81</text>\n<text text-anchor=\"start\" x=\"3076\" y=\"-313.3\" font-family=\"Helvetica,sans-Serif\" font-size=\"14.00\" fill=\"#000000\">gini = 0.0</text>\n<text text-anchor=\"start\" x=\"3053.5\" y=\"-298.3\" font-family=\"Helvetica,sans-Serif\" font-size=\"14.00\" fill=\"#000000\">samples = 0.1%</text>\n<text text-anchor=\"start\" x=\"3052\" y=\"-283.3\" font-family=\"Helvetica,sans-Serif\" font-size=\"14.00\" fill=\"#000000\">value = [1.0, 0.0]</text>\n<text text-anchor=\"start\" x=\"3076.5\" y=\"-268.3\" font-family=\"Helvetica,sans-Serif\" font-size=\"14.00\" fill=\"#000000\">class = 0</text>\n</g>\n<!-- 79&#45;&gt;81 -->\n<g id=\"edge81\" class=\"edge\">\n<title>79&#45;&gt;81</title>\n<path fill=\"none\" stroke=\"#000000\" d=\"M3016.2026,-386.8642C3028.5692,-375.1115 3041.7683,-362.5677 3054.1203,-350.8289\"/>\n<polygon fill=\"#000000\" stroke=\"#000000\" points=\"3056.8491,-353.0641 3061.6867,-343.6381 3052.0269,-347.99 3056.8491,-353.0641\"/>\n</g>\n<!-- 84 -->\n<g id=\"node85\" class=\"node\">\n<title>84</title>\n<path fill=\"#e6843d\" stroke=\"#000000\" d=\"M3272,-619C3272,-619 3077,-619 3077,-619 3071,-619 3065,-613 3065,-607 3065,-607 3065,-533 3065,-533 3065,-527 3071,-521 3077,-521 3077,-521 3272,-521 3272,-521 3278,-521 3284,-527 3284,-533 3284,-533 3284,-607 3284,-607 3284,-613 3278,-619 3272,-619\"/>\n<text text-anchor=\"start\" x=\"3143.5\" y=\"-603.8\" font-family=\"Helvetica,sans-Serif\" font-size=\"14.00\" fill=\"#000000\">node #84</text>\n<text text-anchor=\"start\" x=\"3073\" y=\"-588.8\" font-family=\"Helvetica,sans-Serif\" font-size=\"14.00\" fill=\"#000000\">Urine &#45; Red blood cells ≤ &#45;0.201</text>\n<text text-anchor=\"start\" x=\"3136.5\" y=\"-573.8\" font-family=\"Helvetica,sans-Serif\" font-size=\"14.00\" fill=\"#000000\">gini = 0.042</text>\n<text text-anchor=\"start\" x=\"3122.5\" y=\"-558.8\" font-family=\"Helvetica,sans-Serif\" font-size=\"14.00\" fill=\"#000000\">samples = 0.8%</text>\n<text text-anchor=\"start\" x=\"3104.5\" y=\"-543.8\" font-family=\"Helvetica,sans-Serif\" font-size=\"14.00\" fill=\"#000000\">value = [0.979, 0.021]</text>\n<text text-anchor=\"start\" x=\"3145.5\" y=\"-528.8\" font-family=\"Helvetica,sans-Serif\" font-size=\"14.00\" fill=\"#000000\">class = 0</text>\n</g>\n<!-- 83&#45;&gt;84 -->\n<g id=\"edge84\" class=\"edge\">\n<title>83&#45;&gt;84</title>\n<path fill=\"none\" stroke=\"#000000\" d=\"M3174.5,-654.8642C3174.5,-646.5802 3174.5,-637.903 3174.5,-629.3918\"/>\n<polygon fill=\"#000000\" stroke=\"#000000\" points=\"3178.0001,-629.1298 3174.5,-619.1298 3171.0001,-629.1299 3178.0001,-629.1298\"/>\n</g>\n<!-- 87 -->\n<g id=\"node88\" class=\"node\">\n<title>87</title>\n<path fill=\"#f0b58b\" stroke=\"#000000\" d=\"M3476.5,-619C3476.5,-619 3344.5,-619 3344.5,-619 3338.5,-619 3332.5,-613 3332.5,-607 3332.5,-607 3332.5,-533 3332.5,-533 3332.5,-527 3338.5,-521 3344.5,-521 3344.5,-521 3476.5,-521 3476.5,-521 3482.5,-521 3488.5,-527 3488.5,-533 3488.5,-533 3488.5,-607 3488.5,-607 3488.5,-613 3482.5,-619 3476.5,-619\"/>\n<text text-anchor=\"start\" x=\"3379.5\" y=\"-603.8\" font-family=\"Helvetica,sans-Serif\" font-size=\"14.00\" fill=\"#000000\">node #87</text>\n<text text-anchor=\"start\" x=\"3344.5\" y=\"-588.8\" font-family=\"Helvetica,sans-Serif\" font-size=\"14.00\" fill=\"#000000\">Leukocytes ≤ &#45;0.412</text>\n<text text-anchor=\"start\" x=\"3372.5\" y=\"-573.8\" font-family=\"Helvetica,sans-Serif\" font-size=\"14.00\" fill=\"#000000\">gini = 0.415</text>\n<text text-anchor=\"start\" x=\"3358.5\" y=\"-558.8\" font-family=\"Helvetica,sans-Serif\" font-size=\"14.00\" fill=\"#000000\">samples = 0.3%</text>\n<text text-anchor=\"start\" x=\"3340.5\" y=\"-543.8\" font-family=\"Helvetica,sans-Serif\" font-size=\"14.00\" fill=\"#000000\">value = [0.706, 0.294]</text>\n<text text-anchor=\"start\" x=\"3381.5\" y=\"-528.8\" font-family=\"Helvetica,sans-Serif\" font-size=\"14.00\" fill=\"#000000\">class = 0</text>\n</g>\n<!-- 83&#45;&gt;87 -->\n<g id=\"edge87\" class=\"edge\">\n<title>83&#45;&gt;87</title>\n<path fill=\"none\" stroke=\"#000000\" d=\"M3252.7568,-659.5661C3275.481,-646.6633 3300.4318,-632.4963 3323.6496,-619.3133\"/>\n<polygon fill=\"#000000\" stroke=\"#000000\" points=\"3325.4871,-622.2949 3332.455,-614.3137 3322.0308,-616.2077 3325.4871,-622.2949\"/>\n</g>\n<!-- 85 -->\n<g id=\"node86\" class=\"node\">\n<title>85</title>\n<path fill=\"#399de5\" stroke=\"#000000\" d=\"M3178,-477.5C3178,-477.5 3079,-477.5 3079,-477.5 3073,-477.5 3067,-471.5 3067,-465.5 3067,-465.5 3067,-406.5 3067,-406.5 3067,-400.5 3073,-394.5 3079,-394.5 3079,-394.5 3178,-394.5 3178,-394.5 3184,-394.5 3190,-400.5 3190,-406.5 3190,-406.5 3190,-465.5 3190,-465.5 3190,-471.5 3184,-477.5 3178,-477.5\"/>\n<text text-anchor=\"start\" x=\"3097.5\" y=\"-462.3\" font-family=\"Helvetica,sans-Serif\" font-size=\"14.00\" fill=\"#000000\">node #85</text>\n<text text-anchor=\"start\" x=\"3099\" y=\"-447.3\" font-family=\"Helvetica,sans-Serif\" font-size=\"14.00\" fill=\"#000000\">gini = 0.0</text>\n<text text-anchor=\"start\" x=\"3076.5\" y=\"-432.3\" font-family=\"Helvetica,sans-Serif\" font-size=\"14.00\" fill=\"#000000\">samples = 0.0%</text>\n<text text-anchor=\"start\" x=\"3075\" y=\"-417.3\" font-family=\"Helvetica,sans-Serif\" font-size=\"14.00\" fill=\"#000000\">value = [0.0, 1.0]</text>\n<text text-anchor=\"start\" x=\"3099.5\" y=\"-402.3\" font-family=\"Helvetica,sans-Serif\" font-size=\"14.00\" fill=\"#000000\">class = 1</text>\n</g>\n<!-- 84&#45;&gt;85 -->\n<g id=\"edge85\" class=\"edge\">\n<title>84&#45;&gt;85</title>\n<path fill=\"none\" stroke=\"#000000\" d=\"M3157.6325,-520.8642C3153.8644,-509.8877 3149.8594,-498.221 3146.064,-487.1646\"/>\n<polygon fill=\"#000000\" stroke=\"#000000\" points=\"3149.351,-485.9599 3142.7937,-477.6381 3142.7302,-488.2328 3149.351,-485.9599\"/>\n</g>\n<!-- 86 -->\n<g id=\"node87\" class=\"node\">\n<title>86</title>\n<path fill=\"#e58139\" stroke=\"#000000\" d=\"M3319,-477.5C3319,-477.5 3220,-477.5 3220,-477.5 3214,-477.5 3208,-471.5 3208,-465.5 3208,-465.5 3208,-406.5 3208,-406.5 3208,-400.5 3214,-394.5 3220,-394.5 3220,-394.5 3319,-394.5 3319,-394.5 3325,-394.5 3331,-400.5 3331,-406.5 3331,-406.5 3331,-465.5 3331,-465.5 3331,-471.5 3325,-477.5 3319,-477.5\"/>\n<text text-anchor=\"start\" x=\"3238.5\" y=\"-462.3\" font-family=\"Helvetica,sans-Serif\" font-size=\"14.00\" fill=\"#000000\">node #86</text>\n<text text-anchor=\"start\" x=\"3240\" y=\"-447.3\" font-family=\"Helvetica,sans-Serif\" font-size=\"14.00\" fill=\"#000000\">gini = 0.0</text>\n<text text-anchor=\"start\" x=\"3217.5\" y=\"-432.3\" font-family=\"Helvetica,sans-Serif\" font-size=\"14.00\" fill=\"#000000\">samples = 0.8%</text>\n<text text-anchor=\"start\" x=\"3216\" y=\"-417.3\" font-family=\"Helvetica,sans-Serif\" font-size=\"14.00\" fill=\"#000000\">value = [1.0, 0.0]</text>\n<text text-anchor=\"start\" x=\"3240.5\" y=\"-402.3\" font-family=\"Helvetica,sans-Serif\" font-size=\"14.00\" fill=\"#000000\">class = 0</text>\n</g>\n<!-- 84&#45;&gt;86 -->\n<g id=\"edge86\" class=\"edge\">\n<title>84&#45;&gt;86</title>\n<path fill=\"none\" stroke=\"#000000\" d=\"M3209.3351,-520.8642C3217.4314,-509.4442 3226.0573,-497.2771 3234.1745,-485.8275\"/>\n<polygon fill=\"#000000\" stroke=\"#000000\" points=\"3237.0521,-487.8203 3239.9804,-477.6381 3231.3416,-483.7717 3237.0521,-487.8203\"/>\n</g>\n<!-- 88 -->\n<g id=\"node89\" class=\"node\">\n<title>88</title>\n<path fill=\"#399de5\" stroke=\"#000000\" d=\"M3460,-477.5C3460,-477.5 3361,-477.5 3361,-477.5 3355,-477.5 3349,-471.5 3349,-465.5 3349,-465.5 3349,-406.5 3349,-406.5 3349,-400.5 3355,-394.5 3361,-394.5 3361,-394.5 3460,-394.5 3460,-394.5 3466,-394.5 3472,-400.5 3472,-406.5 3472,-406.5 3472,-465.5 3472,-465.5 3472,-471.5 3466,-477.5 3460,-477.5\"/>\n<text text-anchor=\"start\" x=\"3379.5\" y=\"-462.3\" font-family=\"Helvetica,sans-Serif\" font-size=\"14.00\" fill=\"#000000\">node #88</text>\n<text text-anchor=\"start\" x=\"3381\" y=\"-447.3\" font-family=\"Helvetica,sans-Serif\" font-size=\"14.00\" fill=\"#000000\">gini = 0.0</text>\n<text text-anchor=\"start\" x=\"3358.5\" y=\"-432.3\" font-family=\"Helvetica,sans-Serif\" font-size=\"14.00\" fill=\"#000000\">samples = 0.1%</text>\n<text text-anchor=\"start\" x=\"3357\" y=\"-417.3\" font-family=\"Helvetica,sans-Serif\" font-size=\"14.00\" fill=\"#000000\">value = [0.0, 1.0]</text>\n<text text-anchor=\"start\" x=\"3381.5\" y=\"-402.3\" font-family=\"Helvetica,sans-Serif\" font-size=\"14.00\" fill=\"#000000\">class = 1</text>\n</g>\n<!-- 87&#45;&gt;88 -->\n<g id=\"edge88\" class=\"edge\">\n<title>87&#45;&gt;88</title>\n<path fill=\"none\" stroke=\"#000000\" d=\"M3410.5,-520.8642C3410.5,-510.1094 3410.5,-498.6921 3410.5,-487.8354\"/>\n<polygon fill=\"#000000\" stroke=\"#000000\" points=\"3414.0001,-487.6381 3410.5,-477.6381 3407.0001,-487.6382 3414.0001,-487.6381\"/>\n</g>\n<!-- 89 -->\n<g id=\"node90\" class=\"node\">\n<title>89</title>\n<path fill=\"#e9965a\" stroke=\"#000000\" d=\"M3634.5,-485C3634.5,-485 3502.5,-485 3502.5,-485 3496.5,-485 3490.5,-479 3490.5,-473 3490.5,-473 3490.5,-399 3490.5,-399 3490.5,-393 3496.5,-387 3502.5,-387 3502.5,-387 3634.5,-387 3634.5,-387 3640.5,-387 3646.5,-393 3646.5,-399 3646.5,-399 3646.5,-473 3646.5,-473 3646.5,-479 3640.5,-485 3634.5,-485\"/>\n<text text-anchor=\"start\" x=\"3537.5\" y=\"-469.8\" font-family=\"Helvetica,sans-Serif\" font-size=\"14.00\" fill=\"#000000\">node #89</text>\n<text text-anchor=\"start\" x=\"3511.5\" y=\"-454.8\" font-family=\"Helvetica,sans-Serif\" font-size=\"14.00\" fill=\"#000000\">Hematocrit ≤ 0.66</text>\n<text text-anchor=\"start\" x=\"3530.5\" y=\"-439.8\" font-family=\"Helvetica,sans-Serif\" font-size=\"14.00\" fill=\"#000000\">gini = 0.245</text>\n<text text-anchor=\"start\" x=\"3516.5\" y=\"-424.8\" font-family=\"Helvetica,sans-Serif\" font-size=\"14.00\" fill=\"#000000\">samples = 0.2%</text>\n<text text-anchor=\"start\" x=\"3498.5\" y=\"-409.8\" font-family=\"Helvetica,sans-Serif\" font-size=\"14.00\" fill=\"#000000\">value = [0.857, 0.143]</text>\n<text text-anchor=\"start\" x=\"3539.5\" y=\"-394.8\" font-family=\"Helvetica,sans-Serif\" font-size=\"14.00\" fill=\"#000000\">class = 0</text>\n</g>\n<!-- 87&#45;&gt;89 -->\n<g id=\"edge89\" class=\"edge\">\n<title>87&#45;&gt;89</title>\n<path fill=\"none\" stroke=\"#000000\" d=\"M3468.4362,-520.8642C3479.5994,-511.3967 3491.3679,-501.4158 3502.758,-491.7559\"/>\n<polygon fill=\"#000000\" stroke=\"#000000\" points=\"3505.2081,-494.2672 3510.5708,-485.1298 3500.6804,-488.9286 3505.2081,-494.2672\"/>\n</g>\n<!-- 90 -->\n<g id=\"node91\" class=\"node\">\n<title>90</title>\n<path fill=\"#399de5\" stroke=\"#000000\" d=\"M3548,-343.5C3548,-343.5 3449,-343.5 3449,-343.5 3443,-343.5 3437,-337.5 3437,-331.5 3437,-331.5 3437,-272.5 3437,-272.5 3437,-266.5 3443,-260.5 3449,-260.5 3449,-260.5 3548,-260.5 3548,-260.5 3554,-260.5 3560,-266.5 3560,-272.5 3560,-272.5 3560,-331.5 3560,-331.5 3560,-337.5 3554,-343.5 3548,-343.5\"/>\n<text text-anchor=\"start\" x=\"3467.5\" y=\"-328.3\" font-family=\"Helvetica,sans-Serif\" font-size=\"14.00\" fill=\"#000000\">node #90</text>\n<text text-anchor=\"start\" x=\"3469\" y=\"-313.3\" font-family=\"Helvetica,sans-Serif\" font-size=\"14.00\" fill=\"#000000\">gini = 0.0</text>\n<text text-anchor=\"start\" x=\"3446.5\" y=\"-298.3\" font-family=\"Helvetica,sans-Serif\" font-size=\"14.00\" fill=\"#000000\">samples = 0.0%</text>\n<text text-anchor=\"start\" x=\"3445\" y=\"-283.3\" font-family=\"Helvetica,sans-Serif\" font-size=\"14.00\" fill=\"#000000\">value = [0.0, 1.0]</text>\n<text text-anchor=\"start\" x=\"3469.5\" y=\"-268.3\" font-family=\"Helvetica,sans-Serif\" font-size=\"14.00\" fill=\"#000000\">class = 1</text>\n</g>\n<!-- 89&#45;&gt;90 -->\n<g id=\"edge90\" class=\"edge\">\n<title>89&#45;&gt;90</title>\n<path fill=\"none\" stroke=\"#000000\" d=\"M3542.8321,-386.8642C3537.0401,-375.7768 3530.8803,-363.9852 3525.0528,-352.8297\"/>\n<polygon fill=\"#000000\" stroke=\"#000000\" points=\"3527.9837,-350.8811 3520.2513,-343.6381 3521.7793,-354.1222 3527.9837,-350.8811\"/>\n</g>\n<!-- 91 -->\n<g id=\"node92\" class=\"node\">\n<title>91</title>\n<path fill=\"#e58139\" stroke=\"#000000\" d=\"M3689,-343.5C3689,-343.5 3590,-343.5 3590,-343.5 3584,-343.5 3578,-337.5 3578,-331.5 3578,-331.5 3578,-272.5 3578,-272.5 3578,-266.5 3584,-260.5 3590,-260.5 3590,-260.5 3689,-260.5 3689,-260.5 3695,-260.5 3701,-266.5 3701,-272.5 3701,-272.5 3701,-331.5 3701,-331.5 3701,-337.5 3695,-343.5 3689,-343.5\"/>\n<text text-anchor=\"start\" x=\"3608.5\" y=\"-328.3\" font-family=\"Helvetica,sans-Serif\" font-size=\"14.00\" fill=\"#000000\">node #91</text>\n<text text-anchor=\"start\" x=\"3610\" y=\"-313.3\" font-family=\"Helvetica,sans-Serif\" font-size=\"14.00\" fill=\"#000000\">gini = 0.0</text>\n<text text-anchor=\"start\" x=\"3587.5\" y=\"-298.3\" font-family=\"Helvetica,sans-Serif\" font-size=\"14.00\" fill=\"#000000\">samples = 0.2%</text>\n<text text-anchor=\"start\" x=\"3586\" y=\"-283.3\" font-family=\"Helvetica,sans-Serif\" font-size=\"14.00\" fill=\"#000000\">value = [1.0, 0.0]</text>\n<text text-anchor=\"start\" x=\"3610.5\" y=\"-268.3\" font-family=\"Helvetica,sans-Serif\" font-size=\"14.00\" fill=\"#000000\">class = 0</text>\n</g>\n<!-- 89&#45;&gt;91 -->\n<g id=\"edge91\" class=\"edge\">\n<title>89&#45;&gt;91</title>\n<path fill=\"none\" stroke=\"#000000\" d=\"M3594.5346,-386.8642C3600.4681,-375.6659 3606.7821,-363.7493 3612.7451,-352.4953\"/>\n<polygon fill=\"#000000\" stroke=\"#000000\" points=\"3615.8487,-354.1131 3617.438,-343.6381 3609.6633,-350.8357 3615.8487,-354.1131\"/>\n</g>\n</g>\n</svg>\n"
          },
          "metadata": {
            "tags": []
          },
          "execution_count": 150
        }
      ]
    },
    {
      "cell_type": "markdown",
      "metadata": {
        "id": "dEY_bCQ-u9QK",
        "colab_type": "text"
      },
      "source": [
        "Conclusão<br>\n",
        "Observando a arvore  de decisão, é possível observar que o primeiro parâmetro para identificar positivo para Sars-Covid-19 é o Leucócitos.<br>\n",
        "A classificação por arvore de decisão foi mais preciso"
      ]
    }
  ]
}